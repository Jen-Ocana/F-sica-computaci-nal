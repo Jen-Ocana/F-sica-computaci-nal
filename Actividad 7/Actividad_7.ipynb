{
  "nbformat": 4,
  "nbformat_minor": 0,
  "metadata": {
    "colab": {
      "name": "Actividad 7.ipynb",
      "provenance": [],
      "authorship_tag": "ABX9TyNp+WJPqr2NThwGDvGM1Rzw",
      "include_colab_link": true
    },
    "kernelspec": {
      "name": "python3",
      "display_name": "Python 3"
    }
  },
  "cells": [
    {
      "cell_type": "markdown",
      "metadata": {
        "id": "view-in-github",
        "colab_type": "text"
      },
      "source": [
        "<a href=\"https://colab.research.google.com/github/Jen-Ocana/Fisica-Computacional-1/blob/master/Actividad_7.ipynb\" target=\"_parent\"><img src=\"https://colab.research.google.com/assets/colab-badge.svg\" alt=\"Open In Colab\"/></a>"
      ]
    },
    {
      "cell_type": "markdown",
      "metadata": {
        "id": "wU3KAWY9L11k"
      },
      "source": [
        "#Actividad 7"
      ]
    },
    {
      "cell_type": "markdown",
      "metadata": {
        "id": "I0OyKBLmMOY8"
      },
      "source": [
        "##Bibliotecas"
      ]
    },
    {
      "cell_type": "code",
      "metadata": {
        "id": "plMqdNch3mNp"
      },
      "source": [
        "import numpy as np\r\n",
        "import scipy.linalg as la\r\n",
        "from numpy.linalg import matrix_power as mpow\r\n",
        "import matplotlib.pyplot as plt\r\n",
        "import pylab as pl\r\n",
        "import pandas as pd"
      ],
      "execution_count": 161,
      "outputs": []
    },
    {
      "cell_type": "code",
      "metadata": {
        "id": "Y3aVhu1EN2s3"
      },
      "source": [
        "# Implementación del método de eliminación Gaussiana\r\n",
        "# Definimos 3 funciones \r\n",
        "\r\n",
        "# Intercambio de posición de renglones.\r\n",
        "def switch_rows(A,i,j):\r\n",
        "    \"Intercambiar renglones i y j en la matriz A.\"\r\n",
        "    n = A.shape[0]\r\n",
        "    E = np.eye(n)\r\n",
        "    E[i,i] = 0\r\n",
        "    E[j,j] = 0\r\n",
        "    E[i,j] = 1\r\n",
        "    E[j,i] = 1\r\n",
        "    return E @ A\r\n",
        "\r\n",
        "# Multiplicar un renglón por una constante no nula.\r\n",
        "def scale_row(A,k,i):\r\n",
        "    \"Multiplicar el renglón i por k en la matriz A.\"\r\n",
        "    n = A.shape[0]\r\n",
        "    E = np.eye(n)\r\n",
        "    E[i,i] = k\r\n",
        "    return E @ A\r\n",
        "\r\n",
        "# Sumar un múltiplo de un reglon a otro renglón.\r\n",
        "def add_row(A,k,i,j):\r\n",
        "    \"Sumar k veces el renglón j al renglón i en la matriz A.\"\r\n",
        "    n = A.shape[0]\r\n",
        "    E = np.eye(n)\r\n",
        "    if i == j:\r\n",
        "        E[i,i] = k + 1\r\n",
        "    else:\r\n",
        "        E[i,j] = k\r\n",
        "    return E @ A"
      ],
      "execution_count": 162,
      "outputs": []
    },
    {
      "cell_type": "code",
      "metadata": {
        "id": "HSmtyef2MVI9"
      },
      "source": [
        "#Par que guarde porque me molesta\r\n"
      ],
      "execution_count": 163,
      "outputs": []
    },
    {
      "cell_type": "markdown",
      "metadata": {
        "id": "J2ACJA3m4kUV"
      },
      "source": [
        "##Ejercicio 1\r\n"
      ]
    },
    {
      "cell_type": "code",
      "metadata": {
        "colab": {
          "base_uri": "https://localhost:8080/"
        },
        "id": "TZox_yO74fge",
        "outputId": "11f9ea52-27fb-4667-bdf1-6bf89a0b7441"
      },
      "source": [
        "A = np.array([[1,3],[-1,7]])\r\n",
        "print(A)\r\n",
        "B= np.array([[5,2],[1,2]])\r\n",
        "print(B)\r\n",
        "I= np.eye(2,dtype=int)\r\n",
        "print(I)"
      ],
      "execution_count": 164,
      "outputs": [
        {
          "output_type": "stream",
          "text": [
            "[[ 1  3]\n",
            " [-1  7]]\n",
            "[[5 2]\n",
            " [1 2]]\n",
            "[[1 0]\n",
            " [0 1]]\n"
          ],
          "name": "stdout"
        }
      ]
    },
    {
      "cell_type": "markdown",
      "metadata": {
        "id": "z4uMIERn6gzM"
      },
      "source": [
        "Calcule el resultado de $2*I+3*A+A@B$."
      ]
    },
    {
      "cell_type": "code",
      "metadata": {
        "colab": {
          "base_uri": "https://localhost:8080/"
        },
        "id": "6OK1IVJU6l56",
        "outputId": "6a3f4065-2f33-450c-d2df-d5e86d6e4008"
      },
      "source": [
        "R = 2*I+3*A+A@B\r\n",
        "print(R)"
      ],
      "execution_count": 165,
      "outputs": [
        {
          "output_type": "stream",
          "text": [
            "[[13 17]\n",
            " [-1 35]]\n"
          ],
          "name": "stdout"
        }
      ]
    },
    {
      "cell_type": "markdown",
      "metadata": {
        "id": "2Wi35UoUMfUs"
      },
      "source": [
        "##Ejercicio 2. "
      ]
    },
    {
      "cell_type": "markdown",
      "metadata": {
        "id": "hyjTZaah7Sqr"
      },
      "source": [
        "\r\n",
        "Los polinomios característicos y el Teorema de Cayley-Hamilton.\r\n",
        "\r\n",
        "El polinomio característico de una matriz M esta dado en general por la ecuación$$\r\n",
        "\\det(M - \\lambda I) = 0\r\n",
        "$$Para una matriz cuadrada M (2x2), el polinomio característico se puede escribir como$$\r\n",
        "P_2 (\\lambda) = \\det{(M)} - \\mathrm{tr \\,}(M) \\, \\lambda + \\lambda^2   \r\n",
        "$$y para una matriz cuadrada M (3x3), el polinomio característico resulta ser\r\n",
        "\r\n",
        "$$\r\n",
        "P_3 (\\lambda) = \\frac{1}{6} \r\n",
        "[ \\mathrm{tr}^3 (M) + 2 \\, \\mathrm{tr }(M^3) - 3 \\, \\mathrm{tr}(M) \\mathrm{tr}(M^2) ] - \r\n",
        "\\frac{1}{2} [ \\mathrm{tr}^2 (M) - \\mathrm{tr}(M^2) ] \\lambda + \\mathrm{tr}(M) \\lambda^2 - \\lambda^3\r\n",
        "$$\r\n",
        "El Teorema de Cayley-Hamilton nos dice que una matriz cuadrada M (2x2), satisface el polinomio característico$$\r\n",
        "P_2(M) = \\det(M) - \\mathrm{tr}(M) M + M^2 \r\n",
        "$$y en general cualquier matriz cuadrada M (nxn), satisface $P_n(M)$."
      ]
    },
    {
      "cell_type": "markdown",
      "metadata": {
        "id": "9Jj7uWM875iS"
      },
      "source": [
        "Demuestre esto para cualquier matriz M (2x2), ($\\det(M) \\neq 0$)."
      ]
    },
    {
      "cell_type": "code",
      "metadata": {
        "id": "XKr5OtfPwh7F"
      },
      "source": [
        "M=np.array([[-2,4],[5,7]])"
      ],
      "execution_count": 166,
      "outputs": []
    },
    {
      "cell_type": "markdown",
      "metadata": {
        "id": "z7pRy3WffYq9"
      },
      "source": [
        "Lo haremos primero por $$\r\n",
        "\\det(M - \\lambda I) = 0\r\n",
        "$$\r\n",
        "   \\begin{equation}\r\n",
        "   Det=\r\n",
        "        \\begin{bmatrix}\r\n",
        "        -2 & 4\\\\\r\n",
        "         5 & 7\r\n",
        "         \\end{bmatrix}\r\n",
        "          \\begin{bmatrix}\r\n",
        "          \\lambda & 0\\\\\r\n",
        "          0 & \\lambda\r\n",
        "          \\end{bmatrix}\r\n",
        "          =0\r\n",
        "\r\n",
        "        \\end{equation}\\\r\n",
        "        \\begin{equation}\r\n",
        "        Det=\r\n",
        "        \\begin{bmatrix}\r\n",
        "        -2-\\lambda & 4\\\\\r\n",
        "        5 & 7-\\lambda\r\n",
        "        \\end{bmatrix}\r\n",
        "        \\\\\r\n",
        "        Det=(-2-\\lambda)(7-\\lambda)-(5)(4)\\\\\r\n",
        "        =(-14+2\\lambda-7\\lambda+\\lambda^2)-20\\\\\r\n",
        "        =\\lambda^2-5\\lambda-14-20=0\\\\\r\n",
        "        =\\lambda^2-5\\lambda-34=0\r\n",
        "\r\n",
        "        \r\n",
        "        \\end{equation}\r\n"
      ]
    },
    {
      "cell_type": "markdown",
      "metadata": {
        "id": "DbR0I91Mi3k0"
      },
      "source": [
        "P2(M)=det(M)−tr(M)M+M2"
      ]
    },
    {
      "cell_type": "code",
      "metadata": {
        "id": "zrm1m8I9kRho",
        "colab": {
          "base_uri": "https://localhost:8080/"
        },
        "outputId": "69eb4c25-28cf-42b1-ccd5-450507608e75"
      },
      "source": [
        "P2=la.det(M)*I-np.trace(M)*M+ M @ M\r\n",
        "print(P2)"
      ],
      "execution_count": 167,
      "outputs": [
        {
          "output_type": "stream",
          "text": [
            "[[0. 0.]\n",
            " [0. 0.]]\n"
          ],
          "name": "stdout"
        }
      ]
    },
    {
      "cell_type": "markdown",
      "metadata": {
        "id": "_m46jeVlLwZ8"
      },
      "source": [
        "##Ejercicio 3\r\n"
      ]
    },
    {
      "cell_type": "markdown",
      "metadata": {
        "id": "z8_ZV19ZQmON"
      },
      "source": [
        "Resuelva el sistema de ecuaciones.\r\n",
        "\r\n",
        "$$\\begin{eqnarray*}\r\n",
        "x - 3 y + z = 1 \\\\ \\nonumber\r\n",
        "3 x - 4y + z  =  5 \\\\ \\nonumber\r\n",
        "2 y - z  =  0 \\\\ \\nonumber\r\n",
        "\\end{eqnarray*}$$\r\n",
        "de dos formas, utilizando el Método de Eliminación Gaussiana y la utilzando la función scipy.linalg.solve()"
      ]
    },
    {
      "cell_type": "code",
      "metadata": {
        "colab": {
          "base_uri": "https://localhost:8080/"
        },
        "id": "T_aYuynlN4EH",
        "outputId": "9620eb2a-7bb1-4c5c-a4dd-9dd76aafe862"
      },
      "source": [
        "B=np.array([[1,-3,1,1],[3,-4,1,5],[0,2,-1,0]])\r\n",
        "print(B)"
      ],
      "execution_count": 168,
      "outputs": [
        {
          "output_type": "stream",
          "text": [
            "[[ 1 -3  1  1]\n",
            " [ 3 -4  1  5]\n",
            " [ 0  2 -1  0]]\n"
          ],
          "name": "stdout"
        }
      ]
    },
    {
      "cell_type": "code",
      "metadata": {
        "id": "kys6ccj4Tk9o"
      },
      "source": [
        "#for i in [0,2]:\r\n",
        "#  for row in [0,1]:\r\n",
        "#    if M[row+1,i]>0 or  M[row+1,i]<0:\r\n",
        "#      add_row(B,(M[row,i]/M[i,i]),row+1,i)\r\n",
        "#Print(B)"
      ],
      "execution_count": 169,
      "outputs": []
    },
    {
      "cell_type": "code",
      "metadata": {
        "colab": {
          "base_uri": "https://localhost:8080/"
        },
        "id": "ag63-nTBZBT5",
        "outputId": "794d90f9-b414-4159-dc2d-43c69e7fb77f"
      },
      "source": [
        "B1=add_row(B,-1*(B[1,0]/(B[0,0])),1,0)\r\n",
        "print(B1)\r\n",
        "#Sigue la segunda columna\r\n",
        "print()\r\n",
        "B2=scale_row(B1,1/5,1)\r\n",
        "B2=add_row(B2,3,0,1)\r\n",
        "\r\n",
        "\r\n",
        "B2=add_row(B2,-1*(B2[2,1]/(B2[1,1])),2,1)\r\n",
        "print(B2)\r\n",
        "\r\n",
        "print()\r\n",
        "\r\n",
        "#Columna 3 pivote reglon 3\r\n",
        "B3=scale_row(B2,1/(B2[2,2]),2)\r\n",
        "B3=add_row(B3,-1*(B3[1,2]/(B3[2,2])),1,2)\r\n",
        "B3=add_row(B3,-1*(B3[0,2]/(B3[2,2])),0,2)\r\n",
        "#Primero reescalamos de forma que tengamos un 1 en el reglon\r\n",
        "#Ya que directamente parece haber problemas de redondeo\r\n",
        "#Luego aplicamos el metodo general de dividir entre si mismo y \r\n",
        "#multiplicar por el -1 el reglon que se desea \"eliminar\"\r\n",
        "\r\n",
        "print(B3)\r\n",
        "Sol=B3"
      ],
      "execution_count": 170,
      "outputs": [
        {
          "output_type": "stream",
          "text": [
            "[[ 1. -3.  1.  1.]\n",
            " [ 0.  5. -2.  2.]\n",
            " [ 0.  2. -1.  0.]]\n",
            "\n",
            "[[ 1.   0.  -0.2  2.2]\n",
            " [ 0.   1.  -0.4  0.4]\n",
            " [ 0.   0.  -0.2 -0.8]]\n",
            "\n",
            "[[1. 0. 0. 3.]\n",
            " [0. 1. 0. 2.]\n",
            " [0. 0. 1. 4.]]\n"
          ],
          "name": "stdout"
        }
      ]
    },
    {
      "cell_type": "markdown",
      "metadata": {
        "id": "p455AUvVfEl1"
      },
      "source": [
        "La solucion es entonces\r\n",
        "$$x=3\\\\\r\n",
        "y=2\\\\\r\n",
        "z=4$$"
      ]
    },
    {
      "cell_type": "markdown",
      "metadata": {
        "id": "Y3R9IhkGfRlB"
      },
      "source": [
        "Usando scipy.linalg.eig"
      ]
    },
    {
      "cell_type": "code",
      "metadata": {
        "id": "y-psYqcefmKK"
      },
      "source": [
        "U=np.array([[1,-3,1],[3,-4,1],[0,2,-1]])\r\n",
        "b=np.array([[1],[5],[0]])"
      ],
      "execution_count": 171,
      "outputs": []
    },
    {
      "cell_type": "code",
      "metadata": {
        "colab": {
          "base_uri": "https://localhost:8080/"
        },
        "id": "NKtfFmjMfRN0",
        "outputId": "202020b2-f7c6-4a77-95e5-beeb6ef166d5"
      },
      "source": [
        "# Resolviendo el sistema de ecuaciones usando scipy.linalg.solve\r\n",
        "x_sol = la.solve(U, b)\r\n",
        "print(x_sol)"
      ],
      "execution_count": 172,
      "outputs": [
        {
          "output_type": "stream",
          "text": [
            "[[3.]\n",
            " [2.]\n",
            " [4.]]\n"
          ],
          "name": "stdout"
        }
      ]
    },
    {
      "cell_type": "markdown",
      "metadata": {
        "id": "qG3vxDwKgRSc"
      },
      "source": [
        "##Ejercicio 4"
      ]
    },
    {
      "cell_type": "code",
      "metadata": {
        "colab": {
          "base_uri": "https://localhost:8080/"
        },
        "id": "VmzHI04wgXkf",
        "outputId": "e095bf21-0e39-4458-e92f-af33f05d7893"
      },
      "source": [
        "A1=np.array([[2,0,0],[0,3,4],[0,4,9]])\r\n",
        "A2=np.array([[0,1,0],[0,0,1],[1,0,0]])\r\n",
        "A3=np.array([[2,0,0,0],[1,2,0,0],[0,1,3,0],[0,0,1,3]])\r\n",
        "print(A1)\r\n",
        "print()\r\n",
        "print(A2)\r\n",
        "print()\r\n",
        "print(A3)"
      ],
      "execution_count": 173,
      "outputs": [
        {
          "output_type": "stream",
          "text": [
            "[[2 0 0]\n",
            " [0 3 4]\n",
            " [0 4 9]]\n",
            "\n",
            "[[0 1 0]\n",
            " [0 0 1]\n",
            " [1 0 0]]\n",
            "\n",
            "[[2 0 0 0]\n",
            " [1 2 0 0]\n",
            " [0 1 3 0]\n",
            " [0 0 1 3]]\n"
          ],
          "name": "stdout"
        }
      ]
    },
    {
      "cell_type": "code",
      "metadata": {
        "colab": {
          "base_uri": "https://localhost:8080/"
        },
        "id": "zpAoO754g2LI",
        "outputId": "f15d6e6a-7d36-4de0-fb32-3a14d08f05ed"
      },
      "source": [
        "# Aplicamos la biblioteca scipy.linalg.eig()\r\n",
        "eigvals, eigvecs = la.eig(A1)\r\n",
        "print('Eigenvalores de A1:', eigvals)\r\n",
        "print('Eigenvectores de A1:', eigvecs)\r\n",
        "print()\r\n",
        "\r\n",
        "eigvals, eigvecs = la.eig(A2)\r\n",
        "print('Eigenvalores de A2:', eigvals)\r\n",
        "print('Eigenvectores de A2:', eigvecs)\r\n",
        "print()\r\n",
        "\r\n",
        "eigvals, eigvecs = la.eig(A3)\r\n",
        "print('Eigenvalores de A3:', eigvals)\r\n",
        "print('Eigenvectores de A3:', eigvecs)"
      ],
      "execution_count": 174,
      "outputs": [
        {
          "output_type": "stream",
          "text": [
            "Eigenvalores de A1: [11.+0.j  1.+0.j  2.+0.j]\n",
            "Eigenvectores de A1: [[ 0.          0.          1.        ]\n",
            " [ 0.4472136   0.89442719  0.        ]\n",
            " [ 0.89442719 -0.4472136   0.        ]]\n",
            "\n",
            "Eigenvalores de A2: [-0.5+0.8660254j -0.5-0.8660254j  1. +0.j       ]\n",
            "Eigenvectores de A2: [[ 0.57735027+0.j   0.57735027-0.j  -0.57735027+0.j ]\n",
            " [-0.28867513+0.5j -0.28867513-0.5j -0.57735027+0.j ]\n",
            " [-0.28867513-0.5j -0.28867513+0.5j -0.57735027+0.j ]]\n",
            "\n",
            "Eigenvalores de A3: [3.+0.j 3.+0.j 2.+0.j 2.+0.j]\n",
            "Eigenvectores de A3: [[ 0.00000000e+00  0.00000000e+00  0.00000000e+00  2.56395025e-16]\n",
            " [ 0.00000000e+00  0.00000000e+00  5.77350269e-01 -5.77350269e-01]\n",
            " [ 0.00000000e+00  6.66133815e-16 -5.77350269e-01  5.77350269e-01]\n",
            " [ 1.00000000e+00 -1.00000000e+00  5.77350269e-01 -5.77350269e-01]]\n"
          ],
          "name": "stdout"
        }
      ]
    },
    {
      "cell_type": "markdown",
      "metadata": {
        "id": "Xlkk74vSiVJL"
      },
      "source": [
        "Coinciden con wikipedia\r\n"
      ]
    },
    {
      "cell_type": "markdown",
      "metadata": {
        "id": "MDMHtH9Ejau6"
      },
      "source": [
        "##Ejercicio 5"
      ]
    },
    {
      "cell_type": "code",
      "metadata": {
        "colab": {
          "base_uri": "https://localhost:8080/",
          "height": 295
        },
        "id": "YSj-tF18jaaW",
        "outputId": "cbe6eba1-53d2-4389-f417-42937c537e0b"
      },
      "source": [
        "# Generamos los 10 puntos aleatorios entre 0 y 10.\r\n",
        "# graficamos los puntos aleatorios en rojo con puntos ('r.')\r\n",
        "\r\n",
        "#x = np.array([[0,0.5,1,1.5,2,2.5,3,3.5]])\r\n",
        "x=([0,0.5,1,1.5,2,2.5,3,3.5])\r\n",
        "#x=np.array(x).reshape(8,1)\r\n",
        "#print(x)\r\n",
        "#y = np.array([[0,0.47942,0.84147,0.99749,0.90930,0.59847,0.14112,-0.35078]])\r\n",
        "#y=np.array(y).reshape(8,1)\r\n",
        "y=([0,0.47942,0.84147,0.99749,0.90930,0.59847,0.14112,-0.35078])\r\n",
        "#print(y)\r\n",
        "plt.plot(x,y,'r.')\r\n",
        "plt.grid()\r\n",
        "plt.title('Puntos aleatorios que deseamos interpolar')\r\n",
        "plt.xlabel('x')\r\n",
        "plt.ylabel('y')\r\n",
        "plt.show()"
      ],
      "execution_count": 175,
      "outputs": [
        {
          "output_type": "display_data",
          "data": {
            "image/png": "[encoded data removed]",
            "text/plain": [
              "<Figure size 432x288 with 1 Axes>"
            ]
          },
          "metadata": {
            "tags": [],
            "needs_background": "light"
          }
        }
      ]
    },
    {
      "cell_type": "code",
      "metadata": {
        "colab": {
          "base_uri": "https://localhost:8080/"
        },
        "id": "bXHxVr5FuF9T",
        "outputId": "e0388bda-aeaa-4274-ce7e-9e7c70a4cc8a"
      },
      "source": [
        "\r\n",
        "X = np.vander(x,increasing=True)\r\n",
        "print(X[:5,:5])\r\n",
        "Sol_2=la.solve(X,y)\r\n",
        "print(Sol_2)\r\n"
      ],
      "execution_count": 176,
      "outputs": [
        {
          "output_type": "stream",
          "text": [
            "[[ 1.      0.      0.      0.      0.    ]\n",
            " [ 1.      0.5     0.25    0.125   0.0625]\n",
            " [ 1.      1.      1.      1.      1.    ]\n",
            " [ 1.      1.5     2.25    3.375   5.0625]\n",
            " [ 1.      2.      4.      8.     16.    ]]\n",
            "[ 0.00000000e+00  1.00067181e+00 -3.70788889e-03 -1.58867889e-01\n",
            " -8.30222222e-03  1.31964444e-02 -1.54488889e-03  2.46349206e-05]\n"
          ],
          "name": "stdout"
        }
      ]
    },
    {
      "cell_type": "code",
      "metadata": {
        "colab": {
          "base_uri": "https://localhost:8080/",
          "height": 295
        },
        "id": "N4dKlQ_IvWiN",
        "outputId": "14c55b64-130c-49c3-f6a5-4b8949d23c6e"
      },
      "source": [
        "xs = np.linspace(0,7,200)\r\n",
        "ys = sum([Sol_2[k]*xs**k for k in range(0,8)])\r\n",
        "plt.plot(x,y,'r.',xs,ys)\r\n",
        "plt.grid()\r\n",
        "plt.title('Polinomio interpolante p(x)')\r\n",
        "plt.xlabel('x')\r\n",
        "plt.ylabel('y')\r\n",
        "plt.show()"
      ],
      "execution_count": 177,
      "outputs": [
        {
          "output_type": "display_data",
          "data": {
            "image/png": "[encoded data removed]",
            "text/plain": [
              "<Figure size 432x288 with 1 Axes>"
            ]
          },
          "metadata": {
            "tags": [],
            "needs_background": "light"
          }
        }
      ]
    },
    {
      "cell_type": "code",
      "metadata": {
        "colab": {
          "base_uri": "https://localhost:8080/",
          "height": 295
        },
        "id": "bFWbFZ9vvhse",
        "outputId": "ccda2ba7-0903-48d5-f85b-3d41bb2d024b"
      },
      "source": [
        "xs = np.linspace(0,7,200)\r\n",
        "ys = sum([Sol_2[k]*xs**k for k in range(0,8)])\r\n",
        "xc=np.sin(xs)\r\n",
        "plt.plot(x,y,'r.',xs,ys)\r\n",
        "plt.grid()\r\n",
        "plt.plot(xs,xc,'g')\r\n",
        "plt.title('Polinomio interpolante p(x)')\r\n",
        "plt.xlabel('x')\r\n",
        "plt.ylabel('y')\r\n",
        "plt.show()"
      ],
      "execution_count": 178,
      "outputs": [
        {
          "output_type": "display_data",
          "data": {
            "image/png": "[encoded data removed]",
            "text/plain": [
              "<Figure size 432x288 with 1 Axes>"
            ]
          },
          "metadata": {
            "tags": [],
            "needs_background": "light"
          }
        }
      ]
    },
    {
      "cell_type": "markdown",
      "metadata": {
        "id": "WxZqiWPuj1US"
      },
      "source": [
        "##Actividad 6\r\n",
        "Regrese a su modelo de análisis de series de tiempo. Haga una descomposición de su serie de tiempo de las temperaturas (Tmax y Tmin), y realice una regresión lineal sobre la serie de Tendencia de Temp $(T = a_0 + a_1 t)$. Encuentre si la pendiente es positiva o negativa de la tendencia (signo de $a_1$), es decir si las Temperaturas (Tmax, Tmin) están subiendo o bajando en el periodo analizado."
      ]
    },
    {
      "cell_type": "markdown",
      "metadata": {
        "id": "xcBIj9cEmSHg"
      },
      "source": [
        "###Preparado de datos de la actividad 6\r\n"
      ]
    },
    {
      "cell_type": "code",
      "metadata": {
        "colab": {
          "base_uri": "https://localhost:8080/",
          "height": 456
        },
        "id": "gI2nlPjkmRyu",
        "outputId": "524dafd2-cacd-40ba-8960-04e3cc21a6b0"
      },
      "source": [
        "#En una celda concentramos todas las operaciones\r\n",
        "#Sobre las transformaciones del dataframe original\r\n",
        "# Preparando el dataframe df_meteo\r\n",
        "\r\n",
        "\r\n",
        "url='https://raw.githubusercontent.com/Jen-Ocana/Fisica-Computacional-1/master/Actividad%203/8352.txt'\r\n",
        "my_cols=['Fecha','Precip','Evap','Tmax','Tmin']\r\n",
        "df_orig=pd.read_csv(url,names=my_cols,encoding='cp1251',sep='\\s+',\r\n",
        "                    header=None,skiprows=19,skipfooter=1,engine='python')\r\n",
        "#definimos un data frame con los nombres de las columnas, el archivo tiene codigos ACII extendido que es el español, asi que se lo indicamos con encoding\r\n",
        "#Se brincara los primeros 19 reglones que no tienen info y le ultimo sin encabezado\r\n",
        "df_work0=df_orig.copy()\r\n",
        "#Cambiamos los espacios en blanco por 'nulo' \r\n",
        "str_Nulo='Nulo'\r\n",
        "df_work1=df_work0.replace(to_replace=str_Nulo,value='',regex=True)\r\n",
        "#Convertimos los valores de las variables ambientales a num. flotantes\r\n",
        "cols_list=['Precip','Evap','Tmax','Tmin']\r\n",
        "for cols in cols_list:\r\n",
        "  df_work1[cols]=pd.to_numeric(df_work1[cols],errors='coerce')\r\n",
        "#la copia por si es necesario\r\n",
        "df_work2=df_work1.copy()\r\n",
        "#El primer dato es el dia\r\n",
        "df_work2['Fecha']=pd.to_datetime(df_work2['Fecha'],dayfirst=True).copy()\r\n",
        "#Dos columnas adicionales, una de año y otra de mes\r\n",
        "#Usamos la funcion .dt.year y .dt.month para extraerlos de la fecha\r\n",
        "# Usaremos la función .dt.year y .dt.strftime(%b) para extraer el Año \r\n",
        "# y Mes (Abreviado) de la Fecha\r\n",
        "df_work2['Año']=df_work2['Fecha'].dt.year\r\n",
        "df_work2['Mes']=df_work2['Fecha'].dt.strftime('%b')\r\n",
        "##Para esta actividad definimos un nuevo dataframe para el analisis\r\n",
        "#Para nuevo punto de partida\r\n",
        "df_meteo = df_work2.copy()\r\n",
        "\r\n",
        "##ELIMINEMOS LA COLUMNA DE MES NUMERICO\r\n",
        "df_meteo.drop('Mes',axis=1,inplace=True)\r\n",
        "df_meteo['Mes']=df_meteo['Fecha'].dt.strftime('%b')\r\n",
        "\r\n",
        "\r\n",
        "df_meteo_ts = df_meteo.copy()\r\n",
        "\r\n",
        "df_meteo_ts = df_meteo_ts.set_index('Fecha')\r\n",
        "\r\n",
        "start, end ='1991-12','1997-12'\r\n",
        "df_meteo_ts.info()\r\n",
        "\r\n",
        "df_meteo_ts.head()"
      ],
      "execution_count": 179,
      "outputs": [
        {
          "output_type": "stream",
          "text": [
            "<class 'pandas.core.frame.DataFrame'>\n",
            "DatetimeIndex: 7907 entries, 1983-07-01 to 2007-11-30\n",
            "Data columns (total 6 columns):\n",
            " #   Column  Non-Null Count  Dtype  \n",
            "---  ------  --------------  -----  \n",
            " 0   Precip  7783 non-null   float64\n",
            " 1   Evap    0 non-null      float64\n",
            " 2   Tmax    7815 non-null   float64\n",
            " 3   Tmin    7819 non-null   float64\n",
            " 4   Año     7907 non-null   int64  \n",
            " 5   Mes     7907 non-null   object \n",
            "dtypes: float64(4), int64(1), object(1)\n",
            "memory usage: 432.4+ KB\n"
          ],
          "name": "stdout"
        },
        {
          "output_type": "execute_result",
          "data": {
            "text/html": [
              "<div>\n",
              "<style scoped>\n",
              "    .dataframe tbody tr th:only-of-type {\n",
              "        vertical-align: middle;\n",
              "    }\n",
              "\n",
              "    .dataframe tbody tr th {\n",
              "        vertical-align: top;\n",
              "    }\n",
              "\n",
              "    .dataframe thead th {\n",
              "        text-align: right;\n",
              "    }\n",
              "</style>\n",
              "<table border=\"1\" class=\"dataframe\">\n",
              "  <thead>\n",
              "    <tr style=\"text-align: right;\">\n",
              "      <th></th>\n",
              "      <th>Precip</th>\n",
              "      <th>Evap</th>\n",
              "      <th>Tmax</th>\n",
              "      <th>Tmin</th>\n",
              "      <th>Año</th>\n",
              "      <th>Mes</th>\n",
              "    </tr>\n",
              "    <tr>\n",
              "      <th>Fecha</th>\n",
              "      <th></th>\n",
              "      <th></th>\n",
              "      <th></th>\n",
              "      <th></th>\n",
              "      <th></th>\n",
              "      <th></th>\n",
              "    </tr>\n",
              "  </thead>\n",
              "  <tbody>\n",
              "    <tr>\n",
              "      <th>1983-07-01</th>\n",
              "      <td>0.0</td>\n",
              "      <td>NaN</td>\n",
              "      <td>NaN</td>\n",
              "      <td>NaN</td>\n",
              "      <td>1983</td>\n",
              "      <td>Jul</td>\n",
              "    </tr>\n",
              "    <tr>\n",
              "      <th>1983-07-02</th>\n",
              "      <td>0.0</td>\n",
              "      <td>NaN</td>\n",
              "      <td>NaN</td>\n",
              "      <td>NaN</td>\n",
              "      <td>1983</td>\n",
              "      <td>Jul</td>\n",
              "    </tr>\n",
              "    <tr>\n",
              "      <th>1983-07-03</th>\n",
              "      <td>0.0</td>\n",
              "      <td>NaN</td>\n",
              "      <td>27.0</td>\n",
              "      <td>NaN</td>\n",
              "      <td>1983</td>\n",
              "      <td>Jul</td>\n",
              "    </tr>\n",
              "    <tr>\n",
              "      <th>1983-07-04</th>\n",
              "      <td>0.0</td>\n",
              "      <td>NaN</td>\n",
              "      <td>29.0</td>\n",
              "      <td>9.0</td>\n",
              "      <td>1983</td>\n",
              "      <td>Jul</td>\n",
              "    </tr>\n",
              "    <tr>\n",
              "      <th>1983-07-05</th>\n",
              "      <td>0.0</td>\n",
              "      <td>NaN</td>\n",
              "      <td>31.0</td>\n",
              "      <td>12.0</td>\n",
              "      <td>1983</td>\n",
              "      <td>Jul</td>\n",
              "    </tr>\n",
              "  </tbody>\n",
              "</table>\n",
              "</div>"
            ],
            "text/plain": [
              "            Precip  Evap  Tmax  Tmin   Año  Mes\n",
              "Fecha                                          \n",
              "1983-07-01     0.0   NaN   NaN   NaN  1983  Jul\n",
              "1983-07-02     0.0   NaN   NaN   NaN  1983  Jul\n",
              "1983-07-03     0.0   NaN  27.0   NaN  1983  Jul\n",
              "1983-07-04     0.0   NaN  29.0   9.0  1983  Jul\n",
              "1983-07-05     0.0   NaN  31.0  12.0  1983  Jul"
            ]
          },
          "metadata": {
            "tags": []
          },
          "execution_count": 179
        }
      ]
    },
    {
      "cell_type": "code",
      "metadata": {
        "id": "dT6pr7U8nlS-"
      },
      "source": [
        "#Funcion que convierte la fecha a decimal\r\n",
        "from datetime import datetime as dt\r\n",
        "import time\r\n",
        "\r\n",
        "def toYearFraction(date):\r\n",
        "    def sinceEpoch(date): # returns seconds since epoch\r\n",
        "        return time.mktime(date.timetuple())\r\n",
        "    s = sinceEpoch\r\n",
        "\r\n",
        "    year = date.year\r\n",
        "    startOfThisYear = dt(year=year, month=1, day=1)\r\n",
        "    startOfNextYear = dt(year=year+1, month=1, day=1)\r\n",
        "\r\n",
        "    yearElapsed = s(date) - s(startOfThisYear)\r\n",
        "    yearDuration = s(startOfNextYear) - s(startOfThisYear)\r\n",
        "    fraction = yearElapsed/yearDuration\r\n",
        "\r\n",
        "    return date.year + fraction"
      ],
      "execution_count": 180,
      "outputs": []
    },
    {
      "cell_type": "code",
      "metadata": {
        "colab": {
          "base_uri": "https://localhost:8080/",
          "height": 204
        },
        "id": "6x07HxUwrzEW",
        "outputId": "b0196c51-f182-4b86-e02e-c736a43ff37a"
      },
      "source": [
        "df_tm=df_meteo\r\n",
        "df_tm.head()\r\n",
        "del(df_tm['Precip'],df_tm['Evap'],df_tm['Año'],df_tm['Mes'])\r\n",
        "df_tm.head()\r\n",
        "\r\n"
      ],
      "execution_count": 181,
      "outputs": [
        {
          "output_type": "execute_result",
          "data": {
            "text/html": [
              "<div>\n",
              "<style scoped>\n",
              "    .dataframe tbody tr th:only-of-type {\n",
              "        vertical-align: middle;\n",
              "    }\n",
              "\n",
              "    .dataframe tbody tr th {\n",
              "        vertical-align: top;\n",
              "    }\n",
              "\n",
              "    .dataframe thead th {\n",
              "        text-align: right;\n",
              "    }\n",
              "</style>\n",
              "<table border=\"1\" class=\"dataframe\">\n",
              "  <thead>\n",
              "    <tr style=\"text-align: right;\">\n",
              "      <th></th>\n",
              "      <th>Fecha</th>\n",
              "      <th>Tmax</th>\n",
              "      <th>Tmin</th>\n",
              "    </tr>\n",
              "  </thead>\n",
              "  <tbody>\n",
              "    <tr>\n",
              "      <th>0</th>\n",
              "      <td>1983-07-01</td>\n",
              "      <td>NaN</td>\n",
              "      <td>NaN</td>\n",
              "    </tr>\n",
              "    <tr>\n",
              "      <th>1</th>\n",
              "      <td>1983-07-02</td>\n",
              "      <td>NaN</td>\n",
              "      <td>NaN</td>\n",
              "    </tr>\n",
              "    <tr>\n",
              "      <th>2</th>\n",
              "      <td>1983-07-03</td>\n",
              "      <td>27.0</td>\n",
              "      <td>NaN</td>\n",
              "    </tr>\n",
              "    <tr>\n",
              "      <th>3</th>\n",
              "      <td>1983-07-04</td>\n",
              "      <td>29.0</td>\n",
              "      <td>9.0</td>\n",
              "    </tr>\n",
              "    <tr>\n",
              "      <th>4</th>\n",
              "      <td>1983-07-05</td>\n",
              "      <td>31.0</td>\n",
              "      <td>12.0</td>\n",
              "    </tr>\n",
              "  </tbody>\n",
              "</table>\n",
              "</div>"
            ],
            "text/plain": [
              "       Fecha  Tmax  Tmin\n",
              "0 1983-07-01   NaN   NaN\n",
              "1 1983-07-02   NaN   NaN\n",
              "2 1983-07-03  27.0   NaN\n",
              "3 1983-07-04  29.0   9.0\n",
              "4 1983-07-05  31.0  12.0"
            ]
          },
          "metadata": {
            "tags": []
          },
          "execution_count": 181
        }
      ]
    },
    {
      "cell_type": "code",
      "metadata": {
        "id": "d5K84iaWyAoK"
      },
      "source": [
        ""
      ],
      "execution_count": 181,
      "outputs": []
    },
    {
      "cell_type": "code",
      "metadata": {
        "colab": {
          "base_uri": "https://localhost:8080/"
        },
        "id": "ZNsR8gTJxNv7",
        "outputId": "5013a623-8e51-4321-80ba-c88cc403fa88"
      },
      "source": [
        "N=len(df_tm) \r\n",
        "\r\n",
        "df_tm['FechaDecimal']=df_tm['Tmax']\r\n",
        "print(df_tm)\r\n",
        "\r\n",
        "for o in range(N): \r\n",
        "  \r\n",
        "  df_tm['FechaDecimal'].iloc[o]=toYearFraction(df_tm['Fecha'].iloc[o])\r\n",
        "\r\n",
        "del(df_tm['Fecha']) \r\n",
        "\r\n",
        "print(df_tm)"
      ],
      "execution_count": 182,
      "outputs": [
        {
          "output_type": "stream",
          "text": [
            "          Fecha  Tmax  Tmin  FechaDecimal\n",
            "0    1983-07-01   NaN   NaN           NaN\n",
            "1    1983-07-02   NaN   NaN           NaN\n",
            "2    1983-07-03  27.0   NaN          27.0\n",
            "3    1983-07-04  29.0   9.0          29.0\n",
            "4    1983-07-05  31.0  12.0          31.0\n",
            "...         ...   ...   ...           ...\n",
            "7902 2007-11-26  26.0   3.0          26.0\n",
            "7903 2007-11-27  22.0   4.0          22.0\n",
            "7904 2007-11-28  20.0   4.0          20.0\n",
            "7905 2007-11-29  24.0   3.0          24.0\n",
            "7906 2007-11-30   NaN   3.0           NaN\n",
            "\n",
            "[7907 rows x 4 columns]\n"
          ],
          "name": "stdout"
        },
        {
          "output_type": "stream",
          "text": [
            "/usr/local/lib/python3.7/dist-packages/pandas/core/indexing.py:670: SettingWithCopyWarning: \n",
            "A value is trying to be set on a copy of a slice from a DataFrame\n",
            "\n",
            "See the caveats in the documentation: https://pandas.pydata.org/pandas-docs/stable/user_guide/indexing.html#returning-a-view-versus-a-copy\n",
            "  iloc._setitem_with_indexer(indexer, value)\n"
          ],
          "name": "stderr"
        },
        {
          "output_type": "stream",
          "text": [
            "      Tmax  Tmin  FechaDecimal\n",
            "0      NaN   NaN   1983.495890\n",
            "1      NaN   NaN   1983.498630\n",
            "2     27.0   NaN   1983.501370\n",
            "3     29.0   9.0   1983.504110\n",
            "4     31.0  12.0   1983.506849\n",
            "...    ...   ...           ...\n",
            "7902  26.0   3.0   2007.901370\n",
            "7903  22.0   4.0   2007.904110\n",
            "7904  20.0   4.0   2007.906849\n",
            "7905  24.0   3.0   2007.909589\n",
            "7906   NaN   3.0   2007.912329\n",
            "\n",
            "[7907 rows x 3 columns]\n"
          ],
          "name": "stdout"
        }
      ]
    },
    {
      "cell_type": "code",
      "metadata": {
        "colab": {
          "base_uri": "https://localhost:8080/"
        },
        "id": "9mQXUltR5MhB",
        "outputId": "d4e1701f-8553-4f32-a554-493bb0893999"
      },
      "source": [
        "x=df_tm['FechaDecimal']\r\n",
        "X=np.column_stack([np.ones(N),x])\r\n",
        "print('Shape:', X.shape)"
      ],
      "execution_count": 183,
      "outputs": [
        {
          "output_type": "stream",
          "text": [
            "Shape: (7907, 2)\n"
          ],
          "name": "stdout"
        }
      ]
    },
    {
      "cell_type": "code",
      "metadata": {
        "id": "guNhNGQr6cjj"
      },
      "source": [
        "df_tm.isnull().sum()\r\n",
        "df_tm.fillna(df_tm.mean(), inplace=True)   "
      ],
      "execution_count": 189,
      "outputs": []
    },
    {
      "cell_type": "code",
      "metadata": {
        "id": "26bnvo5s5f_u"
      },
      "source": [
        "ymax=np.array(df_tm['Tmax'])\r\n",
        "ymin=np.array(df_tm['Tmin'])"
      ],
      "execution_count": 190,
      "outputs": []
    },
    {
      "cell_type": "code",
      "metadata": {
        "colab": {
          "base_uri": "https://localhost:8080/"
        },
        "id": "QCQy6hq96KtG",
        "outputId": "a2537b90-ea93-4028-87a4-02ea1581bedf"
      },
      "source": [
        "amax = la.solve(X.T @ X, X.T @ ymax)\r\n",
        "amin = la.solve(X.T @ X, X.T @ ymin)\r\n",
        "print('Para Tmax')\r\n",
        "print(amax)\r\n",
        "print('Para Tmin')\r\n",
        "print(amin)"
      ],
      "execution_count": 191,
      "outputs": [
        {
          "output_type": "stream",
          "text": [
            "Para Tmax\n",
            "[-1.01560564e+02  6.28730186e-02]\n",
            "Para Tmin\n",
            "[ 1.59578918e+02 -7.66773103e-02]\n"
          ],
          "name": "stdout"
        }
      ]
    },
    {
      "cell_type": "markdown",
      "metadata": {
        "id": "9MA0i9t77BmF"
      },
      "source": [
        "Tenemos ahora el $a_0$ y el $a_1$ para Tmax y para Tmin de modo que las rectas nos quedan de la forma\r\n",
        "$$Tmax=-101.560564 + 0.0628730186 t $$\r\n",
        "$$Tmin=159.578918 - 0.0766773103 t $$"
      ]
    }
  ]
}