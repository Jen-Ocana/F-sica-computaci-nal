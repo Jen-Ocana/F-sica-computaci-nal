{
  "nbformat": 4,
  "nbformat_minor": 0,
  "metadata": {
    "colab": {
      "name": "Actividad 9.ipynb",
      "provenance": [],
      "collapsed_sections": []
    },
    "kernelspec": {
      "name": "python3",
      "display_name": "Python 3"
    }
  },
  "cells": [
    {
      "cell_type": "markdown",
      "metadata": {
        "id": "dTVGg6GN5vUX"
      },
      "source": [
        "#Actividad 9\n"
      ]
    },
    {
      "cell_type": "code",
      "metadata": {
        "id": "HuKpOArOyofZ"
      },
      "source": [
        "#celda de bibliotecas. Ocupamos para matrices\n",
        "import numpy as np\n",
        "import scipy.linalg as la\n",
        "from numpy.linalg import matrix_power as mpow\n",
        "import matplotlib.pyplot as plt\n",
        "import pylab as pl\n",
        "import pandas as pd"
      ],
      "execution_count": 3,
      "outputs": []
    },
    {
      "cell_type": "markdown",
      "metadata": {
        "id": "0IZQhBLlAsoJ"
      },
      "source": [
        "##Ejercicio 1\n",
        "\n",
        "\\begin{equation}\n",
        "\\frac{dx}{dt}=y \\ \\ (1)\\\\\n",
        "\\frac{dy}{dt}=-x \\ \\ (2)\n",
        "\\end{equation}"
      ]
    },
    {
      "cell_type": "markdown",
      "metadata": {
        "id": "lqONXPFwGB0v"
      },
      "source": [
        "###Mi desarrollo \n"
      ]
    },
    {
      "cell_type": "markdown",
      "metadata": {
        "id": "jl5bpCvtGEtT"
      },
      "source": [
        "Podemos escribir \n",
        "\\begin{equation}\n",
        "\\frac{dx}{dt}= 0 \\ x\\ + 1 \\ y\\\\\n",
        "\\frac{dy}{dt}=  (-1) \\ x+ 0 \\ y \\\\\n",
        "\\end{equation}\n",
        "de modo que la operacion matricial nos queda \n",
        "\\begin{equation}\n",
        "\\frac{d\\vec{c}}{dt}=\\frac{d}{dt}\n",
        "\\begin{bmatrix}\n",
        "x\\\\\n",
        "y\n",
        "\\end{bmatrix}=\n",
        "\\begin{bmatrix}\n",
        "0 & 1\\\\\n",
        "-1 & 0 \\\\\n",
        "\\end{bmatrix} \n",
        "\\begin{bmatrix}\n",
        "x\\\\\n",
        "y\n",
        "\\end{bmatrix}\n",
        "\\end{equation}"
      ]
    },
    {
      "cell_type": "markdown",
      "metadata": {
        "id": "3SRTy1T6K1uw"
      },
      "source": [
        "Podemos ver como los valores son 1 y -1 los que cae en el caso C donde podemos ubicar a \"a\" como 0 y -b como 1 e b como -1 de modo que calculamos las eigenvalores de la matriz\n",
        "\n"
      ]
    },
    {
      "cell_type": "code",
      "metadata": {
        "colab": {
          "base_uri": "https://localhost:8080/"
        },
        "id": "8rWFKWkLIoMC",
        "outputId": "63f8a51b-f83e-4231-f9e6-850ecda132ed"
      },
      "source": [
        "#Calculamos los eigen valores de la matriz\n",
        "c=np.array([[0,1],[-1,0]])\n",
        "\n",
        "\n",
        "print('Nuestra matriz es ')\n",
        "print(c) \n",
        "print()\n",
        "\n",
        "\n",
        "eival_1, eivec_1=la.eig(c)\n",
        "\n",
        "\n",
        "print('Los eigenvectores')\n",
        "print(eivec_1)\n",
        "print()\n",
        "\n",
        "print('Los eigenvalores')\n",
        "print(eival_1)"
      ],
      "execution_count": 4,
      "outputs": [
        {
          "output_type": "stream",
          "text": [
            "Nuestra matriz es \n",
            "[[ 0  1]\n",
            " [-1  0]]\n",
            "\n",
            "Los eigenvectores\n",
            "[[0.70710678+0.j         0.70710678-0.j        ]\n",
            " [0.        +0.70710678j 0.        -0.70710678j]]\n",
            "\n",
            "Los eigenvalores\n",
            "[0.+1.j 0.-1.j]\n"
          ],
          "name": "stdout"
        }
      ]
    },
    {
      "cell_type": "markdown",
      "metadata": {
        "id": "8EF42ael8zcs"
      },
      "source": [
        "Siendo entonces que nuestra parte real a es 0 y la parte imaginaria b es igual a 1 \\\\\n",
        "$$\n",
        "x(t)=[c_1(cos(bt)+isen(bt))v_1+c_2(cos(bt)-isen(bt))v_2]e^{at}$$\n"
      ]
    },
    {
      "cell_type": "markdown",
      "metadata": {
        "id": "8Ujz41Mk9l6z"
      },
      "source": [
        "**El punto critico lo podemos ubicar como centro** ya que a=0 y b siendo 1 es mayor que 0.\n",
        "**La solucion**\n",
        "$$x(t)=c_1(cos(t)+isen(t))v_1+c_2(cos(t)-isen(t))v_2$$"
      ]
    },
    {
      "cell_type": "code",
      "metadata": {
        "colab": {
          "base_uri": "https://localhost:8080/"
        },
        "id": "FzdOkoLP9gvH",
        "outputId": "3502ea51-16b4-4b87-87a9-ba33f0c504c5"
      },
      "source": [
        "v1_1=eivec_1[:,0]\n",
        "print(v1_1)\n",
        "v2_1=eivec_1[:,1]\n",
        "print(v2_1)"
      ],
      "execution_count": 5,
      "outputs": [
        {
          "output_type": "stream",
          "text": [
            "[0.70710678+0.j         0.        +0.70710678j]\n",
            "[0.70710678-0.j         0.        -0.70710678j]\n"
          ],
          "name": "stdout"
        }
      ]
    },
    {
      "cell_type": "markdown",
      "metadata": {
        "id": "18jFNq2OBgEu"
      },
      "source": [
        "\\begin{equation}\n",
        "x(t)=c_1[(cos(t)+isen(t))(1,i)]+c_2[(cos(t)-isen(t))(1,-i)\\\\\n",
        "x(t)=c_1cos(t)+ic_1sen(t)+c_2cos(t)-ic_2sen(t) \\ , \\ ic_1cos(t)-c_1sen(t)-ic_2cos(t)-c_2sen(t)\n",
        "\\end{equation}\n",
        "DE MODO QUE LA COMPONENTE X DEL RESULTADO ES \n",
        "\\begin{equation}\n",
        "x(t)=C_4sen(t)-C_3cos(t)\\\\\n",
        "y(t)=C_5cos(t)+C_6sen(t)\n",
        "\\end{equation}"
      ]
    },
    {
      "cell_type": "code",
      "metadata": {
        "colab": {
          "base_uri": "https://localhost:8080/",
          "height": 384
        },
        "id": "i_TJ4KaDXOsg",
        "outputId": "1e5952d4-de05-45ed-96a1-b4b31e741299"
      },
      "source": [
        "t=np.linspace(-10,15,200)\n",
        "f1=plt.figure();\n",
        "plt.figure(figsize=(10, 5)); \n",
        "for c1 in [0,1,2,3,4]:\n",
        "\n",
        "  for s in [-1,1]:\n",
        "    x=s*c1*np.sin(t)-s*c1*np.cos(t)\n",
        "    y=s*c1*np.sin(t)+s*c1*np.cos(t)\n",
        "    plt.plot(x,y)\n",
        "\n",
        "\n",
        "\n",
        "plt.grid();\n",
        "plt.ylim(-20, 50)\n",
        "plt.xlim(-10,10)\n",
        "plt.legend(loc='best');\n",
        "plt.xlabel('x(t)');\n",
        "plt.ylabel('y(t)');\n",
        "plt.title('Soluciones x(t), y(t)');\n",
        "plt.show();"
      ],
      "execution_count": 6,
      "outputs": [
        {
          "output_type": "stream",
          "text": [
            "No handles with labels found to put in legend.\n"
          ],
          "name": "stderr"
        },
        {
          "output_type": "display_data",
          "data": {
            "text/plain": [
              "<Figure size 432x288 with 0 Axes>"
            ]
          },
          "metadata": {
            "tags": []
          }
        },
        {
          "output_type": "display_data",
          "data": {
            "image/png": "[encoded data removed]",
            "text/plain": [
              "<Figure size 720x360 with 1 Axes>"
            ]
          },
          "metadata": {
            "tags": [],
            "needs_background": "light"
          }
        }
      ]
    },
    {
      "cell_type": "markdown",
      "metadata": {
        "id": "u_2wJNsmBTnT"
      },
      "source": [
        "##Ejercicio 2\n",
        "\n",
        "\\begin{equation}\n",
        "\\frac{dx}{dt}=y \\ \\ (1)\\\\\n",
        "\\frac{dy}{dt}=x \\ \\ (2)\n",
        "\\end{equation}"
      ]
    },
    {
      "cell_type": "markdown",
      "metadata": {
        "id": "i-F5_210ClPf"
      },
      "source": [
        "Se puede escribir como \n",
        "\\begin{equation}\n",
        "\\frac{dx}{dt}= 1 \\ y\\ + 0 \\ x\\\\\n",
        "\\frac{dy}{dt}=  0 \\ y+ 1 \\ x \\\\\n",
        "\\end{equation}\n",
        "de modo que la operacion matricial nos queda \n",
        "\\begin{equation}\n",
        "\\frac{d\\vec{x}}{dt}=\\frac{d}{dt}\n",
        "\\begin{bmatrix}\n",
        "y\\\\\n",
        "x\n",
        "\\end{bmatrix}=\n",
        "\\begin{bmatrix}\n",
        "1 & 0\\\\\n",
        "0 & 1 \\\\\n",
        "\\end{bmatrix} \n",
        "\\begin{bmatrix}\n",
        "y\\\\\n",
        "x\n",
        "\\end{bmatrix}\n",
        "\\end{equation}"
      ]
    },
    {
      "cell_type": "code",
      "metadata": {
        "colab": {
          "base_uri": "https://localhost:8080/"
        },
        "id": "aLCD1UJoGZeQ",
        "outputId": "bda9293a-7867-442b-8ea5-d4e53d9af68a"
      },
      "source": [
        "B=np.array([[1,0],[0,1]])\n",
        "eival2, eivec2=la.eig(B)\n",
        "\n",
        "print('Nuestra matriz es ')\n",
        "print(B) \n",
        "print()\n",
        "\n",
        "print('Los eigenvectores')\n",
        "print(eivec2)\n",
        "print()\n",
        "\n",
        "print('Los eigenvalores')\n",
        "print(eival2)"
      ],
      "execution_count": 7,
      "outputs": [
        {
          "output_type": "stream",
          "text": [
            "Nuestra matriz es \n",
            "[[1 0]\n",
            " [0 1]]\n",
            "\n",
            "Los eigenvectores\n",
            "[[1. 0.]\n",
            " [0. 1.]]\n",
            "\n",
            "Los eigenvalores\n",
            "[1.+0.j 1.+0.j]\n"
          ],
          "name": "stdout"
        }
      ]
    },
    {
      "cell_type": "code",
      "metadata": {
        "colab": {
          "base_uri": "https://localhost:8080/"
        },
        "id": "N0hAD2_3yGl_",
        "outputId": "4b43c4f7-97ba-4b1b-e5a9-90aaa9b0a53f"
      },
      "source": [
        "TraceB=np.trace(B)\n",
        "print('La traza es')\n",
        "print(TraceB)\n",
        "print()\n",
        "DetB=la.det(B)\n",
        "print('El determinante es')\n",
        "print(DetB)\n",
        "print()\n",
        "print('Delta es =')\n",
        "print((TraceB)**2-4*(DetB))\n",
        "print()"
      ],
      "execution_count": 8,
      "outputs": [
        {
          "output_type": "stream",
          "text": [
            "La traza es\n",
            "2\n",
            "\n",
            "El determinante es\n",
            "1.0\n",
            "\n",
            "Delta es =\n",
            "0.0\n",
            "\n"
          ],
          "name": "stdout"
        }
      ]
    },
    {
      "cell_type": "markdown",
      "metadata": {
        "id": "hEC0A_TYFxbt"
      },
      "source": [
        "Vemos que cae en el caso a entonces podemos ubicar a $\\lambda=\\mu=1$\\\\\n",
        "Que a su vez es tiene como punto critico un nodo inestable ya que ambos son iguales y mayores que 0.\\\\\n",
        "La solucion se puede escribir entonces\n",
        "\n",
        "$$x(t)=c_1exp(\\lambda t)v_1+c_2exp(\\mu t)v_2$$\n",
        "\n",
        "Donde $v_1=(1,0)$ y $v_2=(0,1)$\\\\\n",
        "\n",
        "$\\lambda = 1$ y $\\mu=1$\n",
        "$$x(t)=c_1 e^t(1,0)+c_2 e^{t} (0,1)$$\n",
        "$$x(t)=(c_1 e^t ,c_2 e^{t})$$"
      ]
    },
    {
      "cell_type": "code",
      "metadata": {
        "id": "oBggIPEbCvwi",
        "colab": {
          "base_uri": "https://localhost:8080/",
          "height": 384
        },
        "outputId": "b86579ce-5a03-4310-cb35-373e44075a3f"
      },
      "source": [
        "#Xsol=c1*np.exp(t)\n",
        "#Ysol=c2*np.exp(t)\n",
        "#x, y = Xsol,Ysol\n",
        "t=np.linspace(0,5,200)\n",
        "f1=plt.figure();\n",
        "plt.figure(figsize=(10, 5)); \n",
        "for c1 in [1,2,3,4]:\n",
        "  for c2 in [1,2,3,4]:\n",
        "    x=c1*np.exp(t)\n",
        "    y=c2*np.exp(t)\n",
        "    plt.plot(t,x,'r-');\n",
        "    plt.plot(t,y,'b-', alpha=0.5);\n",
        "plt.grid();\n",
        "plt.ylim(0, 50)\n",
        "plt.xlim(-10,10)\n",
        "plt.legend(loc='best');\n",
        "plt.xlabel('tiempo');\n",
        "plt.ylabel('Soluciones');\n",
        "plt.title('Soluciones x(t), y(t)');\n",
        "plt.show();\n",
        "\n"
      ],
      "execution_count": 9,
      "outputs": [
        {
          "output_type": "stream",
          "text": [
            "No handles with labels found to put in legend.\n"
          ],
          "name": "stderr"
        },
        {
          "output_type": "display_data",
          "data": {
            "text/plain": [
              "<Figure size 432x288 with 0 Axes>"
            ]
          },
          "metadata": {
            "tags": []
          }
        },
        {
          "output_type": "display_data",
          "data": {
            "image/png": "[encoded data removed]",
            "text/plain": [
              "<Figure size 720x360 with 1 Axes>"
            ]
          },
          "metadata": {
            "tags": [],
            "needs_background": "light"
          }
        }
      ]
    },
    {
      "cell_type": "code",
      "metadata": {
        "colab": {
          "base_uri": "https://localhost:8080/",
          "height": 367
        },
        "id": "OA1sBF6M5MWg",
        "outputId": "b17081da-4786-4f69-841e-deebca30f62a"
      },
      "source": [
        "#Xsol=c1*np.exp(t)\n",
        "#Ysol=c2*np.exp(t)\n",
        "#x, y = Xsol,Ysol\n",
        "t=np.linspace(0,5,200)\n",
        "f1=plt.figure();\n",
        "plt.figure(figsize=(10, 5)); \n",
        "for c1 in [1,2,3,4]:\n",
        "  for c2 in [1,2,3,4]:\n",
        "    x=c1*np.exp(t)\n",
        "    y=c2*np.exp(t)\n",
        "    label='c1=',c1,'c2=',c2\n",
        "    plt.plot(x,y,label=label);\n",
        "    \n",
        "    \n",
        "    \n",
        "plt.plot(np.exp(t),np.exp(t),'aqua',ls='--');\n",
        "plt.grid();\n",
        "plt.ylim(0, 50)\n",
        "plt.xlim(-10,10)\n",
        "plt.legend(loc='best');\n",
        "plt.xlabel('tiempo');\n",
        "plt.ylabel('Soluciones');\n",
        "plt.title('Soluciones x(t), y(t)');\n",
        "plt.show();"
      ],
      "execution_count": 22,
      "outputs": [
        {
          "output_type": "display_data",
          "data": {
            "text/plain": [
              "<Figure size 432x288 with 0 Axes>"
            ]
          },
          "metadata": {
            "tags": []
          }
        },
        {
          "output_type": "display_data",
          "data": {
            "image/png": "[encoded data removed]",
            "text/plain": [
              "<Figure size 720x360 with 1 Axes>"
            ]
          },
          "metadata": {
            "tags": [],
            "needs_background": "light"
          }
        }
      ]
    },
    {
      "cell_type": "markdown",
      "metadata": {
        "id": "azcEttMxBXOP"
      },
      "source": [
        "##Ejercicio 3\n",
        "\n",
        "\\begin{equation}\n",
        "\\frac{d^2x}{dt^2}+w^2_0x=0, w_0>0 \\ \\ (1)\n",
        "\\end{equation}"
      ]
    },
    {
      "cell_type": "markdown",
      "metadata": {
        "id": "T1aKJv0TIU0I"
      },
      "source": [
        "Lo podemos escribir como \n",
        "\\begin{equation}\n",
        "\\frac{dx}{dt}=w\\\\\n",
        "\\frac{d^2x}{dt^2}=-w_0^2x\\\\\n",
        "\\\\\n",
        "\\frac{dx}{dt}=w\n",
        "\\frac{dw}{dt}=-w_0^2x\n",
        "\\end{equation}\n",
        "De modo que\n",
        "\\begin{equation}\n",
        "\\frac{d\\vec{x}}{dt}=\\begin{bmatrix} 0 & 1\\\\\n",
        "-w_0^2 & 0\n",
        "\\end{bmatrix} \\begin{bmatrix}\n",
        "x\\\\\n",
        "w\n",
        "\\end{bmatrix}\n",
        "\\end{equation}\n",
        "Asumimos que $w_0$ es el valor inicial de la primera derivada y como nos dicen este es mayor a cero.\\\\\n",
        "$\\lambda$ sera entonces $(-\\lambda)(-\\lambda)-(-w_0^2)(1)=\\lambda^2+w_0^2=0$\n",
        "\n",
        "despejando lambda\n",
        "\n",
        "$\\lambda=\\sqrt{-w_o^2}$\n",
        "De modo que $\\lambda$ sera imaginario y tendra la forma\n",
        "$$X_1=[B_1cos\\beta t-B_2sen\\beta t]e^{\\alpha t}\\\\\n",
        "X_2=[B_2cos\\beta t+B_1sen\\beta t]e^{\\alpha t}$$\n",
        "donde B_1= parte real de los componentes de un eigenvector columna y B_2 es la parte imaginaria \n",
        "fuente:zill 9nva edicion pag.322\n",
        "$$X=[C_1(B_1 cos \\beta t-B_2 sen \\beta t)+C_2(B_2cos\\beta t+B_1sen\\beta t)]e^{\\alpha t}$$\n",
        "\n",
        "\n"
      ]
    },
    {
      "cell_type": "code",
      "metadata": {
        "colab": {
          "base_uri": "https://localhost:8080/",
          "height": 384
        },
        "id": "wRg4Tow7tHIS",
        "outputId": "86e3ed68-27f4-433b-a7e5-071d6f89f74f"
      },
      "source": [
        "t=np.linspace(0,5,500)\n",
        "f1=plt.figure();\n",
        "plt.figure(figsize=(10, 5)); \n",
        "\n",
        "for b in [1,2,3,4,5,6]:\n",
        "  for c1 in [1,2,3]:\n",
        "    for c2 in[3,4,5,6]:\n",
        "      x=[]\n",
        "      y=[]\n",
        "      for i in t:\n",
        "        A3=np.array([[0,1],[-1*b^2,0]])\n",
        "        eigval_3, eigvec_3 = la.eig(A3)\n",
        "      #  print(eigval_3)\n",
        "      # print(eigvec_3)\n",
        "        B11= (eigvec_3[:,0].real).reshape(2,1)\n",
        "        #print(B11)\n",
        "        B21=(eigvec_3[:,1].real).reshape(2,1)\n",
        "        #print(B21)\n",
        "        B12=(eigvec_3[:,0].imag).reshape(2,1)\n",
        "        #print(B12)\n",
        "        B22=(eigvec_3[:,1].imag).reshape(2,1)\n",
        "        #print(B22)\n",
        "      # print(abs(eigval_3[0].imag))\n",
        "        #print(abs(eigval_3[0].imag))\n",
        "        #print(abs(eigval_3[1].imag))\n",
        "        #print(abs(eigval_3[1].imag))\n",
        "        a=eigval_3.real\n",
        "        beta1=abs(eigval_3[0].imag)\n",
        "        #print(a)\n",
        "      # X=()*np.exp(a*t)\n",
        "        X=(c1*(B11*np.cos(abs(eigval_3[0].imag)*i)-B12*np.sin(abs(eigval_3[0].imag)*i))+c2*(B21*np.cos(abs(eigval_3[1].imag)*i)+B22*np.sin(abs(eigval_3[1].imag)*i)))*np.exp(a*i)\n",
        "        x.extend(X[0])\n",
        "        y.extend(X[1])\n",
        "      plt.plot(x,y)\n",
        "plt.grid();\n",
        "\n",
        "plt.legend(loc='best');\n",
        "plt.xlabel('x');\n",
        "plt.ylabel('y');\n",
        "plt.title('y vs x');\n",
        "plt.show();\n"
      ],
      "execution_count": 21,
      "outputs": [
        {
          "output_type": "stream",
          "text": [
            "No handles with labels found to put in legend.\n"
          ],
          "name": "stderr"
        },
        {
          "output_type": "display_data",
          "data": {
            "text/plain": [
              "<Figure size 432x288 with 0 Axes>"
            ]
          },
          "metadata": {
            "tags": []
          }
        },
        {
          "output_type": "display_data",
          "data": {
            "image/png": "[encoded data removed]",
            "text/plain": [
              "<Figure size 720x360 with 1 Axes>"
            ]
          },
          "metadata": {
            "tags": [],
            "needs_background": "light"
          }
        }
      ]
    },
    {
      "cell_type": "markdown",
      "metadata": {
        "id": "JhBcsW_k7Kqc"
      },
      "source": [
        "____________________________________________________________________________________"
      ]
    },
    {
      "cell_type": "markdown",
      "metadata": {
        "id": "D6sNE3n6BiRU"
      },
      "source": [
        "##Ejercicio 4\n",
        "\n",
        "\\begin{equation}\n",
        "\\frac{dx}{dt}=-2x\\ \\ (1)\\\\\n",
        "\\frac{dy}{dt}= 2z \\ \\ (2)\\\\\n",
        "\\frac{dz}{dt}= -2y \\ \\ (3)\n",
        "\\end{equation}"
      ]
    },
    {
      "cell_type": "markdown",
      "metadata": {
        "id": "oBcaroOzgCbB"
      },
      "source": [
        "En este caso siendo \n",
        "$\\vec{x}=(x,y,z)$\n",
        "\\begin{equation}\n",
        "\\frac{d \\vec{x} }{dt}=\\frac{d}{dt}\n",
        "\\begin{bmatrix}\n",
        "x \\\\\n",
        "y \\\\\n",
        "z\n",
        "\\end{bmatrix}\n",
        "=\\begin{bmatrix}\n",
        "-2 & 0 & 0 \\\\\n",
        "0 & 0 & 2 \\\\\n",
        "0 & -2 & 0\\\\\n",
        "\\end{bmatrix}\n",
        "\\begin{bmatrix}\n",
        "x \\\\\n",
        "y \\\\\n",
        "z\n",
        "\\end{bmatrix}\n",
        "\\end{equation}"
      ]
    },
    {
      "cell_type": "markdown",
      "metadata": {
        "id": "OuEguubEBzli"
      },
      "source": [
        "Punto critico es (0,0,0)\n"
      ]
    },
    {
      "cell_type": "markdown",
      "metadata": {
        "id": "r-PRbLE4lzUU"
      },
      "source": [
        "Declararemos la matrix para ver como son los puntos de equilibrio\n"
      ]
    },
    {
      "cell_type": "code",
      "metadata": {
        "id": "zer1Q9mHl4QB"
      },
      "source": [
        "D=np.array([[-2,0,0],[0,0,2],[0,-2,0]])\n",
        "print('Mi matriz es')\n",
        "print(D)\n",
        "print()\n",
        "TraceD=np.trace(D)\n",
        "print('La traza es')\n",
        "print(TraceD)\n",
        "print()\n",
        "DetD=la.det(D)\n",
        "print('El determinante es')\n",
        "print(DetD)\n",
        "print()\n",
        "print('Delta es =')\n",
        "print((TraceD)**2-4*(DetD))\n",
        "print()\n",
        "eival4, eivec4=la.eig(D)\n",
        "print('Los eigenvalores son')\n",
        "print(eival4)\n",
        "print()\n",
        "print('Los eigenvectores son')\n",
        "print(eivec4)\n",
        "\n"
      ],
      "execution_count": null,
      "outputs": []
    },
    {
      "cell_type": "markdown",
      "metadata": {
        "id": "j-EvFZ7Z61Fk"
      },
      "source": [
        "\n",
        "Tenemos un eigenvalor real y dos imaginarios $\\lambda_1=-2$, $\\lambda_2=+2i$,$\\lambda_3=-2i$\n",
        "\n",
        "\n",
        "De modo que la solucion tendria la forma \n",
        "$$\\vec{x}(t)=c_1(cos(2t)+isen(2t))v_1+c_2[(cos(2t)-isen(2t))v_2+c_3 exp(-2t)v_3 \n",
        "$$\n",
        "Si ponemos los reales en un eje y los imaginarios en otro podemos imaginar como en el plano de los imaginarios la solucion se ve como oscila y siendo que en la parte real este es negativo este oscilara decayendo. \n"
      ]
    },
    {
      "cell_type": "markdown",
      "metadata": {
        "id": "wp1dEappnL6Y"
      },
      "source": [
        "$v_1=(0,1,-i)$, $v_2=(0,-1,i)$,$v_3=(1,0,0)$\n",
        "\n",
        "$$\\vec{x}(t)=c_1(cos(2t)+isen(2t))(0,1,-i)+c_2[(cos(2t)-isen(2t))(0,-1,i)+c_3 exp(-2t)(1,0,0) \n",
        "$$\n",
        "$$\\vec{x}(t)=c_3 exp(-2t)   ,  \n",
        " c_1(cos(2t)+isen(2t))-c_2((cos(2t)-isen(2t))   ,   \n",
        "  -ic_1(cos(2t)+isen(2t))+ic_2[(cos(2t)-isen(2t))\n",
        "$$\n",
        "\n",
        "$$\\vec{x}(t)=c_3 exp(-2t)   ,  \n",
        " c_1cos(2t)+c_2sen(2t)  ,   c_1sen(2t)-c_2cos(2t) \n",
        "$$\n",
        "\n",
        "$$x(t)=c_3 exp(-2t)  \\\\\n",
        "y(t)=c_1cos(2t)+c_2sen(2t)\\\\\n",
        "z(t)=c_1sen(2t)-c_2cos(2t) $$\n",
        "\n"
      ]
    },
    {
      "cell_type": "code",
      "metadata": {
        "id": "j7vkY_o5IobY"
      },
      "source": [
        "# importing mplot3d toolkits, numpy and matplotlib\n",
        "from mpl_toolkits import mplot3d\n",
        "import numpy as np\n",
        "import matplotlib.pyplot as plt\n",
        "  \n",
        "fig = plt.figure()\n",
        "  \n",
        "# syntax for 3-D projection\n",
        "ax = plt.axes(projection ='3d')\n",
        "t=np.linspace(0,50,300)\n",
        "# defining all 3 axes\n",
        "for c1 in [1,4]:\n",
        "  for c2 in [1,4]:\n",
        "    for c3 in [1,3]:\n",
        "\n",
        "      z = c1*np.sin(2*t)-c2*np.cos(2*t)\n",
        "      x = c3*np.exp(-2*t)\n",
        "      y =c2*np.sin(2*t)+c1*np.cos(2*t)\n",
        "      ax.plot3D(x, y, z)\n",
        "# plotting\n",
        "#ax.plot3D(x, y, z, 'green')\n",
        "ax.set_title('Solucion en espacio fase')\n",
        "plt.show()"
      ],
      "execution_count": null,
      "outputs": []
    },
    {
      "cell_type": "markdown",
      "metadata": {
        "id": "_UgNCiRUQ6XK"
      },
      "source": [
        "Una sola solucion en particular"
      ]
    },
    {
      "cell_type": "code",
      "metadata": {
        "id": "EiwJi0zvQ3aF"
      },
      "source": [
        "# importing mplot3d toolkits, numpy and matplotlib\n",
        "from mpl_toolkits import mplot3d\n",
        "import numpy as np\n",
        "import matplotlib.pyplot as plt\n",
        "  \n",
        "fig = plt.figure()\n",
        "  \n",
        "# syntax for 3-D projection\n",
        "ax = plt.axes(projection ='3d')\n",
        "t=np.linspace(0,50,300)\n",
        "# defining all 3 axes\n",
        "for c1 in [1,2,3,4]:\n",
        "  for c2 in [1,2,3,4]:\n",
        "    for c3 in [1,2,3,4]:\n",
        "\n",
        "      z = c1*np.sin(2*t)-c2*np.cos(2*t)\n",
        "      x = c3*np.exp(-2*t)\n",
        "      y =c2*np.sin(2*t)+c1*np.cos(2*t)\n",
        "      \n",
        "      \n",
        "# plotting\n",
        "ax.plot3D(x, y, z, 'green')\n",
        "ax.set_title('Solcuion en espacio fase')\n",
        "plt.show()"
      ],
      "execution_count": null,
      "outputs": []
    },
    {
      "cell_type": "markdown",
      "metadata": {
        "id": "Nvj01LjfBuyx"
      },
      "source": [
        "##Ejercicio 5\n",
        "\n",
        "\\begin{equation}\n",
        "\\frac{dx}{dt}=-x+z\\ \\ (1)\\\\\n",
        "\\frac{dy}{dt}= 3y \\ \\ (2)\\\\\n",
        "\\frac{dz}{dt}= -x-z \\ \\ (3)\n",
        "\\end{equation}"
      ]
    },
    {
      "cell_type": "markdown",
      "metadata": {
        "id": "_RIbncEvb7Ht"
      },
      "source": [
        "En este caso siendo \n",
        "$\\vec{x}=(x,y,z)$\n",
        "\\begin{equation}\n",
        "\\frac{d \\vec{x} }{dt}=\\frac{d}{dt}\n",
        "\\begin{bmatrix}\n",
        "x \\\\\n",
        "y \\\\\n",
        "z\n",
        "\\end{bmatrix}\n",
        "=A\n",
        "\\begin{bmatrix}\n",
        "x \\\\\n",
        "y \\\\\n",
        "z\n",
        "\\end{bmatrix}\n",
        "=\\begin{bmatrix}\n",
        "-1 & 0 & 1 \\\\\n",
        "0 & 3 & 0 \\\\\n",
        "-1 & 0 & -1\\\\\n",
        "\\end{bmatrix}\n",
        "\\begin{bmatrix}\n",
        "x \\\\\n",
        "y \\\\\n",
        "z\n",
        "\\end{bmatrix}\n",
        "\\end{equation}"
      ]
    },
    {
      "cell_type": "code",
      "metadata": {
        "id": "CGTiA2pxhJBl"
      },
      "source": [
        "A5=np.array([[-1,0,1],[0,3,0],[-1,0,-1]])\n",
        "print('La matriz en cuestion A es ')\n",
        "print(A5)\n",
        "print()\n",
        "\n",
        "eival5, eivec5=la.eig(A5)\n",
        "print('Los eigenvalores son')\n",
        "print(eival5)\n",
        "print()\n",
        "print('Los eigenvectores son')\n",
        "print(eivec5)\n"
      ],
      "execution_count": null,
      "outputs": []
    },
    {
      "cell_type": "markdown",
      "metadata": {
        "id": "EAUhxpzRnJ7D"
      },
      "source": [
        "De modo que la solucion tendra la forma \n",
        "$$x(t)=[c_1(cos(t)+isen(t))v_1+c_2[(cos(-t)-isen(-t))v_2][e^{-t}]+c_3 e^{3t}v_3 \n",
        "$$"
      ]
    },
    {
      "cell_type": "markdown",
      "metadata": {
        "id": "Molo_lpGYR2b"
      },
      "source": [
        "Dado que le valor real de la parte oscilatoria es negativo quiere decir que convergera a el punto critico sin embargo en el tercer eje tenemos la solucion real que al ser positiva quiere decir que nos queda como espiral que sube cerrandose. El punto critico es el origen"
      ]
    },
    {
      "cell_type": "code",
      "metadata": {
        "id": "hj0mYsX7T688"
      },
      "source": [
        "# importing mplot3d toolkits, numpy and matplotlib\n",
        "from mpl_toolkits import mplot3d\n",
        "import numpy as np\n",
        "import matplotlib.pyplot as plt\n",
        "  \n",
        "fig = plt.figure()\n",
        "  \n",
        "# syntax for 3-D projection\n",
        "ax = plt.axes(projection ='3d')\n",
        "t=np.linspace(0,50,300)\n",
        "# defining all 3 axes\n",
        "for c1 in [1,4]:\n",
        "  for c2 in [1,4]:\n",
        "    for c3 in [1,3]:\n",
        "\n",
        "      x= (c1*np.sin(t)-c2*np.cos(t))*np.exp(-t)\n",
        "      y = (c1*np.cos(t)+c2*np.sin(t))*np.exp(-t)\n",
        "      z =c3*np.exp(3*t)\n",
        "      ax.plot3D(x, y, z)\n",
        "# plotting\n",
        "#ax.plot3D(x, y, z, 'green')\n",
        "ax.set_title('Solucion en espacio fase')\n",
        "plt.xlim(-5,5)\n",
        "plt.ylim(-5,5)\n",
        "\n",
        "plt.show()"
      ],
      "execution_count": null,
      "outputs": []
    },
    {
      "cell_type": "markdown",
      "metadata": {
        "id": "KPTIHewyDlEx"
      },
      "source": [
        "##Problemas de valor inicial"
      ]
    },
    {
      "cell_type": "markdown",
      "metadata": {
        "id": "kX1n4w3-DqIp"
      },
      "source": [
        "##Ejercicio 6\n",
        "\n",
        "\\begin{equation}\n",
        "\\frac{dx}{dt}=-x\\ \\ \\ \\ \\ \\ \\ \\ \\ \\ \\ \\ \\ \\ \\ \\ \\ \\ \\ (1)\\\\\n",
        "\\frac{dy}{dt}= x+2y \\ \\ \\ \\ \\ \\ \\ \\ \\ \\ \\ \\ \\ \\ \\ (2)\\\\\n",
        "x(0)=0, \\ \\ \\ \\ y(0)=3\\ \\ \\ (3)\n",
        "\\end{equation}"
      ]
    },
    {
      "cell_type": "markdown",
      "metadata": {
        "id": "pzvc7Mu6oSc5"
      },
      "source": [
        "En este caso siendo \n",
        "$\\vec{x}=(x,y)$\n",
        "\\begin{equation}\n",
        "\\frac{d \\vec{x} }{dt}=\\frac{d}{dt}\n",
        "\\begin{bmatrix}\n",
        "x \\\\\n",
        "y \n",
        "\\end{bmatrix}\n",
        "=A\n",
        "\\begin{bmatrix}\n",
        "x \\\\\n",
        "y \n",
        "\\end{bmatrix}\n",
        "=\\begin{bmatrix}\n",
        "-1 & 0  \\\\\n",
        "1 & 2 \\\\\n",
        "\\end{bmatrix}\n",
        "\\begin{bmatrix}\n",
        "x \\\\\n",
        "y \\\\\n",
        "\\end{bmatrix}\n",
        "\\end{equation}\n"
      ]
    },
    {
      "cell_type": "code",
      "metadata": {
        "id": "PVGksb_coxSl"
      },
      "source": [
        "A6=np.array([[-1,0],[1,2]])\n",
        "\n",
        "print('La matriz en cuestion A es ')\n",
        "print(A6)\n",
        "print()\n",
        "\n",
        "eival6, eivec6=la.eig(A6)\n",
        "print('Los eigenvalores son')\n",
        "print(eival6)\n",
        "print()\n",
        "print('Los vectores correspondientes son')\n",
        "print(eivec6)"
      ],
      "execution_count": null,
      "outputs": []
    },
    {
      "cell_type": "markdown",
      "metadata": {
        "id": "KtLklatjotgN"
      },
      "source": [
        "Ya que son reales y distintos los dos caen en el caso A y siendo uno positivo y otro negativo este tiene como punto critico un punto silla, la solucion tiene forma \n",
        "$$\\vec{x}(t)=c_1e^{2t}v_1+c_2e^{-t}v_2$$\n",
        "Siendo $v_1=(0,1)$ y $v_2=(0.94,-0.31)$\n",
        "$$\\vec{x}(t)=c_1e^{2t}((0,1)+c_2e^{-t}(0.94,-0.31)$$\n",
        "$$\\vec{x}(t)=0c_1e^{2t}+0.94c_2e^{-t},c_1e^{2t} -0.31c_2e^{-t}$$\n",
        "Entonces la funcion x es\n",
        "$$x(t)= 0.94c_2e^{-t}\n",
        "\\\\\n",
        "y(t)=c_1e^{2t} -0.31c_2e^{-t}$$\n"
      ]
    },
    {
      "cell_type": "code",
      "metadata": {
        "id": "7VIihhCweC3z"
      },
      "source": [
        "import numpy as np\n",
        "from scipy import integrate, linalg\n",
        "import pylab as plt\n",
        "\n",
        "def dX_dt(X, t=0):\n",
        "    \"\"\" El lado derecho del sistema de ecuaciones \"\"\"\n",
        "    return np.array([ -1*X[0] ,\n",
        "                  X[0]+2*X[1]])\n",
        "    \n",
        "# Los puntos críticos del sistema\n",
        "X_f0 = np.array([     0. ,  0.])\n",
        "\n",
        "print('Punto crítico del sistema')\n",
        "print('Punto crítico X_f0:', X_f0)\n",
        "print(' ')\n",
        "# En los puntos críticos se anulan las derivadas. \n",
        "all(dX_dt(X_f0) == np.zeros(2) )\n"
      ],
      "execution_count": null,
      "outputs": []
    },
    {
      "cell_type": "code",
      "metadata": {
        "id": "eHJVxUitctEH"
      },
      "source": [
        "\n",
        "lambda1 = eival6[0]\n",
        "lambda2 = eival6[1]\n",
        "print('Eigenvalores')\n",
        "print('lambda1= ', lambda1)\n",
        "print('lambda2= ', lambda2)\n",
        "print(' ')\n",
        "print('Eigenvectores')\n",
        "v1 = eivec6[:,0]\n",
        "v2 = eivec6[:,1]\n",
        "print('v1=',v1)\n",
        "print('v2=',v2)"
      ],
      "execution_count": null,
      "outputs": []
    },
    {
      "cell_type": "code",
      "metadata": {
        "id": "w37zCQAQd4Wc"
      },
      "source": [
        "\n",
        "t = np.linspace(1, 5,  500)              # Rango de tiempo de integración\n",
        "X0 = np.array([0, 3])                     # Condiciones iniciales\n",
        "X, infodict = integrate.odeint(dX_dt, X0, t, full_output=True)\n",
        "infodict['message']\n",
        "x,y=X.T\n",
        "plt.plot(x, y, 'r-')\n",
        "plt.xlabel('x')\n",
        "plt.ylabel('y')\n",
        "plt.grid()\n",
        "plt.ylim(0, 10)\n",
        "plt.xlim(-1, 10)\n",
        "plt.title('Solución X(t) en el plano fase')\n",
        "plt.show()"
      ],
      "execution_count": null,
      "outputs": []
    },
    {
      "cell_type": "markdown",
      "metadata": {
        "id": "9AmaB_o_tGgu"
      },
      "source": [
        "Vemos que si cumple con lo descrito\n"
      ]
    },
    {
      "cell_type": "markdown",
      "metadata": {
        "id": "Zn8UB72jEJ3S"
      },
      "source": [
        "##Ejercicio 7\n",
        "\n",
        "\\begin{equation}\n",
        "\\frac{dx}{dt}=2x +y \\ \\ \\ \\ \\ \\ \\ \\ \\ \\ \\ \\ \\ \\ \\ \\ \\ (1)\\\\\n",
        "\\frac{dy}{dt}= x+ y \\ \\ \\ \\ \\ \\ \\ \\ \\ \\ \\ \\ \\ \\ \\ \\ \\ \\ (2)\\\\\n",
        "x(1)=1, \\ \\ \\ \\ y(1)=1\\ \\ \\ (3)\n",
        "\\end{equation}"
      ]
    },
    {
      "cell_type": "markdown",
      "metadata": {
        "id": "235D8W6ktM_y"
      },
      "source": [
        "En este caso siendo \n",
        "$\\vec{x}=(x,y)$\n",
        "\\begin{equation}\n",
        "\\frac{d \\vec{x} }{dt}=\\frac{d}{dt}\n",
        "\\begin{bmatrix}\n",
        "x \\\\\n",
        "y \n",
        "\\end{bmatrix}\n",
        "=A\n",
        "\\begin{bmatrix}\n",
        "x \\\\\n",
        "y \n",
        "\\end{bmatrix}\n",
        "=\\begin{bmatrix}\n",
        "2 & 1  \\\\\n",
        "1 & 1 \\\\\n",
        "\\end{bmatrix}\n",
        "\\begin{bmatrix}\n",
        "x \\\\\n",
        "y \\\\\n",
        "\\end{bmatrix}\n",
        "\\end{equation}\n"
      ]
    },
    {
      "cell_type": "code",
      "metadata": {
        "id": "doaJ78MMta5g"
      },
      "source": [
        "A7=np.array([[2,1],[1,1]])\n",
        "\n",
        "print('La matriz en cuestion A es ')\n",
        "print(A7)\n",
        "print()\n",
        "\n",
        "eival7, eivec7=la.eig(A7)\n",
        "print('Los eigenvalores son')\n",
        "print(eival7)\n",
        "print()\n",
        "print('Los vectores correspondientes son')\n",
        "print(eivec7)"
      ],
      "execution_count": null,
      "outputs": []
    },
    {
      "cell_type": "code",
      "metadata": {
        "id": "PdUjCmKVuGlF"
      },
      "source": [
        "TraceA=np.trace(A7)\n",
        "print('La traza es')\n",
        "print(TraceA)\n",
        "print()\n",
        "DetA=la.det(A7)\n",
        "print('El determinante es')\n",
        "print(DetA)\n",
        "print()\n",
        "print('Delta es =')\n",
        "print((TraceA)**2-4*(DetA))\n",
        "print()"
      ],
      "execution_count": null,
      "outputs": []
    },
    {
      "cell_type": "code",
      "metadata": {
        "id": "EpLtOEpwj9Zc"
      },
      "source": [
        "\n",
        "def dX_dt(X, t=1):\n",
        "    \"\"\" El lado derecho del sistema de ecuaciones \"\"\"\n",
        "    return np.array([ 2*X[0] + X[1] ,\n",
        "                  X[0]+X[1]])\n",
        "    \n",
        "X_f0=np.array([0.0,  0.0  ])\n",
        "#Puntos criticos \n",
        "all(dX_dt(X_f0) == np.zeros(2) )\n"
      ],
      "execution_count": null,
      "outputs": []
    },
    {
      "cell_type": "code",
      "metadata": {
        "id": "JqNlKNXWkgug"
      },
      "source": [
        "t = np.linspace(1, 5,  500)              # Rango de tiempo de integración\n",
        "X0 = np.array([1, 1])                     # Condiciones iniciales\n",
        "X, infodict = integrate.odeint(dX_dt, X0, t, full_output=True)\n",
        "infodict['message']\n",
        "x,y=X.T\n",
        "plt.plot(x, y, 'aqua')\n",
        "plt.xlabel('x')\n",
        "plt.ylabel('y')\n",
        "plt.grid()\n",
        "plt.ylim(0, 10)\n",
        "plt.xlim(0, 10)\n",
        "plt.title('Solución X(t) en el plano fase')\n",
        "plt.show()"
      ],
      "execution_count": null,
      "outputs": []
    },
    {
      "cell_type": "markdown",
      "metadata": {
        "id": "BprD2sDKtlme"
      },
      "source": [
        "Vemos que de nuevo los eigen valores son reales y distintos por lo que cae en el caso A, siendo los dos positivos el punto critico es un nodo inestable de tipo \"source\".\n",
        "\n",
        "La forma de la solucion es de la forma \n",
        "$$\\vec{x}(t)=c_1e^{2.62t}(0.85,0.53)+c_2e^{0.38t}(-0.53,0.85)$$\n",
        "$$\\vec{x}(t)=0.85c_1e^{2.62t}-0.53c_2e^{0.38t} \\ , \\ 0.53c_1e^{2.62t}+0.85c_2e^{0.38t}$$\n",
        "\n",
        "\n",
        "$$x(t)=0.85c_1e^{2.62t}-0.53c_2e^{0.38t}$$\n",
        "$$x(1)=0.85c_1e^{2.62}-0.53c_2e^{0.38}=1$$\n",
        "\n",
        "$$y(t)=0.53c_1e^{2.62t}+0.85c_2e^{0.38t}$$\n",
        "$$y(1)=0.53c_1e^{2.62}+0.85c_2e^{0.38}=1$$\n",
        "\n",
        "podemos hacer un sistema de ecuaciones lineales\n",
        "$$0.85c_1e^{2.62}-0.53c_2e^{0.38}=1 \\\\\n",
        "0.53c_1e^{2.62}+0.85c_2e^{0.38}=1$$\n",
        "\\begin{bmatrix}\n",
        "0.85 e^{2.62}  & -0.53e^{0.38}  | & 1\\\\\n",
        "0.53e^{2.62}  & 0.85e^{0.38} |& 1\n",
        "\\end{bmatrix}\n",
        "Si resolvemos este sistema de ecuaciones lineales nos da que $$c_1=0.1000$$\n",
        "$$c_2=0.2181$$\n",
        "\n"
      ]
    },
    {
      "cell_type": "markdown",
      "metadata": {
        "id": "-6LdgEvzz2wR"
      },
      "source": [
        "FINALMENTE \n",
        "\n",
        "$$x(t)=0.085e^{2.62t}-0.053e^{0.38t}$$\n",
        "\n",
        "$$y(t)=0.1156e^{2.62t}+0.1854e^{0.38t}$$"
      ]
    },
    {
      "cell_type": "markdown",
      "metadata": {
        "id": "ZCVzCykpEWCZ"
      },
      "source": [
        "##Ejercicio 8\n",
        "\n",
        "\\begin{equation}\n",
        "\\frac{dx}{dt}=Ax\\ \\ \\ \\ \\ \\ \\ \\ \\ \\ \\ \\ \\ \\ \\ \\ \\ \\ \\\\\n",
        "x(0)=(0,3) \\ \\ \\ \\ \\ \\ \\ \\ \\ \\ \\ \\ \\ \\ \\\\\n",
        "A= \\begin{bmatrix}\n",
        "0 & 3\\\\\n",
        "1&-2\n",
        "\\end{bmatrix}  \\ \\ \\ \\ \\ \\ \\ (1)\n",
        "\\end{equation}"
      ]
    },
    {
      "cell_type": "code",
      "metadata": {
        "id": "dwPCqeYH6MmS"
      },
      "source": [
        "A8=np.array([[0,3],[1,-2]])\n",
        "\n",
        "print('La matriz en cuestion A es ')\n",
        "print(A8)\n",
        "print()\n",
        "\n",
        "eival8, eivec8=la.eig(A8)\n",
        "print('Los eigenvalores son')\n",
        "print(eival8)\n",
        "print()\n",
        "print('Los vectores correspondientes son')\n",
        "print(eivec8)"
      ],
      "execution_count": null,
      "outputs": []
    },
    {
      "cell_type": "code",
      "metadata": {
        "id": "ymzRcujD60bj"
      },
      "source": [
        "TraceA=np.trace(A8)\n",
        "print('La traza es')\n",
        "print(TraceA)\n",
        "print()\n",
        "DetA=la.det(A8)\n",
        "print('El determinante es')\n",
        "print(DetA)\n",
        "print()\n",
        "print('Delta es =')\n",
        "print((TraceA)**2-4*(DetA))\n",
        "print()"
      ],
      "execution_count": null,
      "outputs": []
    },
    {
      "cell_type": "markdown",
      "metadata": {
        "id": "ERetsswF6gsB"
      },
      "source": [
        "Vemos que los eigenvalores son distintos y reales, ademas una es positiva y otra negativa. \n",
        "De modo que el punto critico es un punto silla y es del tipo \"line of stable fixed points\". El punto critico es 0,0\n"
      ]
    },
    {
      "cell_type": "code",
      "metadata": {
        "id": "f98_pw6zmTQ1"
      },
      "source": [
        "def dX_dt(X,t=0):\n",
        "  return np.array([0*X[0]+3*X[1] , X[0]-2*X[1]])\n",
        "\n",
        "X_f0=np.array([0.0   , 0.0   ])\n",
        "print('Punto crítico del sistema')\n",
        "print('Punto crítico X_f0:', X_f0)\n",
        "print(' ')\n",
        "all(dX_dt(X_f0) == np.zeros(2) )"
      ],
      "execution_count": null,
      "outputs": []
    },
    {
      "cell_type": "code",
      "metadata": {
        "id": "nikSinw3n7kf"
      },
      "source": [
        "t = np.linspace(1, 5,  500)              # Rango de tiempo de integración\n",
        "X0 = np.array([0, 3])                     # Condiciones iniciales\n",
        "X, infodict = integrate.odeint(dX_dt, X0, t, full_output=True)\n",
        "infodict['message']\n",
        "x, y = X.T\n",
        "plt.plot(x, y, 'brown')\n",
        "plt.xlabel('x')\n",
        "plt.ylabel('y')\n",
        "plt.grid()\n",
        "plt.ylim(0, 10)\n",
        "plt.xlim(0, 10)\n",
        "plt.title('Solución X(t) en el plano fase')\n",
        "plt.show()"
      ],
      "execution_count": null,
      "outputs": []
    },
    {
      "cell_type": "markdown",
      "metadata": {
        "id": "bwMwZFaG7fgS"
      },
      "source": [
        "La solucion tiene la forma \n",
        "$$x(t)=c_1e^{\\lambda t}v_1+c_2e^{\\mu t}v_2$$\n",
        "$$x(t)=c_1e^{t}(0.9486,-0.7071\n",
        "9) +c_2e^{-3 t}(0.3162, 0.7071)$$\n",
        "\n",
        "$$x(t)=0.9486c_1e^{t}+0.3162c_2e^{-3 t},-0.7071c_1e^{t}+0.7071c_2e^{-3t}$$\n",
        "$$x(0)=\\begin{matrix}\n",
        "0.9486c_1+0.3162c_2 \\\\\n",
        "-0.7071c_1+0.7071c_2\n",
        "\\end{matrix}=\\begin{matrix}\n",
        "0\\\\\n",
        "3\\end{matrix}$$\n"
      ]
    },
    {
      "cell_type": "markdown",
      "metadata": {
        "id": "1Ow8zpTiAhUO"
      },
      "source": [
        "Si de nuevo resolvemos el sistema de ecuaciones lineales para $c_1$ y $c_2$ nos da que $c_1=-1.0607$ y $c_2=3.1820$\n",
        "\n",
        "Por lo que finalmente \n",
        "$$x(t)=-1.0062e^{t}+1.0061e^{-3 t},0.7500e^{-3 t}+2.2500e^{t}$$"
      ]
    },
    {
      "cell_type": "markdown",
      "metadata": {
        "id": "NXz6-PhcFNtR"
      },
      "source": [
        "##Ejercicio 9\n",
        "\n",
        "\\begin{equation}\n",
        "\\frac{dx}{dt}=Ax\\ \\ \\ \\ \\ \\ \\ \\ \\ \\ \\ \\ \\ \\ \\ \\ \\ \\ \\\\\n",
        "x(0)=(0,-b,b) \\ \\ \\ \\ \\ \\ \\ \\ \\ \\ \\ \\ \\ \\ \\\\\n",
        "A= \\begin{bmatrix}\n",
        "2 & 0 & 0\\\\\n",
        "0 & -1 & 0 \\\\\n",
        "0 & 2 & -3\n",
        "\\end{bmatrix}  \\ \\ \\ \\ \\ \\ \\ (1)\n",
        "\\end{equation}"
      ]
    },
    {
      "cell_type": "markdown",
      "metadata": {
        "id": "WRJrgD_prTBT"
      },
      "source": [
        "El proceso es el mismo sin embargo ahora nuestros valores iniciales incluyen una constante de signo contrario, entonces graficaremos una familia de soluciones para distintos valores iniciales."
      ]
    },
    {
      "cell_type": "code",
      "metadata": {
        "id": "ZvduOVL3rkHD"
      },
      "source": [
        "A9=np.array([[2,0,0],[0,-1,0],[0,2,-3]])\n",
        "print('La matriz A en cuestion es ')\n",
        "print(A9)\n",
        "print('')\n",
        "eival9, eivec9=linalg.eig(A9)\n",
        "lambda1_9=eival9[0]\n",
        "lambda2_9=eival9[1]\n",
        "lambda3_9=eival9[2]\n",
        "print('Los eigenvalores son ')\n",
        "print('lambda1= ',lambda1_9)\n",
        "print('')\n",
        "\n",
        "print('lambda2= ',lambda2_9)\n",
        "print('')\n",
        "\n",
        "print('lambda3= ',lambda3_9)\n",
        "print('')\n",
        "v1=eivec9[:,0]\n",
        "v2=eivec9[:,1]\n",
        "v3=eivec9[:,2]\n",
        "print('Los eigenvectores son ')\n",
        "print('v1=',v1)\n",
        "print('')\n",
        "print('v2=',v2)\n",
        "print('')\n",
        "print('v3=',v3)"
      ],
      "execution_count": null,
      "outputs": []
    },
    {
      "cell_type": "markdown",
      "metadata": {
        "id": "Ku5NpPKckkOO"
      },
      "source": [
        "El punto critico es 0,0,0"
      ]
    },
    {
      "cell_type": "markdown",
      "metadata": {
        "id": "PftsnPO4tRmQ"
      },
      "source": [
        "Podemos ver que los tres valores son reales y positivos, si imaginamos lambda 1 en el eje y y lambda dos como el eje x, podemos imaginar que en un corte en ese plano veriamos es sink y siendo lambda3 siendo el eje que sale de la pantalla un corte en el eje yz tambien se ve como sink. \n"
      ]
    },
    {
      "cell_type": "markdown",
      "metadata": {
        "id": "b1z1dvdVqp-q"
      },
      "source": [
        "Siendo los tres valores positivos, reales y distintos la solucion tendria forma\n",
        "$$\\vec{X}(t)=c_1e^{2t}v_1+c_2e^{-3t}v_2+c3e^{-1t}v_3$$\n",
        "Siendo $v_1=1,0,0$, $ v_2=0,0,1$ y $v_3=0,1,1$\n",
        "\n",
        "\n",
        "Sustituyendo \n",
        "$$\\vec{X}(t)=c_1e^{2t}(1,0,0)+c_2e^{-3t}(0,0,1)+c3e^{-1t}(0,1,1)$$\n",
        "$$\\vec{X}(t)=c_1e^{2t} , c3e^{-1t} , c_2e^{-3t}+ c3e^{-1t}$$\n",
        "entonces\n",
        "\n",
        "$$x(t)=c_1e^{2t}\\\\\n",
        "y(t)=c3e^{-1t}\\\\\n",
        "z(t)=c_2e^{-3t}+ c3e^{-1t}$$\n"
      ]
    },
    {
      "cell_type": "code",
      "metadata": {
        "id": "1vIFI_Qlno6O"
      },
      "source": [
        "#Ya tenemos A9\n",
        "def dX_dt(X,t=0):\n",
        "  return np.array([2*X[0],\n",
        "                   -1*X[1],\n",
        "                   2*X[1]-3*X[2]])\n",
        "X_f0=np.array([0.0  ,  0.0 ,   0.0 ])\n",
        "#Puntos criticos del sistema\n",
        "\n",
        "print('Puntos criticos del sistema son ')\n",
        "print(X_f0)\n",
        "print()\n",
        "\n",
        "#En los puntos criticos se anulan las derivadas\n",
        "all(dX_dt(X_f0)==np.zeros(3))\n",
        "\n",
        "#Ya tenemos los eigenvalores y vectores\n",
        "\n",
        "t=np.linspace(0,15,700)\n",
        "fig = plt.figure()\n",
        "ax = plt.axes(projection ='3d')\n",
        "\n",
        "\n",
        "for b in [1,2,3,4,5]:\n",
        "  X0=np.array([0,-1*b,b])\n",
        "  X, infodict = integrate.odeint(dX_dt,X0,t,full_output=True)\n",
        "  infodict['message']\n",
        "  x ,y ,z = X.T\n",
        "  ax.plot3D(x, y, z,)\n",
        "  #legend='Para b igual a ',b\n",
        "  #plt.legend(legend)\n",
        "\n",
        "\n",
        "label='Familias de soluciónes en el espacio fase (x(t),y(t),z(t))'\n",
        "ax.set_title(label)\n",
        "plt.xlim(-10, 10)\n",
        "plt.ylim(-10, 10)\n",
        "plt.xlabel('x');\n",
        "plt.ylabel('y');\n",
        "plt.show()\n",
        "\n",
        " \n"
      ],
      "execution_count": null,
      "outputs": []
    },
    {
      "cell_type": "markdown",
      "metadata": {
        "id": "pYzKs6kCIKd-"
      },
      "source": [
        "#Ejercicio 10\n"
      ]
    },
    {
      "cell_type": "markdown",
      "metadata": {
        "id": "vAAoX1EUJZBA"
      },
      "source": [
        "Se tiene el siguiente sistema de resortes acoplados con dos masas"
      ]
    },
    {
      "cell_type": "markdown",
      "metadata": {
        "id": "EMDcqAXvJeHG"
      },
      "source": [
        "![ejercicio 10.png](data:image/png;base64,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)"
      ]
    },
    {
      "cell_type": "markdown",
      "metadata": {
        "id": "TV3_DjCQKamE"
      },
      "source": [
        "El sistema esta sujeto del primer resorte de la izquierda. Cuando el sistema se deja en reposo, las longitudes de los resortes son $L_1$ y $L_2$.\n",
        "\n",
        "Las ecuaciones de movimiento estan dadas por las siguientes ecuaciones diferenciales acopladas:"
      ]
    },
    {
      "cell_type": "markdown",
      "metadata": {
        "id": "J3p509poLG5g"
      },
      "source": [
        "![Ecuaciones.png](data:image/png;base64,iVBORw0KGgoAAAANSUhEUgAAAbMAAABGCAIAAADJp+3OAAAAAXNSR0IArs4c6QAAAARnQU1BAACxjwv8YQUAAAAJcEhZcwAADsMAAA7DAcdvqGQAABDPSURBVHhe7Z0xjhy3EoYFvANYN5BuIKeOpBtIiZ16M4eaG0iBc+8N7AMYkG5gpY6cvUAwIDh64cOLHPp9mr+2wC2yOeyentbMbH3BotnNLharij85q9Xuo3+SJEmS+6QyJkmSRFIZkyRJIqmMSZIkkVTGJEmSSCpjkiRJJJUxSZIkksqYJEkSSWVMkiSJpDImSZJEUhnPiP/uscZZclYefvr0ya6SO84qQRfN+Srjzz///Mcff7x8+dLaXwIcwA1rnBgK+s2bN9Y4Y3DyHNbeTz/9lBLQ5EwSdOmcrzKiiRwKvv/+e2vP4bfffnv9+vXjx4+5sFuLwMgxBxNU9fnz54PiTs8vVdDMEaF5uwef+27wlBmt6Oq7d+8w+OTJE2sPQFWwaVnjqpmVGrF6gmaBw6wafCZHZNbunoZwamGxv3r1yhp7BiPW5EyVkfgyKyK7WJh499GjY2d3/CHuq6++okqsMQ19Qpo3hqoiXKiztbvg6rrHW8Yd3wJxddl+eaHMSo1YPUGDIEMcRySIXLPbnaiqg/pLLlhrYcnTgVLxbrM4U2XUiaAvi8SiE3c2rlnF1OSgLuMnA1mjgtdJ1cjphhpalr+1IJK42oln4NmzZ4s3rRpqenxo0rri0OePUjP3/EWCtq8oZKg8+7PfI5SncANZrD8OshKDMgKlQmdrzOFMlXEEdsXOxkiGRg5rR0J6OvpLTY98SKTolyVvRahpqmq8iOk/rmV92DnGh6bQR0J6TVAbs1IjVkzQOOxwjGuNu8yu7gYGm4sONaiVEZaFYgVlZNTdbqe1jVK8ePFCgkVc+NgfPvkH6I/S84oSz/XNzY0eHWQvjG1l9MMavmEcOgc376ZdSNeDp5K+MhITFQrdcBXLzfpm1vVE6CnF1COcxKu5B4dxqGlOGdYYgLmspeZsYBqaOTJZmp3gT41LZAi1iofQUXVTtXE8Z54aQaBKkdoALboQdu50PlQtg2g0Dz0M3VRGQvH1119bY5h1zoz4KmHGYwJBk3Lhmjv42pQDh6f0obDoj4KAPTgEgQhpcDDFyYKnWMM+4vX06VN7NoGmQH88Ga9y+neU0T8k8nXKVcDC1KyZiD6P8DpeDer1XEhWXdN9cHhBtTVh+lo8uEEK+tWCk1N+Eh9mQYhUSFizB6dBqdFwp0sNE5mbGtGvzADxR9ynUA0fpOkqd8bdGEH6y1jWLmBoHlmjQI7NrYd1lJGBCa4Ehb0UKBeu8XXksw+qxDI76Dpr5kMBBwSwxh5fVDiAFLrBqZCV0IdXRoqAQNt4Hz7c3t7iuTX2+AphdAbFJWw2E+l0lFFGxnfdf3f5+PGj9buP4jOrdFRt1rjjr7/+spEmsH73wQ6Vg0HVTx8yi7fWqMAUHfraGjDPprF+FYrAWqn5888/rd99sD83NaKZoCmwT/8pBkWfnowYssOddZVRo/DV2gWdZT71SocVlFG+SgqBgxLVqWuCUh7pKdlm9ZP+ZviCTmmgDj758P0O/CntN+UPx7BgjQJshsrQWFN4ZXDBroB2e2RKSrN4657XYLMOGu82X/nuu+/+Nc2UMrIz4YM1WtQRY3Qcs8YdKKON1MKrokRhJ1Zlvhyevn37lu3H2vuKCmuvhInUT4mVfuqlucJ//PFH86/Fr7/+av1azErNt99+a0ZbTCljPzUsKILD1OoRmwk6KUxcqbT2Hu40M7sYzasZYYaemnLt2EFWiB1Dkjxt1DrjuN9ce+nQgRg1FZD7YUp07sxT0AGsUaDY+TLAFE1f2+hU06zuh4jT7MsWj5ozAu4DcsDnEbt1RzBLt6khiCc9w8GEm7zSnPsCFJ+6fP2c0owYDjfDOBemxv7B1/ofMakc5kji9I0O3eRiauK8jikiY+09lAGv4C2JWPffSc8hNTxSlKZK1xqHIMjaPJpMFWcNI5beSiubJ4PFqPCaLikO1rgP9+s9rM8KxV0WLlHwj8+aA9n1cuROKFwgKzjdnO3UPAWBAGsUcBOXrLGvnnBaqc1SanjePHF0ZAuaMxJKhoJQWyjNcl0fygQLD5fq7+h9nvlKy4+h8TA4QMrKNV9HrDPxWSjmDMeiCj54fMiOO9CZOA5rLtbeU9qkMutELIbh4Aumhrn49s+dMOisBPE6nacIDnRgrZXf0Jf/7uQqMH1sNvNIBEL2BZ2nXunQMDQLbQuux8RRaQMcpe4pa/epzBYz/PDhA0/1LlVLf67LODbn6dAfrFFQKjW5YUTGUlOUZnGJEWVHhV46DLzeiWk5oxJpva7pwLERH8oKK83WE8EHvMIf3qIbptxJUb+yGGKF/XKOjEUcSm/rRLCReJAXw0BYZrJcMx0WVYiSoJtvdQQ2BJynWOAtvvI6BunTPKdghM7WWEqZGmWZizIX+8yskxp29IOpEYwYbq6SoLngHjucO0zAXQ1WhAJoRljhskYBkfHj2jg96RmBKJSVWi54nR+pHjWh7EyFlR9GmCpNLRKnOU/ncwG2AsRNRuFTABd1DUFpFg/pTHFzjXs8CjbLGdWE6TuM61PTTEOZlmbpEIzQGcc8GlSYOyk+z3yN5SehEbJJealZDlcnAg/LzC6jjB7DMU0oxxUUko/FU4Kpa0GoueOJxiChqxVQcmaNIzi31IjwqQi4c3yCFkBkGFo/xrdKHGqYF2G3xh4CQgEoOFyE7JOy5k7Z51hlnMWUjkzRV0asgTXm0DcbwOHOKOTA1+QsglkWW13uHbRUrHF6QsRwda7Di2GlhbKm0BfkXac8a5ySjVMDxMeVWmyZoC/C+MZMZGZpjnPByriYFZVxMcEsaZ61nDZefiFiLMVl+8FcWNv1bs9uNLfWMbKZTGycGionyCJslqAvBdnkTFpPPEA3NHRZ6jdVRrI4XtPM54qVkY8DwSyHmoOZdjZefmXEyMtcYVoGA5U/r1qeEZj74JEBCOz79+9lZAO92DI1TOf29tanJgnYLEFfnINxPibd2ymjvtGD0o8IDdll3yPBLADlexXmmpWU80r4zsWRTJnlzohXCChhZDMcV9LFhIjB4k14LlQL4zph0MGNRKF2aNqD07BlanR2diQTWyboutn0zJgkSXIRpDImSZJEUhmTJEkiqYxJkiSRVMYkSZJIKmMym/ynzxpikmG5JlIZh3i3583Z/L3KT/f/G/WWDP5o0UODmOSPy1wTqYxDqOhftn7D4CC8jpY1fx3AApCn43/+HAvPh//oq3h93J+ZvSDYCPU7uMSI5BGZYyrkOiBQNzc3lDqlQgzt7mlgFeiCQXe73f4XkL/45ZdfdBMu4ye9LxoyTZqPFCNef7TSL2XymjiSZ61fvDaFTs3WeAAwX/I1S+yIzyo734WCQrH3qzi5fnLiv6qqH6fnmjJGiAk+F6TMq5RHiw/yqYyHQcsI7oiioX2dUqBiqBVrHMfgf7HAZ8471qhgUpTRuNzj/CqyfimwwGbFBwjpWim+RIhY+ZuQKPgT/VVV9M7zwijlcpA4WuPufyVZYw6pjGtCZfD51BoVPGJns8Ym6JRqjQqdiaxxCCqMmrPGw4B8hd94NgJvzRLTa4JwlTJEzVBgqx8bMViusvCZXfuZNfYgowt8uB5lJA2cj/RHXLnmYrfbcc2WdXNzQ/Pg3sVb+m6FTkbsRf0/CVvTUUYd0PSRXN8QYTh7NgFu3N7e0lO514uzTm19ZUSmVcd4gufMtxMinjZlnZrzP2HK61yHSl0R7JcBwW2uTyRDyteC4wah2Hj/OxOoTCKmSnC4s3o02KGpRmtU4EA4tlOifMa3xjDXo4yAKgELRsuYrFDfWvNcjywh+rPv0Z9osvzmbjWMNaWMWMMH2aSG6MYHDXvWhcUJmhTv4qE9GKCvjBSQKgzjB78dgw+h6B28UqixxgSxZg9OA64SPWLIuHMDMo7yhX1rD0MQpmrgbGGxsMdMMRgEFVutjOtGQ/rbWcsMFxyWY3PL8qqUkc2ExCguJJsYaeVzh9DsuxwGCaAaWBjWnkNHGfHn6dOnnlF6DrrEFHhRE5lLRxlVYZQLMx2ZLPOaKkeZQrCsPcZ/DmH9KvCW4aZkusbMTfD3339bv/swHUZhatYehiitqwUbQBng9hSDQaBnnRfurBsNjcJXa9+H+3Udsnd2XpniepRR8/e4oJKgA4VOGboP3NTfomymnNSWf+XHQV55pY4vg3bw/hzQSh8QyvLMP2UcuImdesfjPq+UP6MgGEVDN/HCZUROxzT9TkltHLNN94RMWeMOwosRQt081v3www/mU4vff//d+lVIiGtnuN/08JtvvpHNJlPKSHaoH2tUdEoIH8KnuQcCJUo8QxlwZ+6W2YfwYrOZaJLCsaZZbLVjB7keZdTBUJVKdLjmjh75x0ZQ+AgTCWM915XtH8OtvYfOvMIjXmlmRdCnuUNqMZdHM1zyVGHWjdfHNx2Rwn2mo7eww4XdrVAZWeM+zIiVz9f6WzClcXeSeU2dW4kVPcMCYJ0oaLzY/C7P/w5h/Sq0AoMz0iP3tsTMTdBURg1RB1ZVwVdNja91CeFJswbOGearX3/bpF4jUxCNMmgq+6myWYZKul6DSkpYtg6v1Curz/UoI3FB8nRNFEiSrpUecq8mjzx8SIOrpyDitRJhwTNB4usF40gIrFGgA5o19t38PBuM+xQEfWQzDOpu42fzhCtURta4D/5gRMEJdVYa93OTthNdB/Yh+fy9AmvvcSNMoYz/kWCNsXAmBAqI0pSHc2Ex12HR0FyEEgorn4lfnDIyL3yewlN5ENZguQvyImGkxqy9Bs2KJR1BFst60yoIrxzkepRRS13XpUpyk0dEqk4wWfcIcgFaWtynVnRHTx06dPZAqZg1CnDG70tuyiw6pXGG9qXIfXSHZj0F8l1rhKOasEYBxr1kcezF/o++lpuBKI3jmJxxeB1wCWsaSE17XED8m/OdhQJCKPiKM/pBuXI4JsJTaxwHCWI6pc9MjTVfh4j4hJv4sJYbF4fqyjVI60jXK1Inmizsdru3d3BdjkuC+DxhjWGuRBlJCfHyUkYZvV5ZRcSlljM6+7JXRnlLTTrTbC5yXikXTICE4YY1CjDIYru9veWCPlMWSuOoiQsoy7J0rwRrXog1U8pIcHzuGGes5rxK44QIf3Qt8IcXPc48dYdLsBDqeBkEVjsc1/I5hLpeMMtgRpgCYoJBYJnpjvW4g8l6GB26ycmHCemmDJCnV69enUIWgYXJXm6Nu0N6oEwBbtTL/yDXc2acCxVfL+M+rJl+0VMWTT0dgRfnrij6uzA1QUGYpjVmUhun4jFojTGI8ImWRw3rYfFkl8HUQgkRnwXHk2QubEi+Z/chI9StNebwQJVxgQwhE30ZOgacmSupJxWdpqRSi81zawf26rnbz2I2VkaKoS4hHDhdkSQORUUpHiytwW5NHqIyokF8sNW/uw0es1kDu91Or/Du3KNTn9L4+/fvR4yTbP+Lo7yy7mrsGKfOxncUhNv/nOkGerGlMpYl5FsaidvsgJxQpQcX7zEb84NTRhb25+9D3DFyUiO4nN7thbW/qRyMDx7K8MFe2GN3V6JvHPUZqTYCa+/vGfzssxjSShjxfFy4FxNKSOtzZKEmF8TD/T5jspjF+/AVkzG5MlIZkyRJIqmMSZIkkVTGJEmSSCpjkiRJJJUxSZIkksqYJEkSSWVMkiSJpDImSZJEUhmTJEkiqYxJkiSRVMYkSZJIKmOSJEkklTFJkiSSypgkSRJJZUySJImkMiZJkkRSGZMkSSKpjEmSJPf555//A+qv2WTcJMZ4AAAAAElFTkSuQmCC)"
      ]
    },
    {
      "cell_type": "markdown",
      "metadata": {
        "id": "hLtHOCUsMKJv"
      },
      "source": [
        "Encuentre las soluciones como funciones de $t$ y grafíquelas, así como las trayectorias en el espacio fase.\n",
        "\n",
        "Suponga que $L_1=L_2=1$ y que las masas son iguales $m_1=m_2=1$.\n",
        "\n"
      ]
    },
    {
      "cell_type": "markdown",
      "metadata": {
        "id": "txg5TzrKCeTa"
      },
      "source": [
        "Tenemos dos ecuaciones de segundo grado que podemos escribir como dos ecuaciones de primer grado. \n",
        "\n",
        "$x_1=x_1$ , $x_2=x_2$ , $x_3=\\frac{dx_1}{dt}$ , $x_4=\\frac{dx_2}{dt}$\n",
        "\n",
        "Entonces puedo escribir dos ecuaciones de la primera ecuacion \n",
        "\n",
        "$$\\frac{dx_1}{dt}=x_3\\\\\n",
        "\\frac{dx_3}{dt}=\\frac{k_2(x_2-x_1-L_2)-k_1(x_1-L_1)-b_1x_3}{m_1}\\\\\n",
        "\\frac{dx_2}{dt}=x_4\\\\\n",
        "\\frac{dx_4}{dt}=\\frac{-k_2(x_2-x_1-L_2)-b_2x_4}{m_2}$$\n"
      ]
    },
    {
      "cell_type": "markdown",
      "metadata": {
        "id": "JHxw_pr_AZMv"
      },
      "source": [
        "\n",
        "$$\\frac{dx_1}{dt}=x_3\\\\\n",
        "\\frac{dx_3}{dt}=\\frac{k_2}{m_1}x_2-\\frac{k_2}{m_1}x_1-\\frac{k_2}{m_1}L_2-\\frac{k_1}{m_1}x_1+\\frac{k_1}{m_1}L_1-\\frac{b_1}{m_1}x_3\\\\\n",
        "\\frac{dx_2}{dt}=x_4\\\\\n",
        "\\frac{dx_4}{dt}=\\frac{-k_2}{m_2}x_2+\\frac{k_2}{m_2}x_1+\\frac{k_2}{m_2}L_2-\\frac{b_2}{m_2}x_4$$\n",
        "\n",
        "Terminos similares y las constantes al final de rojo\n",
        "\n",
        "$$\\frac{dx_1}{dt}=x_3\\\\\n",
        "\\frac{dx_3}{dt}=-\\frac{k_2+k_1}{m_1}x_1-\\frac{b_1}{m_1}x_3 + \\frac{k_2}{m_1}x_2              -\\frac{k_2}{m_1}L_2+\\frac{k_1}{m_1}L_1\\\\\n",
        "\\frac{dx_2}{dt}=x_4\\\\\n",
        "\\frac{dx_4}{dt}=\\frac{-k_2}{m_2}x_2+\\frac{k_2}{m_2}x_1+\\frac{k_2}{m_2}L_2-\\frac{b_2}{m_2}x_4$$\n",
        "\n",
        "\n",
        "\\\\\n",
        "\n",
        "\\begin{bmatrix}\n",
        "\\frac{dx_1}{dt} & 0  &   x_3  & 0   & 0  \\\\\n",
        "\\frac{dx_3}{dt} &   -\\frac{k_2+k_1}{m_1}x_1   &  -\\frac{b_1}{m_1}x_3    &  \\frac{k_2}{m_1}x_2   &   0   \\\\\n",
        "\\frac{dx_2}{dt} & 0 & 0 & 0 & x_4\\\\\n",
        "\\frac{dx_4}{dt} & \\frac{k_2}{m_2}x_1 & 0 & \\frac{-k_2}{m_2}x_2 & -\\frac{b_2}{m_2}x_4\n",
        "\\end{bmatrix}+\\begin{bmatrix} 0\\\\ -\\frac{k_2}{m_1}L_2+\\frac{k_1}{m_1}L_1\\\\ 0\\\\ \\frac{k_2}{m_2}L_2\\\\ \\end{bmatrix}\n",
        "\n",
        "\n"
      ]
    },
    {
      "cell_type": "markdown",
      "metadata": {
        "id": "7zmfmKLJKvMO"
      },
      "source": [
        "\n",
        "En este caso siendo \n",
        "$\\vec{x}=(x_1,x_3,x_2,x_4)$\n",
        "\\begin{equation}\n",
        "\\frac{d \\vec{x} }{dt}=\\frac{d}{dt}\n",
        "\\begin{bmatrix}\n",
        "x_1 \\\\\n",
        "x_3 \\\\\n",
        "x_2 \\\\\n",
        "x_4 \\\\\n",
        "\\end{bmatrix}\n",
        "=A\n",
        "\\begin{bmatrix}\n",
        "x_1 \\\\\n",
        "x_3 \\\\\n",
        "x_2 \\\\\n",
        "x_4 \\\\ \n",
        "\\end{bmatrix}+C\n",
        "=\\begin{bmatrix}\n",
        "0  &   1  & 0   & 0  \\\\\n",
        "-\\frac{k_2+k_1}{m_1}   &  -\\frac{b_1}{m_1}    &  \\frac{k_2}{m_1}  &   0   \\\\\n",
        "0 & 0 & 0 & 1 \\\\\n",
        "\\frac{k_2}{m_2} & 0 & \\frac{-k_2}{m_2} & -\\frac{b_2}{m_2}\\\\\n",
        "\\end{bmatrix}\n",
        "\\begin{bmatrix}\n",
        "x_1 \\\\\n",
        "x_3 \\\\\n",
        "x_2 \\\\\n",
        "x_4 \\\\\n",
        "\\end{bmatrix}\n",
        "+\\begin{bmatrix}\n",
        " 0\\\\ \n",
        " -\\frac{k_2}{m_1}L_2+\\frac{k_1}{m_1}L_1\\\\\n",
        "  0\\\\ \n",
        "  \\frac{k_2}{m_2}L_2\\\\ \n",
        "\\end{bmatrix}\n",
        "\\end{equation}"
      ]
    },
    {
      "cell_type": "markdown",
      "metadata": {
        "id": "LbsihrIKCXM3"
      },
      "source": [
        "10.1) Encuentre los eigenvalores del sistema y diga como son las soluciones.\n",
        "\n"
      ]
    },
    {
      "cell_type": "markdown",
      "metadata": {
        "id": "UlxrW9c8QUkF"
      },
      "source": [
        "buscamos los eigenvalores del sistema homogeneo\n",
        "De modo que nos queda\n",
        "\\begin{bmatrix}\n",
        "0-\\lambda  &   1  & 0   & 0  \\\\\n",
        "-\\frac{k_2+k_1}{m_1}   &  -\\frac{b_1}{m_1}-\\lambda    &  \\frac{k_2}{m_1}  &   0   \\\\\n",
        "0 & 0 & 0-\\lambda & 1 \\\\\n",
        "\\frac{k_2}{m_2} & 0 & \\frac{-k_2}{m_2} & -\\frac{b_2}{m_2}-\\lambda\\\\\n",
        "\\end{bmatrix}"
      ]
    },
    {
      "cell_type": "markdown",
      "metadata": {
        "id": "bSMRbJVMSRbF"
      },
      "source": [
        "por cofactores por el reglon 3\n",
        "\\begin{equation}\n",
        "Det(A)=0\\begin{bmatrix}1&0&0\\\\-\\frac{b_1}{m_1}-\\lambda&\\frac{k_2}{m_1}&0\\\\ 0 & -\\frac{k_2}{m_2} & -\\frac{b_2}{m_2}-\\lambda \\end{bmatrix}+0\\begin{bmatrix}0-\\lambda&0&0\\\\-\\frac{k_2+k_1}{m_1}&\\frac{k_2}{m_1}& 0\\\\ \\frac{k_2}{m_2}&-\\frac{k_2}{m_1} & -\\frac{b_2}{m_2}-\\lambda \\end{bmatrix}+(0-\\lambda)\\begin{bmatrix}0-\\lambda&1&0\\\\ -\\frac{k_2+k_1}{m_1}&-\\frac{b_1}{m_1}-\\lambda&0 \\\\ \\frac{k_2}{m_2}&0&-\\frac{b_2}{m_2}-\\lambda \\end{bmatrix}+1\\begin{bmatrix}0-\\lambda & 1 &0\\\\ -\\frac{k_2+k_1}{m_1} & -\\frac{b_1}{m_1}-\\lambda & \\frac{k_2}{m_1} \\\\ \\frac{k_2}{m_2} & 0 & -\\frac{k_2}{m_2}\\end{bmatrix}\n",
        "\\end{equation}"
      ]
    },
    {
      "cell_type": "markdown",
      "metadata": {
        "id": "-39-n6cQZxBC"
      },
      "source": [
        "Como vemos dos son cero y depende de $-\\lambda$ y 1 por el coeficiente de las matrices siendo entonces\n",
        "\n",
        "\n",
        "$$(-\\lambda)("
      ]
    },
    {
      "cell_type": "markdown",
      "metadata": {
        "id": "h31S99HV_HvK"
      },
      "source": [
        "Determinante de la matriz\n",
        "\n",
        "\n",
        "$\\frac{k_2\\left(k_2-\\lambda\\left(-b_1-\\lambda m_1\\right)\\right)+ \\lambda \\left(\\lambda \\left(-b_2-\\lambda m_2\\right)\\left(-b_1-\\lambda m_1\\right)-\\left(k_2+k_1\\right)\\left(-b_2-\\lambda m_2 \\right)\\right)}{m_1 m_2}$"
      ]
    },
    {
      "cell_type": "markdown",
      "metadata": {
        "id": "B8hB4s-qCSBb"
      },
      "source": [
        "Si $$k_1=j\\\\\n",
        "k_2=k\\\\\n",
        "\\lambda=p\\\\\n",
        "b_1=c\\\\\n",
        "b_2=b\\\\\n",
        "m_1=n\\\\\n",
        "m_2=m\\\\\n",
        "$$\n",
        "\n",
        "\n",
        "$\\frac{k\\left(j-l\\left(-c-ln\\right)\\right)+l\\left(l\\left(-b-lm\\right)\\left(-c-ln\\right)-\\left(k+j\\right)\\left(-b-lm\\right)\\right)}{nm}=0$\n",
        "\n",
        "$$ kj-kl(-c-ln)+l^2(-b-lm)(-c-ln)-l(k+j)(-b-lm)]$$\n",
        "$$kj+klc+kl^2n+l^2(bc+bln+lmc+l^2mn)-l(-kb-klm-bj-jlm)]$$\n",
        "$$kj+klc+kl^2n+l^2(bc+bln+lmc+l^2mn)+l(kb+klm+bj+jlm)$$\n",
        "$$kj+klc+kl^2n+bcl^2+bl^3n+l^3mc+l^4mn+lkb+kl^2m+bjl+jl^2m$$\n",
        "\n",
        "uniendo terminos similares\n",
        "\n",
        "$$l^4mn+bl^3n+l^3mc+kl^2n+bcl^2+kl^2m+jl^2m+klc+lkb+bjl+kj=0$$"
      ]
    },
    {
      "cell_type": "code",
      "metadata": {
        "id": "4f_L3jb-rLXJ"
      },
      "source": [
        ""
      ],
      "execution_count": null,
      "outputs": []
    },
    {
      "cell_type": "markdown",
      "metadata": {
        "id": "Vmw1Y8l-o8w4"
      },
      "source": [
        "Recordando del enunciado que $L_1=L_2=1$ y $m_1=m_2=1$\n"
      ]
    },
    {
      "cell_type": "markdown",
      "metadata": {
        "id": "aTEY3dKSqZdI"
      },
      "source": [
        "$$\\lambda^4m_2m_1+b_2\\lambda^3m_1+\\lambda^3m_2b_1+k_2\\lambda^2m_1+b_2b_1\\lambda^2+k_2\\lambda^2m_2+k_1\\lambda^2m_2+k_2\\lambda b_1+\\lambda k_2 b_2+b_2k_1\\lambda+k_2k_1=0$$\n",
        "\n",
        "\\\\\n",
        "\n",
        "\\\\\n",
        "\n",
        "\n",
        "$$\\lambda^4+b_2\\lambda^3+\\lambda^3b_1+k_2\\lambda^2+b_2b_1\\lambda^2+k_2\\lambda^2+k_1\\lambda^2+k_2\\lambda b_1+\\lambda k_2 b_2+b_2k_1\\lambda+k_2k_1=0 $$"
      ]
    },
    {
      "cell_type": "markdown",
      "metadata": {
        "id": "3ru9x5MStWZ1"
      },
      "source": [
        "$$\\lambda^4+(b_2+b_1)\\lambda^3+(k_2+b_1b_2+k_2+k_1)\\lambda^2+(k_2b_1+k_2b_2+k_1b_2)\\lambda+k_2k_1=0$$\n",
        "\n",
        "Siendo una ecuacion de cuarto grado y buscamos los valores de landa para los cuales se cumple la ecuacion usamos el metodo de \n"
      ]
    },
    {
      "cell_type": "code",
      "metadata": {
        "id": "GzAoUnE8vgWv"
      },
      "source": [
        ""
      ],
      "execution_count": null,
      "outputs": []
    },
    {
      "cell_type": "markdown",
      "metadata": {
        "id": "OBux7tf4CaXw"
      },
      "source": [
        "10.2) Caso sin fricción. $b_1=b_2=0$, $k_1=6$, $k_2=4$, condiciones iniciales $(x_1(0), x_1^{'}(0), x_2(0), x_2^{'}(0))=(1,0,4,0)$\n"
      ]
    },
    {
      "cell_type": "markdown",
      "metadata": {
        "id": "JK1Ab1h4y0DU"
      },
      "source": [
        "\n",
        "En este caso siendo \n",
        "$\\vec{x}=(x_1,x_3,x_2,x_4)$\n",
        "\\begin{equation}\n",
        "\\frac{d \\vec{x} }{dt}=\\frac{d}{dt}\n",
        "\\begin{bmatrix}\n",
        "x_1 \\\\\n",
        "x_3 \\\\\n",
        "x_2 \\\\\n",
        "x_4 \\\\\n",
        "\\end{bmatrix}\n",
        "=A\n",
        "\\begin{bmatrix}\n",
        "x_1 \\\\\n",
        "x_3 \\\\\n",
        "x_2 \\\\\n",
        "x_4 \\\\ \n",
        "\\end{bmatrix}+C\n",
        "=\\begin{bmatrix}\n",
        "0  &   1  & 0   & 0  \\\\\n",
        "-\\frac{k_2+k_1}{m_1}   &  -\\frac{b_1}{m_1}    &  \\frac{k_2}{m_1}  &   0   \\\\\n",
        "0 & 0 & 0 & 1 \\\\\n",
        "\\frac{k_2}{m_2} & 0 & \\frac{-k_2}{m_2} & -\\frac{b_2}{m_2}\\\\\n",
        "\\end{bmatrix}\n",
        "\\begin{bmatrix}\n",
        "x_1 \\\\\n",
        "x_3 \\\\\n",
        "x_2 \\\\\n",
        "x_4 \\\\\n",
        "\\end{bmatrix}\n",
        "+\\begin{bmatrix}\n",
        " 0\\\\ \n",
        " -\\frac{k_2}{m_1}L_2+\\frac{k_1}{m_1}L_1\\\\\n",
        "  0\\\\ \n",
        "  \\frac{k_2}{m_2}L_2\\\\ \n",
        "\\end{bmatrix}\n",
        "\\end{equation}"
      ]
    },
    {
      "cell_type": "markdown",
      "metadata": {
        "id": "x7aebCCFLvBn"
      },
      "source": [
        "$\\vec{x}=(x_1,x_3,x_2,x_4)$\n",
        "\\begin{equation}\n",
        "\\frac{d \\vec{x} }{dt}=\\frac{d}{dt}\n",
        "\\begin{bmatrix}\n",
        "x_1 \\\\\n",
        "x_3 \\\\\n",
        "x_2 \\\\\n",
        "x_4 \\\\\n",
        "\\end{bmatrix}\n",
        "=A\n",
        "\\begin{bmatrix}\n",
        "x_1 \\\\\n",
        "x_3 \\\\\n",
        "x_2 \\\\\n",
        "x_4 \\\\ \n",
        "\\end{bmatrix}+C\n",
        "=\\begin{bmatrix}\n",
        "0  &   1  & 0   & 0  \\\\\n",
        "-(k_2+k_1)   &  -b_1   & k_2 &   0   \\\\\n",
        "0 & 0 & 0 & 1 \\\\\n",
        "k_2 & 0 & -k_2 & -b_2\\\\\n",
        "\\end{bmatrix}\n",
        "\\begin{bmatrix}\n",
        "x_1 \\\\\n",
        "x_3 \\\\\n",
        "x_2 \\\\\n",
        "x_4 \\\\\n",
        "\\end{bmatrix}\n",
        "+\\begin{bmatrix}\n",
        " 0\\\\ \n",
        " -k_2+k_1\\\\\n",
        "  0\\\\ \n",
        "  k_2\\\\ \n",
        "\\end{bmatrix}\n",
        "\\end{equation}"
      ]
    },
    {
      "cell_type": "markdown",
      "metadata": {
        "id": "S8EBDMyyNLdB"
      },
      "source": [
        "$\\vec{x}=(x_1,x_3,x_2,x_4)$\n",
        "\\begin{equation}\n",
        "\\frac{d \\vec{x} }{dt}=\\frac{d}{dt}\n",
        "\\begin{bmatrix}\n",
        "x_1 \\\\\n",
        "x_3 \\\\\n",
        "x_2 \\\\\n",
        "x_4 \\\\\n",
        "\\end{bmatrix}\n",
        "=A\n",
        "\\begin{bmatrix}\n",
        "x_1 \\\\\n",
        "x_3 \\\\\n",
        "x_2 \\\\\n",
        "x_4 \\\\ \n",
        "\\end{bmatrix}+C\n",
        "=\\begin{bmatrix}\n",
        "0  &   1  & 0   & 0  \\\\\n",
        "-(4+6)   &  0  & 4 &   0   \\\\\n",
        "0 & 0 & 0 & 1 \\\\\n",
        "4 & 0 & -4 & 0\\\\\n",
        "\\end{bmatrix}\n",
        "\\begin{bmatrix}\n",
        "x_1 \\\\\n",
        "x_3 \\\\\n",
        "x_2 \\\\\n",
        "x_4 \\\\\n",
        "\\end{bmatrix}\n",
        "+\\begin{bmatrix}\n",
        " 0\\\\ \n",
        " -4+6\\\\\n",
        "  0\\\\ \n",
        "  4\\\\ \n",
        "\\end{bmatrix}\n",
        "\\end{equation}"
      ]
    },
    {
      "cell_type": "markdown",
      "metadata": {
        "id": "8TCwaCTT2ppA"
      },
      "source": [
        "$$\\frac{dx_1}{dt}=x_3\\\\\n",
        "\\frac{dx_3}{dt}=-\\frac{k_2+k_1}{m_1}x_1-\\frac{b_1}{m_1}x_3 + \\frac{k_2}{m_1}x_2              -\\frac{k_2}{m_1}L_2+\\frac{k_1}{m_1}L_1\\\\\n",
        "\\frac{dx_2}{dt}=x_4\\\\\n",
        "\\frac{dx_4}{dt}=\\frac{-k_2}{m_2}x_2+\\frac{k_2}{m_2}x_1+\\frac{k_2}{m_2}L_2-\\frac{b_2}{m_2}x_4$$"
      ]
    },
    {
      "cell_type": "code",
      "metadata": {
        "id": "0oT52VKAObDI"
      },
      "source": [
        "#La parte homogenea\n",
        "#Condiciones iniciales\n",
        "k2=4\n",
        "k1=6\n",
        "b1=0\n",
        "b2=0\n",
        "A10=np.array([[0,1,0,0],[-1*(k2+k1),-1*b1,k2,0],[0,0,0,1],[k2,0,-1*k2,-1*b2]])\n",
        "print('La matriz en cuestion es ')\n",
        "print(A10)\n",
        "print()\n",
        "C=np.array([[0],[2],[0],[4]])\n",
        "def dX_dt(X,t=0):\n",
        "  return np.array([X[1] , -1*(k2+k1)*X[0] -1*b1*X[1] +k2*X[2]  ,  \n",
        "                   X[3]  ,   -1*k2*X[2]+k2*X[0]])\n",
        "\n",
        "\n"
      ],
      "execution_count": null,
      "outputs": []
    },
    {
      "cell_type": "code",
      "metadata": {
        "id": "XVknmyzv0SNG"
      },
      "source": [
        "#Puntos criticos del sistema\n",
        "X_f0=np.array([0.0  , 0.0  , 0.0  , 0.0  ])\n",
        "#Usando matriz aumentada de gauss\n",
        "#Condiciones iniciales\n",
        "X0=np.array([1.0  , 0.0  ,4.0  , 0.0  ])\n",
        "\n",
        "print('Puntos criticos del sistema para los valores dados')\n",
        "print('X_f0=   ',X_f0)\n",
        "\n",
        "#checamos que la derivada si sea 0 en los puntos criticos\n",
        "#all(dX_dt(X_f0)== np.zeros(4) ) and all(dX_dt(X_f1)==np.zeros(4))\n",
        "all(dX_dt(X_f0) == np.zeros(4) ) #and all(dX_dt(X_f1) == np.zeros(4))\n"
      ],
      "execution_count": null,
      "outputs": []
    },
    {
      "cell_type": "code",
      "metadata": {
        "id": "HBhopAZK6Qm3"
      },
      "source": [
        "##Definimos el jacobiano evaluado en X\n",
        "#np.array([X[1] , -1*(k2+k1)*X[0] -1*b1*X[1] +k2*X[2]  ,  \n",
        "#                   X[3]  ,   -1*k2*X[2]+k2*X[0]])\n",
        "def d2X_dt2(X,t=0):\n",
        "  return np.array([ [0  ,         1 ,    0 , 0], \n",
        "                   [-1*(k2+k1), -1*b1,   k2,  0 ], \n",
        "                   [0,               0,    0,   1],\n",
        "                  [k2 ,  0  ,  -1*k2,  0   ]])\n",
        "#Jacobiano evaluado en el punto critico\n",
        "A_f1=d2X_dt2(X_f0)\n",
        "print('Jacobiano evaluado en punto critico')\n",
        "print(A_f1)\n",
        "lambda1,lambda2,lambda3,lambda4=linalg.eigvals(A_f1)\n",
        "print('eigenvalores del jacobiano en X')\n",
        "print(lambda1)\n",
        "print(lambda2)\n",
        "print(lambda3)\n",
        "print(lambda4)\n",
        "#Todos tienen parte real e imaginaria\n"
      ],
      "execution_count": null,
      "outputs": []
    },
    {
      "cell_type": "code",
      "metadata": {
        "id": "T8QDI1S2_LVH"
      },
      "source": [
        "T_f1 = 2*np.pi/abs(lambda1) \n",
        "print('Periodo:', T_f1)\n",
        "#T_f2 = 2*np.pi/abs(lambda3) \n",
        "#print('Periodo 2:', T_f1)"
      ],
      "execution_count": null,
      "outputs": []
    },
    {
      "cell_type": "code",
      "metadata": {
        "id": "RmGQlI3q_qjh"
      },
      "source": [
        "#Ahora si busquemos la solucion\n",
        "t=np.linspace(0,30,1000)\n",
        "\n",
        "X,infodict=integrate.odeint(dX_dt,X0,t,full_output=True)\n",
        "infodict['message']"
      ],
      "execution_count": null,
      "outputs": []
    },
    {
      "cell_type": "code",
      "metadata": {
        "id": "iI8ROkahhcug"
      },
      "source": [
        "\n",
        "C_sol=la.solve(A10,-1*C)\n",
        "print(C_sol)\n",
        "\n"
      ],
      "execution_count": null,
      "outputs": []
    },
    {
      "cell_type": "code",
      "metadata": {
        "id": "2LZxV7V0__-e"
      },
      "source": [
        "x1, x3, x2, x4 =X.T+C_sol\n",
        "f1 = plt.figure();\n",
        "plt.figure(figsize=(10, 5)); \n",
        "plt.plot(t, x1, 'r-', label='masa 1');\n",
        "plt.plot(t, x2, 'b-', label='masa 2');\n",
        "plt.grid();\n",
        "plt.legend(loc='best');\n",
        "plt.xlabel('tiempo');\n",
        "plt.ylabel('ubicacion');\n",
        "plt.title('Evolucion de un sistema compuesto');\n",
        "plt.show();"
      ],
      "execution_count": null,
      "outputs": []
    },
    {
      "cell_type": "code",
      "metadata": {
        "id": "pvB1PEq8AcW_"
      },
      "source": [
        "import numpy as np\n",
        "from scipy import integrate, linalg\n",
        "import pylab as plt\n",
        "from matplotlib import cm\n",
        "\n",
        "\n",
        "# Graficamos la familia de soluciones en el espacio fase para distintas condiciones iniciales\n",
        "\n",
        "values  = np.linspace(1, 10, 1) \n",
        "# posición de X0 entre X_f0 y X_f1\n",
        "vcolors = plt.cm.cividis(np.linspace(0.3, 1., len(values))) \n",
        " # colores para cada trayectoria\n",
        "plt.figure(figsize=(12, 8)); \n",
        "\n",
        "#-------------------------------------------------------\n",
        "# grafica las trayectorias\n",
        "for v, col in zip(values, vcolors):\n",
        "    X0 = v * X_f0                             \n",
        "    # punto inicial\n",
        "    X = integrate.odeint( dX_dt, X0, t)         \n",
        "    # Integración para cada condición inicial\n",
        "    plt.plot( X[:,0], X[:,2], lw=3.5*v, color=col,\n",
        "             label='X0=(%.f, %.f)' % ( X0[0], X0[2]) )\n",
        "ymax = plt.ylim(ymin=0)[1]                        # get axis limits\n",
        "xmax = plt.xlim(xmin=0)[1]\n",
        "\n",
        "for v, col in zip(values, vcolors):\n",
        "    X0 = v * X_f0                             \n",
        "    # punto inicial\n",
        "    X = integrate.odeint( dX_dt, X0, t)         \n",
        "    # Integración para cada condición inicial\n",
        "    plt.plot( X[:,1], X[:,3], lw=3.5*v, color=col,\n",
        "             label='X0=(%.f, %.f)' % ( X0[1], X0[3]) )\n",
        "#-------------------------------------------------------\n",
        "# define una malla y calcula la pendiente (dirección) en cada punto\n",
        "\n",
        "y2max= plt.ylim(ymin=0)[1]   \n",
        "x2max= plt.xlim(xmin=0)[1] \n",
        "nb_points   = 20\n",
        "\n",
        "x = np.linspace(0, xmax, nb_points)\n",
        "y = np.linspace(0, ymax, nb_points)\n",
        "x2 = np.linspace(0, x2max, nb_points)\n",
        "y2 = np.linspace(0, y2max, nb_points)\n",
        "\n",
        "X1 , Y1 = np.meshgrid(x, y)     \n",
        "X2 , Y2 = np.meshgrid(x2, y2)                    # crea la malla\n",
        "DX1, DY1, DX2, DY2 = dX_dt([X1, Y1, X2  , Y2]) \n",
        "#dX_df es una funcion                     # calcula la tasa de crecimiento\n",
        "#De 4 componentes necesito la de x1 y x2\n",
        "\n",
        "\n",
        "M = (np.hypot(DX1, DY1))                           # distancia euclideana \n",
        "M[ M == 0] = 1.                                 # Evita divisiones entre 0 \n",
        "DX1 /= M                                        # Normaliza el tamaño de cada flecha\n",
        "DY1 /= M\n",
        "\n",
        "#-------------------------------------------------------\n",
        "# Dibujar los campos de direcciones usando la función quiver de Matplotlib \n",
        "# EL color de las flechas indica la rapidez de crecimiento\n",
        "\n",
        "plt.title('Plano Fase: Trayectorias y campo de direcciones - Punto crítico (0,0)')\n",
        "Q = plt.quiver(X1, Y1, DX1, DY1, M, pivot='mid', cmap=plt.cm.jet)\n",
        "plt.xlabel('X1')\n",
        "plt.ylabel('X2')\n",
        "plt.legend(loc='best')\n",
        "plt.grid()\n",
        "plt.xlim(0, xmax)\n",
        "plt.ylim(0, ymax)\n",
        "plt.show()"
      ],
      "execution_count": null,
      "outputs": []
    },
    {
      "cell_type": "markdown",
      "metadata": {
        "id": "S-aXP-WsCcNs"
      },
      "source": [
        "\n",
        "10.3) Igual que el caso anterior pero, con fricción: $b_1=0.1, b_2=0.2$"
      ]
    },
    {
      "cell_type": "code",
      "metadata": {
        "id": "trRC_VYgBLOo"
      },
      "source": [
        "#La parte homogenea\n",
        "#Condiciones iniciales\n",
        "k2=4\n",
        "k1=6\n",
        "b1=0.1\n",
        "b2=0.2\n",
        "A10=np.array([[0,1,0,0],[-1*(k2+k1),-1*b1,k2,0],[0,0,0,1],[k2,0,-1*k2,-1*b2]])\n",
        "print('La matriz en cuestion es ')\n",
        "print(A10)\n",
        "print()\n",
        "C=np.array([[0],[2],[0],[4]])\n",
        "def dX_dt(X,t=0):\n",
        "  return np.array([X[1] , -1*(k2+k1)*X[0] -1*b1*X[1] +k2*X[2]  ,  \n",
        "                   X[3]  ,   -1*k2*X[2]+k2*X[0]])\n",
        "\n",
        "\n"
      ],
      "execution_count": null,
      "outputs": []
    },
    {
      "cell_type": "code",
      "metadata": {
        "id": "HoEOjd7TAm-w"
      },
      "source": [
        "C_sol=la.solve(A10,-1*C)\n",
        "print(C_sol)"
      ],
      "execution_count": null,
      "outputs": []
    },
    {
      "cell_type": "code",
      "metadata": {
        "id": "H65slUPpBSyk"
      },
      "source": [
        "#Puntos criticos del sistema\n",
        "X_f0=np.array([0.0  , 0.0  , 0.0  , 0.0  ])\n",
        "#Usando matriz aumentada de gauss\n",
        "#Condiciones iniciales\n",
        "X0=np.array([0.0  , 0.0  ,2.0  , 0.0  ])\n",
        "\n",
        "print('Puntos criticos del sistema para los valores dados')\n",
        "print('X_f0=   ',X_f0)\n",
        "\n",
        "#checamos que la derivada si sea 0 en los puntos criticos\n",
        "#all(dX_dt(X_f0)== np.zeros(4) ) and all(dX_dt(X_f1)==np.zeros(4))\n",
        "all(dX_dt(X_f0) == np.zeros(4) ) #and all(dX_dt(X_f1) == np.zeros(4))\n"
      ],
      "execution_count": null,
      "outputs": []
    },
    {
      "cell_type": "code",
      "metadata": {
        "id": "UjTweHXzBd4R"
      },
      "source": [
        "##Definimos el jacobiano evaluado en X\n",
        "#np.array([X[1] , -1*(k2+k1)*X[0] -1*b1*X[1] +k2*X[2]  ,  \n",
        "#                   X[3]  ,   -1*k2*X[2]+k2*X[0]])\n",
        "def d2X_dt2(X,t=0):\n",
        "  return np.array([ [0  ,         1 ,    0 , 0], \n",
        "                   [-1*(k2+k1), -1*b1,   k2,  0 ], \n",
        "                   [0,               0,    0,   1],\n",
        "                  [k2 ,  0  ,  -1*k2,  0   ]])\n",
        "#Jacobiano evaluado en el punto critico\n",
        "A_f1=d2X_dt2(X_f0)\n",
        "print('Jacobiano evaluado en punto critico')\n",
        "print(A_f1)\n",
        "lambda1,lambda2,lambda3,lambda4=linalg.eigvals(A_f1)\n",
        "print('eigenvalores del jacobiano en X')\n",
        "print(lambda1)\n",
        "print(lambda2)\n",
        "print(lambda3)\n",
        "print(lambda4)\n",
        "#Todos tienen parte real e imaginaria\n"
      ],
      "execution_count": null,
      "outputs": []
    },
    {
      "cell_type": "code",
      "metadata": {
        "id": "I5EUzDoTBjul"
      },
      "source": [
        "T_f1 = 2*np.pi/abs(lambda1) \n",
        "print('Periodo:', T_f1)\n",
        "#T_f2 = 2*np.pi/abs(lambda3) \n",
        "#print('Periodo 2:', T_f1)"
      ],
      "execution_count": null,
      "outputs": []
    },
    {
      "cell_type": "code",
      "metadata": {
        "id": "rz40p6R3Bp2s"
      },
      "source": [
        "#Ahora si busquemos la solucion\n",
        "t=np.linspace(0,30,1000)\n",
        "\n",
        "X,infodict=integrate.odeint(dX_dt,X0,t,full_output=True)\n",
        "infodict['message']"
      ],
      "execution_count": null,
      "outputs": []
    },
    {
      "cell_type": "code",
      "metadata": {
        "id": "DzcaryPKB4ww"
      },
      "source": [
        "x1, x3, x2, x4 =X.T+C_sol\n",
        "f1 = plt.figure();\n",
        "plt.figure(figsize=(10, 5)); \n",
        "plt.plot(t, x1, 'r-', label='masa 1');\n",
        "plt.plot(t, x2, 'b-', label='masa 2');\n",
        "plt.grid();\n",
        "plt.legend(loc='best');\n",
        "plt.xlabel('tiempo');\n",
        "plt.ylabel('ubicacion');\n",
        "plt.title('Evolucion de un sistema compuesto');\n",
        "plt.show();"
      ],
      "execution_count": null,
      "outputs": []
    },
    {
      "cell_type": "code",
      "metadata": {
        "id": "FLNbpZYELKzr"
      },
      "source": [
        "tr=np.linspace(0,500,5000)\n",
        "\n",
        "X,infodict=integrate.odeint(dX_dt,X0,tr,full_output=True)\n",
        "infodict['message']\n",
        "x1, x3, x2, x4 =X.T+C_sol\n",
        "f1 = plt.figure();\n",
        "plt.figure(figsize=(10, 5)); \n",
        "plt.plot(tr, x1, 'r-', label='masa 1');\n",
        "plt.plot(tr, x2, 'b-', label='masa 2');\n",
        "plt.grid();\n",
        "plt.legend(loc='best');\n",
        "plt.xlabel('tiempo');\n",
        "plt.ylabel('ubicacion');\n",
        "plt.title('Evolucion de un sistema compuesto');\n",
        "plt.show();"
      ],
      "execution_count": null,
      "outputs": []
    },
    {
      "cell_type": "code",
      "metadata": {
        "id": "qdaYIOjqB_TO"
      },
      "source": [
        "import numpy as np\n",
        "from scipy import integrate, linalg\n",
        "import pylab as plt\n",
        "from matplotlib import cm\n",
        "\n",
        "\n",
        "# Graficamos la familia de soluciones en el espacio fase para distintas condiciones iniciales\n",
        "\n",
        "values  = np.linspace(1, 10, 1) \n",
        "# posición de X0 entre X_f0 y X_f1\n",
        "vcolors = plt.cm.cividis(np.linspace(0.3, 1., len(values))) \n",
        " # colores para cada trayectoria\n",
        "plt.figure(figsize=(12, 8)); \n",
        "\n",
        "#-------------------------------------------------------\n",
        "# grafica las trayectorias\n",
        "for v, col in zip(values, vcolors):\n",
        "    X0 = v * X_f0                             \n",
        "    # punto inicial\n",
        "    X = integrate.odeint( dX_dt, X0, t)         \n",
        "    # Integración para cada condición inicial\n",
        "    plt.plot( X[:,0], X[:,2], lw=3.5*v, color=col,\n",
        "             label='X0=(%.f, %.f)' % ( X0[0], X0[2]) )\n",
        "ymax = plt.ylim(ymin=0)[1]                        # get axis limits\n",
        "xmax = plt.xlim(xmin=0)[1]\n",
        "\n",
        "for v, col in zip(values, vcolors):\n",
        "    X0 = v * X_f0                             \n",
        "    # punto inicial\n",
        "    X = integrate.odeint( dX_dt, X0, t)         \n",
        "    # Integración para cada condición inicial\n",
        "    plt.plot( X[:,1], X[:,3], lw=3.5*v, color=col,\n",
        "             label='X0=(%.f, %.f)' % ( X0[1], X0[3]) )\n",
        "#-------------------------------------------------------\n",
        "# define una malla y calcula la pendiente (dirección) en cada punto\n",
        "\n",
        "y2max= plt.ylim(ymin=0)[1]   \n",
        "x2max= plt.xlim(xmin=0)[1] \n",
        "nb_points   = 20\n",
        "\n",
        "x = np.linspace(0, xmax, nb_points)\n",
        "y = np.linspace(0, ymax, nb_points)\n",
        "x2 = np.linspace(0, x2max, nb_points)\n",
        "y2 = np.linspace(0, y2max, nb_points)\n",
        "\n",
        "X1 , Y1 = np.meshgrid(x, y)     \n",
        "X2 , Y2 = np.meshgrid(x2, y2)                    # crea la malla\n",
        "DX1, DY1, DX2, DY2 = dX_dt([X1, Y1, X2  , Y2]) \n",
        "#dX_df es una funcion                     # calcula la tasa de crecimiento\n",
        "#De 4 componentes necesito la de x1 y x2\n",
        "\n",
        "\n",
        "M = (np.hypot(DX1, DY1))                           # distancia euclideana \n",
        "M[ M == 0] = 1.                                 # Evita divisiones entre 0 \n",
        "DX1 /= M                                        # Normaliza el tamaño de cada flecha\n",
        "DY1 /= M\n",
        "\n",
        "#-------------------------------------------------------\n",
        "# Dibujar los campos de direcciones usando la función quiver de Matplotlib \n",
        "# EL color de las flechas indica la rapidez de crecimiento\n",
        "\n",
        "plt.title('Plano Fase: Trayectorias y campo de direcciones - Punto crítico (0,0)')\n",
        "Q = plt.quiver(X1, Y1, DX1, DY1, M, pivot='mid', cmap=plt.cm.jet)\n",
        "plt.xlabel('X1')\n",
        "plt.ylabel('X2')\n",
        "plt.legend(loc='best')\n",
        "plt.grid()\n",
        "plt.xlim(0, xmax)\n",
        "plt.ylim(0, ymax)\n",
        "plt.show()"
      ],
      "execution_count": null,
      "outputs": []
    }
  ]
}