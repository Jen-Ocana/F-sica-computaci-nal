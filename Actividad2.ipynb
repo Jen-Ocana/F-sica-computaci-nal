{
  "nbformat": 4,
  "nbformat_minor": 0,
  "metadata": {
    "colab": {
      "name": "Actividad2.ipynb",
      "provenance": [],
      "collapsed_sections": [
        "SmZ9CV5NsfHk",
        "HYhRcJRatYpa",
        "MmTF7Zn6tl0n",
        "9Y3AA_MTs-q1",
        "HBwT2y3_CbJA"
      ],
      "authorship_tag": "ABX9TyPSctwrSKRSoYm4U8JNYlwT",
      "include_colab_link": true
    },
    "kernelspec": {
      "name": "python3",
      "display_name": "Python 3"
    }
  },
  "cells": [
    {
      "cell_type": "markdown",
      "metadata": {
        "id": "view-in-github",
        "colab_type": "text"
      },
      "source": [
        "<a href=\"https://colab.research.google.com/github/Jen-Ocana/Fisica-Computacional-1/blob/master/Actividad2.ipynb\" target=\"_parent\"><img src=\"https://colab.research.google.com/assets/colab-badge.svg\" alt=\"Open In Colab\"/></a>"
      ]
    },
    {
      "cell_type": "markdown",
      "metadata": {
        "id": "zNCFNs28tti8"
      },
      "source": [
        "#***Actividad 2***"
      ]
    },
    {
      "cell_type": "markdown",
      "metadata": {
        "id": "SmZ9CV5NsfHk"
      },
      "source": [
        "##Ejercicio 1\r\n"
      ]
    },
    {
      "cell_type": "markdown",
      "metadata": {
        "id": "iYlf8MO2ksej"
      },
      "source": [
        "###Ejemplo"
      ]
    },
    {
      "cell_type": "code",
      "metadata": {
        "id": "L0nBek2Yto4z"
      },
      "source": [
        "#La primera celda se incluten las bibliotecas a utilzar\r\n",
        "import numpy as np\r\n",
        "#CTRL+ENTER\r\n",
        "\r\n",
        "# Se utiliza el símbolo # para hacer comentarios.\r\n",
        "# Se define una función de 2 variables para calcular el área.  \r\n",
        "def area(x, y):\r\n",
        "    return x*y\r\n",
        "\r\n",
        "print(\"Proporciona el largo y altura del rectángulo: \", end=\"\")\r\n",
        "l = float(input())\r\n",
        "w = float(input())\r\n",
        "a = area(l, w)\r\n",
        "# Imprime el valor del área en formato libre.\r\n",
        "print(\"\\nArea = \", a)\r\n",
        "# Imprime el valor del área con 2 decimales. \r\n",
        "print(\"\\nArea = {:.2f}\".format(a))"
      ],
      "execution_count": null,
      "outputs": []
    },
    {
      "cell_type": "markdown",
      "metadata": {
        "id": "XH5Mx9Thk_UR"
      },
      "source": [
        "###Elipse y circulo\r\n",
        "Aqui calculamos el area de una elipse o de un circulo, siendo este un caso especial de elipse utilizamos la forma \r\n",
        "$$ Area=\\pi\\cdot radio\\:mayor \\cdot radio\\:menor$$\r\n",
        "donde en el caso del circulo el radio mayor y menor son iguales"
      ]
    },
    {
      "cell_type": "code",
      "metadata": {
        "id": "9dePIERRv5ZO"
      },
      "source": [
        "import numpy as np\r\n",
        "#Este codigo es para calcular area de: un círculo y  una elipse.\r\n",
        "def area(x, y):\r\n",
        "    return x*y*np.pi\r\n",
        "print(\"Este codigo te proporciona el area de una elipse \")\r\n",
        "print(\"incluyendo los circulos, si recordamos un circulo \")\r\n",
        "print(\"el caso de una elipse con los dos ejes del mismo tamaño\",end=\"\")\r\n",
        "print(\"\\n¿Cuales son las longitudes de los radios? Inserta tus respuetas \",end=\"\")\r\n",
        "a= float(input())\r\n",
        "b=float(input())\r\n",
        "c=area(a,b)\r\n",
        "print(\"\\nArea = {:.2f}\".format(c))"
      ],
      "execution_count": null,
      "outputs": []
    },
    {
      "cell_type": "markdown",
      "metadata": {
        "id": "I5KbxcUOzsbp"
      },
      "source": [
        "###Volumen de una esfera\r\n",
        "En esta seccion calculamos el volumen de una esfera con la formula \\\\\r\n",
        "$$Area= \\pi \\cdot radio^3 \\cdot (4/3) $$"
      ]
    },
    {
      "cell_type": "code",
      "metadata": {
        "id": "a3wjNF6-tG9K"
      },
      "source": [
        "import numpy as np\r\n",
        "def volumen(x):\r\n",
        "    return (4/3)*(x**3)*(np.pi)\r\n",
        "print(\"Este codigo proporciona el volumen de una esfera de radio conocido \",end=\"\")\r\n",
        "print(\"\\nIngresar el radio de la esfera \")\r\n",
        "r= float(input())\r\n",
        "v= volumen(r)\r\n",
        "print(\"\\nVolumen = {:.2f}\".format(v))"
      ],
      "execution_count": null,
      "outputs": []
    },
    {
      "cell_type": "markdown",
      "metadata": {
        "id": "AoRM_NM6zPbc"
      },
      "source": [
        "###Volumen de un cilindro circular\r\n",
        "En esta seccion calculamos el area de un cilindro circular de radio \"r\" y longitud \"l\" donde el volumen se calcula como\r\n",
        "$$ Volumen = \\pi \\cdot\\ r^2 \\cdot l $$\r\n"
      ]
    },
    {
      "cell_type": "code",
      "metadata": {
        "id": "H1DOAFBM0d-q"
      },
      "source": [
        "import numpy as np\r\n",
        "def vol(x,y):\r\n",
        "    return (np.pi)*(x**2)*y\r\n",
        "print(\"Este programa calcula el volumen de un cilindro circular de radio y altura conocidos\",end=\"\")\r\n",
        "print(\"\\nInserte por favor el radio de la base circular\")\r\n",
        "r=float(input())\r\n",
        "print(\"Inserte la altura del cilindro \",end=\"\")\r\n",
        "l=float(input())\r\n",
        "v=vol(r,l)\r\n",
        "print(\"\\nEl volumen del cilindro es ={:.2f}\".format(v))"
      ],
      "execution_count": null,
      "outputs": []
    },
    {
      "cell_type": "markdown",
      "metadata": {
        "id": "HYhRcJRatYpa"
      },
      "source": [
        "##Ejercicio 2\r\n"
      ]
    },
    {
      "cell_type": "markdown",
      "metadata": {
        "id": "MmTF7Zn6tl0n"
      },
      "source": [
        "###Raices de una ecuacion cuadratica\r\n",
        "En este codigo se buscan las raices reales de una ecuacion de segundo grado de una sola variable utilizando la formula general y las siguientes consideraciones\r\n",
        "$ x= \\frac{-b \\pm \\sqrt {b^2 - 4 \\cdot a \\cdot c}}{2 \\cdot a}$\r\n",
        "\r\n",
        "Y si el determinante $\\sqrt {b^2 - 4 \\cdot a \\cdot c}$\r\n",
        "es menor que 0 quiere decir que las raices son imaginarias, que sea igual a sero quiere decir que hay una sola raiz, y que sea mayor a 0 que hay una raiz positiva y otra negativa."
      ]
    },
    {
      "cell_type": "code",
      "metadata": {
        "id": "JAVhVJXc9NZs"
      },
      "source": [
        "##Raices de una ecuacion cuadratica \r\n",
        "##Utilizaremos el metodo de newton\r\n",
        "import numpy as np\r\n",
        "import sympy as sp\r\n",
        "print(\"Este programa esta hecho para buscar raices de ecuaciones cuadraticas de \")\r\n",
        "print(\"una variable mediante el metodo de Newton\")\r\n",
        "print(\"Ingrese los coefientes de la ec.cuadratica de una variable\")\r\n",
        "print(\"El coeficiente el termino cuadratico\")\r\n",
        "a=float(input())\r\n",
        "print(\"El coeficiente el termino lineal\")\r\n",
        "b=float(input())\r\n",
        "print(\"El coeficiente el termino independiente\")\r\n",
        "c=float(input())\r\n",
        "#Para proceder exponemos los tres casos posibles\r\n",
        "def g(x,y,z):\r\n",
        "    return (-b+np.sqrt((b**(2))-(4*a*c)))/(a*2)\r\n",
        "        \r\n",
        "def ge(x,y,z):\r\n",
        "    return (-b-np.sqrt((b**(2))-(4*a*c)))/(a*2)\r\n",
        "\r\n",
        "if (b**(2)-(4*a*c))<0:\r\n",
        "    print(\"No manejamos numeros imaginarios\")\r\n",
        "    \r\n",
        "elif (b**(2)-(4*a*c)==0):\r\n",
        "     print(f\"La raiz es {g(a,b,c)}\")\r\n",
        "     \r\n",
        "elif (b**(2)-(4*a*c)>0):\r\n",
        "   print(f\"Las raices son {g(a,b,c)} y {ge(a,b,c)}\")\r\n",
        "   \r\n",
        "else:\r\n",
        "    print(\"Un error inesperado a sucedido\")\r\n",
        "    \r\n",
        "\r\n"
      ],
      "execution_count": null,
      "outputs": []
    },
    {
      "cell_type": "markdown",
      "metadata": {
        "id": "9Y3AA_MTs-q1"
      },
      "source": [
        "##Ejercicio 3\r\n"
      ]
    },
    {
      "cell_type": "markdown",
      "metadata": {
        "id": "HBwT2y3_CbJA"
      },
      "source": [
        "###Raiz cuadrada\r\n",
        "Para conseguir la raiz cuadrada del número proporcionado se utiliza el metodo babilonico en el que se hace una primera aproximacion b de modo que si esta no es la raiz se hace un proceso recursivo en el que \r\n",
        "$ b=(1/2) \\cdot ( \\frac{x}{b} +b)$ que termina convergiendo a la raiz del numero en cuestion. El metodo viene de aproximar la raiz de un numero x pensando en el lado de un cuadrado de area x aproximando primero por dos numeros cuyo producto sea x, es decir un rectangulo y ir partiendo los lados para aproximar un cuadrado."
      ]
    },
    {
      "cell_type": "code",
      "metadata": {
        "id": "-Z4Mx_2kCs4J",
        "colab": {
          "base_uri": "https://localhost:8080/",
          "height": 545
        },
        "outputId": "13d327d5-97a1-4fd3-fe09-ad7a50eb60f2"
      },
      "source": [
        "#Este codigo sirve para calcular una raiz de un numero dado\r\n",
        "import numpy as np\r\n",
        "print(\"Para calcular la raiz cuadrada de un número por favor inserte el número del que desea calcular la raiz\")\r\n",
        "x=float(input())\r\n",
        "print(\"Ingresar un numero, mientras mas cercanos sea mas rapido se llegara a la raiz \")\r\n",
        "b= float(input())\r\n",
        "#h=float(input())\r\n",
        "i=0\r\n",
        "while i==0:\r\n",
        "    if (((x/b)+0.01)>b>((x/b)-0.01)):\r\n",
        "         print(f\"Encontrado {b}, es la raiz\")\r\n",
        "         i=1\r\n",
        "    elif b==(x/b):\r\n",
        "         print(f\"Encontrado {b}, es la raiz\")\r\n",
        "         i=1\r\n",
        "    elif b>x:\r\n",
        "        print(\"Busque otra aproximacion inicial, menor que el numero en cuestion\")\r\n",
        "        break\r\n",
        "    else:\r\n",
        "           b=(1/2)*((x/b)+b)\r\n",
        "           print(\"paso\",b)\r\n",
        "\r\n",
        "print(\"Comparando con \",np.sqrt(x),\" es la obtenida\",end=\"\")\r\n",
        "           \r\n",
        "    \r\n",
        "            \r\n",
        "     \r\n",
        "\r\n"
      ],
      "execution_count": null,
      "outputs": [
        {
          "output_type": "stream",
          "text": [
            "Para calcular la raiz cuadrada de un número por favor inserte el número del que desea calcular la raiz\n"
          ],
          "name": "stdout"
        },
        {
          "output_type": "error",
          "ename": "KeyboardInterrupt",
          "evalue": "ignored",
          "traceback": [
            "\u001b[0;31m---------------------------------------------------------------------------\u001b[0m",
            "\u001b[0;31mKeyboardInterrupt\u001b[0m                         Traceback (most recent call last)",
            "\u001b[0;32m/usr/local/lib/python3.6/dist-packages/ipykernel/kernelbase.py\u001b[0m in \u001b[0;36m_input_request\u001b[0;34m(self, prompt, ident, parent, password)\u001b[0m\n\u001b[1;32m    728\u001b[0m             \u001b[0;32mtry\u001b[0m\u001b[0;34m:\u001b[0m\u001b[0;34m\u001b[0m\u001b[0;34m\u001b[0m\u001b[0m\n\u001b[0;32m--> 729\u001b[0;31m                 \u001b[0mident\u001b[0m\u001b[0;34m,\u001b[0m \u001b[0mreply\u001b[0m \u001b[0;34m=\u001b[0m \u001b[0mself\u001b[0m\u001b[0;34m.\u001b[0m\u001b[0msession\u001b[0m\u001b[0;34m.\u001b[0m\u001b[0mrecv\u001b[0m\u001b[0;34m(\u001b[0m\u001b[0mself\u001b[0m\u001b[0;34m.\u001b[0m\u001b[0mstdin_socket\u001b[0m\u001b[0;34m,\u001b[0m \u001b[0;36m0\u001b[0m\u001b[0;34m)\u001b[0m\u001b[0;34m\u001b[0m\u001b[0;34m\u001b[0m\u001b[0m\n\u001b[0m\u001b[1;32m    730\u001b[0m             \u001b[0;32mexcept\u001b[0m \u001b[0mException\u001b[0m\u001b[0;34m:\u001b[0m\u001b[0;34m\u001b[0m\u001b[0;34m\u001b[0m\u001b[0m\n",
            "\u001b[0;32m/usr/local/lib/python3.6/dist-packages/jupyter_client/session.py\u001b[0m in \u001b[0;36mrecv\u001b[0;34m(self, socket, mode, content, copy)\u001b[0m\n\u001b[1;32m    802\u001b[0m         \u001b[0;32mtry\u001b[0m\u001b[0;34m:\u001b[0m\u001b[0;34m\u001b[0m\u001b[0;34m\u001b[0m\u001b[0m\n\u001b[0;32m--> 803\u001b[0;31m             \u001b[0mmsg_list\u001b[0m \u001b[0;34m=\u001b[0m \u001b[0msocket\u001b[0m\u001b[0;34m.\u001b[0m\u001b[0mrecv_multipart\u001b[0m\u001b[0;34m(\u001b[0m\u001b[0mmode\u001b[0m\u001b[0;34m,\u001b[0m \u001b[0mcopy\u001b[0m\u001b[0;34m=\u001b[0m\u001b[0mcopy\u001b[0m\u001b[0;34m)\u001b[0m\u001b[0;34m\u001b[0m\u001b[0;34m\u001b[0m\u001b[0m\n\u001b[0m\u001b[1;32m    804\u001b[0m         \u001b[0;32mexcept\u001b[0m \u001b[0mzmq\u001b[0m\u001b[0;34m.\u001b[0m\u001b[0mZMQError\u001b[0m \u001b[0;32mas\u001b[0m \u001b[0me\u001b[0m\u001b[0;34m:\u001b[0m\u001b[0;34m\u001b[0m\u001b[0;34m\u001b[0m\u001b[0m\n",
            "\u001b[0;32m/usr/local/lib/python3.6/dist-packages/zmq/sugar/socket.py\u001b[0m in \u001b[0;36mrecv_multipart\u001b[0;34m(self, flags, copy, track)\u001b[0m\n\u001b[1;32m    565\u001b[0m         \"\"\"\n\u001b[0;32m--> 566\u001b[0;31m         \u001b[0mparts\u001b[0m \u001b[0;34m=\u001b[0m \u001b[0;34m[\u001b[0m\u001b[0mself\u001b[0m\u001b[0;34m.\u001b[0m\u001b[0mrecv\u001b[0m\u001b[0;34m(\u001b[0m\u001b[0mflags\u001b[0m\u001b[0;34m,\u001b[0m \u001b[0mcopy\u001b[0m\u001b[0;34m=\u001b[0m\u001b[0mcopy\u001b[0m\u001b[0;34m,\u001b[0m \u001b[0mtrack\u001b[0m\u001b[0;34m=\u001b[0m\u001b[0mtrack\u001b[0m\u001b[0;34m)\u001b[0m\u001b[0;34m]\u001b[0m\u001b[0;34m\u001b[0m\u001b[0;34m\u001b[0m\u001b[0m\n\u001b[0m\u001b[1;32m    567\u001b[0m         \u001b[0;31m# have first part already, only loop while more to receive\u001b[0m\u001b[0;34m\u001b[0m\u001b[0;34m\u001b[0m\u001b[0;34m\u001b[0m\u001b[0m\n",
            "\u001b[0;32mzmq/backend/cython/socket.pyx\u001b[0m in \u001b[0;36mzmq.backend.cython.socket.Socket.recv\u001b[0;34m()\u001b[0m\n",
            "\u001b[0;32mzmq/backend/cython/socket.pyx\u001b[0m in \u001b[0;36mzmq.backend.cython.socket.Socket.recv\u001b[0;34m()\u001b[0m\n",
            "\u001b[0;32mzmq/backend/cython/socket.pyx\u001b[0m in \u001b[0;36mzmq.backend.cython.socket._recv_copy\u001b[0;34m()\u001b[0m\n",
            "\u001b[0;32m/usr/local/lib/python3.6/dist-packages/zmq/backend/cython/checkrc.pxd\u001b[0m in \u001b[0;36mzmq.backend.cython.checkrc._check_rc\u001b[0;34m()\u001b[0m\n",
            "\u001b[0;31mKeyboardInterrupt\u001b[0m: ",
            "\nDuring handling of the above exception, another exception occurred:\n",
            "\u001b[0;31mKeyboardInterrupt\u001b[0m                         Traceback (most recent call last)",
            "\u001b[0;32m<ipython-input-2-6f293033797d>\u001b[0m in \u001b[0;36m<module>\u001b[0;34m()\u001b[0m\n\u001b[1;32m      2\u001b[0m \u001b[0;32mimport\u001b[0m \u001b[0mnumpy\u001b[0m \u001b[0;32mas\u001b[0m \u001b[0mnp\u001b[0m\u001b[0;34m\u001b[0m\u001b[0;34m\u001b[0m\u001b[0m\n\u001b[1;32m      3\u001b[0m \u001b[0mprint\u001b[0m\u001b[0;34m(\u001b[0m\u001b[0;34m\"Para calcular la raiz cuadrada de un número por favor inserte el número del que desea calcular la raiz\"\u001b[0m\u001b[0;34m)\u001b[0m\u001b[0;34m\u001b[0m\u001b[0;34m\u001b[0m\u001b[0m\n\u001b[0;32m----> 4\u001b[0;31m \u001b[0mx\u001b[0m\u001b[0;34m=\u001b[0m\u001b[0mfloat\u001b[0m\u001b[0;34m(\u001b[0m\u001b[0minput\u001b[0m\u001b[0;34m(\u001b[0m\u001b[0;34m)\u001b[0m\u001b[0;34m)\u001b[0m\u001b[0;34m\u001b[0m\u001b[0;34m\u001b[0m\u001b[0m\n\u001b[0m\u001b[1;32m      5\u001b[0m \u001b[0mprint\u001b[0m\u001b[0;34m(\u001b[0m\u001b[0;34m\"Ingresar un numero, mientras mas cercanos sea mas rapido se llegara a la raiz \"\u001b[0m\u001b[0;34m)\u001b[0m\u001b[0;34m\u001b[0m\u001b[0;34m\u001b[0m\u001b[0m\n\u001b[1;32m      6\u001b[0m \u001b[0mb\u001b[0m\u001b[0;34m=\u001b[0m \u001b[0mfloat\u001b[0m\u001b[0;34m(\u001b[0m\u001b[0minput\u001b[0m\u001b[0;34m(\u001b[0m\u001b[0;34m)\u001b[0m\u001b[0;34m)\u001b[0m\u001b[0;34m\u001b[0m\u001b[0;34m\u001b[0m\u001b[0m\n",
            "\u001b[0;32m/usr/local/lib/python3.6/dist-packages/ipykernel/kernelbase.py\u001b[0m in \u001b[0;36mraw_input\u001b[0;34m(self, prompt)\u001b[0m\n\u001b[1;32m    702\u001b[0m             \u001b[0mself\u001b[0m\u001b[0;34m.\u001b[0m\u001b[0m_parent_ident\u001b[0m\u001b[0;34m,\u001b[0m\u001b[0;34m\u001b[0m\u001b[0;34m\u001b[0m\u001b[0m\n\u001b[1;32m    703\u001b[0m             \u001b[0mself\u001b[0m\u001b[0;34m.\u001b[0m\u001b[0m_parent_header\u001b[0m\u001b[0;34m,\u001b[0m\u001b[0;34m\u001b[0m\u001b[0;34m\u001b[0m\u001b[0m\n\u001b[0;32m--> 704\u001b[0;31m             \u001b[0mpassword\u001b[0m\u001b[0;34m=\u001b[0m\u001b[0;32mFalse\u001b[0m\u001b[0;34m,\u001b[0m\u001b[0;34m\u001b[0m\u001b[0;34m\u001b[0m\u001b[0m\n\u001b[0m\u001b[1;32m    705\u001b[0m         )\n\u001b[1;32m    706\u001b[0m \u001b[0;34m\u001b[0m\u001b[0m\n",
            "\u001b[0;32m/usr/local/lib/python3.6/dist-packages/ipykernel/kernelbase.py\u001b[0m in \u001b[0;36m_input_request\u001b[0;34m(self, prompt, ident, parent, password)\u001b[0m\n\u001b[1;32m    732\u001b[0m             \u001b[0;32mexcept\u001b[0m \u001b[0mKeyboardInterrupt\u001b[0m\u001b[0;34m:\u001b[0m\u001b[0;34m\u001b[0m\u001b[0;34m\u001b[0m\u001b[0m\n\u001b[1;32m    733\u001b[0m                 \u001b[0;31m# re-raise KeyboardInterrupt, to truncate traceback\u001b[0m\u001b[0;34m\u001b[0m\u001b[0;34m\u001b[0m\u001b[0;34m\u001b[0m\u001b[0m\n\u001b[0;32m--> 734\u001b[0;31m                 \u001b[0;32mraise\u001b[0m \u001b[0mKeyboardInterrupt\u001b[0m\u001b[0;34m\u001b[0m\u001b[0;34m\u001b[0m\u001b[0m\n\u001b[0m\u001b[1;32m    735\u001b[0m             \u001b[0;32melse\u001b[0m\u001b[0;34m:\u001b[0m\u001b[0;34m\u001b[0m\u001b[0;34m\u001b[0m\u001b[0m\n\u001b[1;32m    736\u001b[0m                 \u001b[0;32mbreak\u001b[0m\u001b[0;34m\u001b[0m\u001b[0;34m\u001b[0m\u001b[0m\n",
            "\u001b[0;31mKeyboardInterrupt\u001b[0m: "
          ]
        }
      ]
    },
    {
      "cell_type": "markdown",
      "metadata": {
        "id": "vDevfWjpLsE4"
      },
      "source": [
        "##Ejercicio 4"
      ]
    },
    {
      "cell_type": "markdown",
      "metadata": {
        "id": "Nc7W-AzeLvXH"
      },
      "source": [
        "###Reproduce la figura\r\n",
        "Reproducir la figura que aparece en el artículo de Wikipedia sobre Series de Taylor, que muestra la aproximación de la función ln(1+x) alrededor de x=0."
      ]
    },
    {
      "cell_type": "code",
      "metadata": {
        "colab": {
          "base_uri": "https://localhost:8080/",
          "height": 349
        },
        "id": "FrbNWo8ovDDe",
        "outputId": "d86ea2c2-cc57-4fed-9029-de94ea1d80b2"
      },
      "source": [
        "import numpy as np\r\n",
        "import matplotlib.pyplot as plt\r\n",
        "\r\n",
        "x = np.linspace(-2,2,100)  # arrego de 100 puntos entre -pi y pi\r\n",
        "\r\n",
        "y = np.log(1+x)      # y será también un arreglo de 100 puntos automáticamente \r\n",
        "##Debemos tener los terminos para hacer la serie de T4,T7,T11,T16\r\n",
        "##Parecido a serie de taylor lo podria adaptar para ln\r\n",
        "import math\r\n",
        "\r\n",
        "s7=0\r\n",
        "for i in range(1,8):\r\n",
        "    s7+=((-1)**(i+1))*((x**i)/(i))\r\n",
        "\r\n",
        "s4=0\r\n",
        "for i in range(1,5):\r\n",
        "    s4+=((-1)**(i+1))*((x**i)/(i))\r\n",
        "\r\n",
        "s11=0\r\n",
        "for i in range(1,12):\r\n",
        "    s11+=((-1)**(i+1))*((x**i)/(i))\r\n",
        "\r\n",
        "s16=0\r\n",
        "for i in range(1,17):\r\n",
        "    s16+=((-1)**(i+1))*((x**i)/(i))\r\n",
        "\r\n",
        "\r\n",
        "# Creación de la gráficas\r\n",
        "\r\n",
        "plt.subplot(111)\r\n",
        "\r\n",
        "plt.xlabel(\"X label\")\r\n",
        "\r\n",
        "plt.ylabel(\"Y label\")\r\n",
        "\r\n",
        "plt.title(\"ln(1+x) y aproximaciones por Serie de Taylor\")\r\n",
        "\r\n",
        "\r\n",
        "# Graficar varias funciones\r\n",
        "\r\n",
        "plt.plot(x,y, label=\"ln(1+x)\")\r\n",
        "\r\n",
        "plt.plot(x,s4, label='Serie Taylor Orden 4')\r\n",
        "\r\n",
        "plt.plot(x,s7, label='Serie Taylor Orden 7')\r\n",
        "\r\n",
        "plt.plot(x,s11, label='Serie Taylor Orden 11')\r\n",
        "\r\n",
        "plt.plot(x,s16, label='Serie Taylor Orden 16')\r\n",
        "\r\n",
        "# Agregar una malla\r\n",
        "\r\n",
        "plt.grid(True)\r\n",
        "\r\n",
        "# Fijar los límites en el eje Y.\r\n",
        "\r\n",
        "plt.ylim(-4, 2)\r\n",
        "plt.xlim(-1.5, 1.5)\r\n",
        "# Ubicación de las etiquetas de las funciones\r\n",
        "\r\n",
        "plt.legend(bbox_to_anchor=(1,1), loc=\"upper left\")\r\n",
        "\r\n",
        "plt.show()"
      ],
      "execution_count": 50,
      "outputs": [
        {
          "output_type": "stream",
          "text": [
            "/usr/local/lib/python3.6/dist-packages/ipykernel_launcher.py:6: RuntimeWarning: invalid value encountered in log\n",
            "  \n"
          ],
          "name": "stderr"
        },
        {
          "output_type": "display_data",
          "data": {
            "image/png": "[encoded data removed]",
            "text/plain": [
              "<Figure size 432x288 with 1 Axes>"
            ]
          },
          "metadata": {
            "tags": [],
            "needs_background": "light"
          }
        }
      ]
    },
    {
      "cell_type": "code",
      "metadata": {
        "id": "IL0D7x4-h6eK"
      },
      "source": [
        "##Parecido a serie de taylor lo podria adaptar para ln\r\n",
        "#import math \r\n",
        "#x=2\r\n",
        "#e_to_2=0\r\n",
        "#for i in range(15):\r\n",
        " # e_to_2+=x**i/math.factorial(i)\r\n",
        "#print(e_to_2)\r\n",
        "# Gráfica de funciones\r\n",
        "# Definición de variables y funciones\r\n"
      ],
      "execution_count": null,
      "outputs": []
    },
    {
      "cell_type": "markdown",
      "metadata": {
        "id": "ylgz6qUuJvro"
      },
      "source": [
        "##Ejemplos de la seccion\r\n"
      ]
    },
    {
      "cell_type": "markdown",
      "metadata": {
        "id": "THUs-VxyJ5o4"
      },
      "source": [
        "###Para graficar"
      ]
    },
    {
      "cell_type": "code",
      "metadata": {
        "id": "zWug5dhAKtuT"
      },
      "source": [
        "# Cargar la subbiblioteca pytlot de Matplotlib \r\n",
        "\r\n",
        "import matplotlib.pyplot as plt\r\n",
        "\r\n",
        "\r\n",
        "# Gráfica de funciones\r\n",
        "# Definición de variables y funciones\r\n",
        "\r\n",
        "x = np.linspace(-np.pi,np.pi,100)  # arrego de 100 puntos entre -pi y pi\r\n",
        "\r\n",
        "y = np.sin(x)      # y será también un arreglo de 100 puntos automáticamente \r\n",
        "\r\n",
        "y1 = x\r\n",
        "\r\n",
        "y3 = x**3/(3*2)\r\n",
        "\r\n",
        "y5 = x**5/(5*4*3*2)\r\n",
        "\r\n",
        "sT = y1 - y3 + y5 # Serie de Taylor de sin(x) a 5o. Orden.\r\n",
        "\r\n",
        " \r\n",
        "\r\n",
        "# Creación de la gráficas\r\n",
        "\r\n",
        "plt.subplot(111)\r\n",
        "\r\n",
        "plt.xlabel(\"X label\")\r\n",
        "\r\n",
        "plt.ylabel(\"Y label\")\r\n",
        "\r\n",
        "plt.title(\"Title\")\r\n",
        "\r\n",
        "\r\n",
        "# Graficar varias funciones\r\n",
        "\r\n",
        "plt.plot(x,y, label=\"sin(x)\")\r\n",
        "\r\n",
        "plt.plot(x,y1, label='x')\r\n",
        "\r\n",
        "plt.plot(x,sT, label='Serie Taylor Orden 5')\r\n",
        "\r\n",
        "# Agregar una malla\r\n",
        "\r\n",
        "plt.grid(True)\r\n",
        "\r\n",
        "# Fijar los límites en el eje Y.\r\n",
        "\r\n",
        "plt.ylim(-2, 2)\r\n",
        "\r\n",
        "# Ubicación de las etiquetas de las funciones\r\n",
        "\r\n",
        "plt.legend(bbox_to_anchor=(1,1), loc=\"upper left\")\r\n",
        "\r\n",
        "plt.show()\r\n",
        "\r\n",
        "#plt.savefig('plot.png')  # Si se desea guardar en un archivo la imagen de la gráfica"
      ],
      "execution_count": null,
      "outputs": []
    },
    {
      "cell_type": "markdown",
      "metadata": {
        "id": "epQffnHsKc4d"
      },
      "source": [
        "###De arreglos"
      ]
    },
    {
      "cell_type": "code",
      "metadata": {
        "id": "nfXRHKGVKi4d"
      },
      "source": [
        "Arreglos (vectores n-dimensionales)\r\n",
        "\r\n",
        " \r\n",
        "\r\n",
        "# Construcción de un arreglo\r\n",
        "\r\n",
        "s1 = np.array([1,2,3,4])      # Arreglo de enteros\r\n",
        "\r\n",
        "s2 = np.array([1,2,3,4.0])   # Un número flotante convierte al arreglo a flotante\r\n",
        "\r\n",
        "s3 = np.array([1,2,3,'4'])    # Un arreglo con un carácter, convierte a todo el arreglo de caracteres. \r\n",
        "\r\n",
        "s4 = np.arange(0,5,0.5)     # Inserta puntos cada 0.5 entre 0 y 5, pero no incluye el extremo superior\r\n",
        "\r\n",
        "s5 = np.linspace(0,5,20)    # Inserta 20 puntos entre 0 y 5, incluyendo extremos\r\n",
        "\r\n",
        " \r\n",
        "\r\n",
        "# Acceso a los elementos de un arreglo\r\n",
        "\r\n",
        "print(s1[2])       # accede al 3er elemento de s1\r\n",
        "\r\n",
        "print(s1[1:3])    # accede del 2o elemento hasta antes del 4o.   \r\n",
        "\r\n",
        " \r\n",
        "\r\n",
        "# Una dimensión\r\n",
        "\r\n",
        "x1 = np.array([1,2,3,4])\r\n",
        "\r\n",
        "y1 = np.array([1,2,3,4])\r\n",
        "\r\n",
        " \r\n",
        "\r\n",
        "# Dos dimensiones\r\n",
        "\r\n",
        "x2 = np.array([[0, 1], [1, 5]])\r\n",
        "\r\n",
        "y2 = np.array([[4, 0], [0, 4]])"
      ],
      "execution_count": null,
      "outputs": []
    },
    {
      "cell_type": "markdown",
      "metadata": {
        "id": "gm0hgw_SK6tc"
      },
      "source": [
        "###Biblioteca numpy y listas"
      ]
    },
    {
      "cell_type": "code",
      "metadata": {
        "id": "NF0YlOMNK-8i"
      },
      "source": [
        "\r\n",
        "Biblioteca Numpy.\r\n",
        "\r\n",
        "# Para cargar la biblioteca a la memoria de trabajo\r\n",
        "\r\n",
        "import numpy as np\r\n",
        "\r\n",
        " \r\n",
        "\r\n",
        "Tipos de datos en NumPy:\r\n",
        "\r\n",
        "i integer (entero)\r\n",
        "b boolean\r\n",
        "u unsigned integer\r\n",
        "f float (real)\r\n",
        "c complex float (complejo)\r\n",
        "m timedelta (tiempo hh:mm:sss)\r\n",
        "M datetime (fecha + tiempo)\r\n",
        "O object (objeto)\r\n",
        "S string (cadena de caracteres)\r\n",
        "U Unicode string  \r\n",
        " \r\n",
        "\r\n",
        "Listas (conjunto de objetos)\r\n",
        "\r\n",
        " \r\n",
        "\r\n",
        "lista1 = [1,2,3.0,4]\r\n",
        "\r\n",
        "lista2 = [1.,2,'3',4]\r\n",
        "\r\n",
        "print(lista1)\r\n",
        "\r\n",
        "print(lista2)\r\n",
        "\r\n",
        "print(lista1+lista2)"
      ],
      "execution_count": null,
      "outputs": []
    },
    {
      "cell_type": "markdown",
      "metadata": {
        "id": "1hguylAtLHOZ"
      },
      "source": [
        "###Ejemplos de loops, if, for"
      ]
    },
    {
      "cell_type": "code",
      "metadata": {
        "id": "DxaO_YrjLM4q"
      },
      "source": [
        "# Condicional: if \r\n",
        "\r\n",
        " \r\n",
        "\r\n",
        "x = 3\r\n",
        "\r\n",
        "y = 2\r\n",
        "\r\n",
        "z = 1\r\n",
        "\r\n",
        "if x == y:\r\n",
        "\r\n",
        "     print(\"Hola\")\r\n",
        "\r\n",
        "elif x == z:\r\n",
        "\r\n",
        "     print(\"Hasta luego\")\r\n",
        "\r\n",
        "else:\r\n",
        "\r\n",
        "     print(\"???\")\r\n",
        "\r\n",
        " \r\n",
        "\r\n",
        "# Loop: for\r\n",
        "\r\n",
        " \r\n",
        "\r\n",
        "print(\"loop 1\")\r\n",
        "\r\n",
        "for i in range(5): # default - comienza en 0, incrementa en 1\r\n",
        "\r\n",
        "     print(i)\r\n",
        "\r\n",
        " \r\n",
        "\r\n",
        "print(\"\\nloop 2\")\r\n",
        "\r\n",
        "for i in range(10, 2, -2): # entradas: inicio, fin, tamaño de paso \r\n",
        "\r\n",
        "     print(i)\r\n",
        "\r\n",
        " \r\n",
        "\r\n",
        "# Loop: while\r\n",
        "\r\n",
        " \r\n",
        "\r\n",
        "i = 1\r\n",
        "\r\n",
        "while i < 100:\r\n",
        "\r\n",
        "     print(i**2)\r\n",
        "\r\n",
        "     i += i**2 # a += b es notación compacta de a = a + b\r\n",
        "\r\n",
        " \r\n",
        "\r\n",
        "# Ejemplos de: continue y break \r\n",
        "\r\n",
        " \r\n",
        "\r\n",
        "for num in range(2, 10):\r\n",
        "\r\n",
        "     if num % 2 == 0:\r\n",
        "\r\n",
        "          continue # se regresa al inicio\r\n",
        "\r\n",
        "     print(f\"Encontrado {num}, un número impar\")\r\n",
        "\r\n",
        " \r\n",
        "\r\n",
        "n = 64\r\n",
        "\r\n",
        "for x in range(2, n):\r\n",
        "\r\n",
        "     if n % x == 0: # si n es divisible por x (modulo 0)\r\n",
        "\r\n",
        "          print(f'{n} igual {x} * {n // x}')\r\n",
        "\r\n",
        "          break\r\n",
        "\r\n",
        " \r\n",
        "\r\n",
        "for i in range(5):\r\n",
        "\r\n",
        "     for j in range(5*i):\r\n",
        "\r\n",
        "          if j == 10:\r\n",
        "\r\n",
        "               print(j)\r\n",
        "\r\n",
        "               break\r\n",
        "\r\n",
        "#break se va a esta línea\r\n",
        "\r\n",
        " \r\n",
        "\r\n",
        "if False:\r\n",
        "\r\n",
        "     pass # no hace nada, continua\r\n",
        "\r\n",
        "else:\r\n",
        "\r\n",
        "     print('True!')"
      ],
      "execution_count": null,
      "outputs": []
    }
  ]
}