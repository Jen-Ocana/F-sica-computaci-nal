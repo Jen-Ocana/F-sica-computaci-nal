{
  "nbformat": 4,
  "nbformat_minor": 0,
  "metadata": {
    "colab": {
      "name": "Actividad2.ipynb",
      "provenance": [],
      "authorship_tag": "ABX9TyOZLit1qDaPS5nY/z7BGp1s",
      "include_colab_link": true
    },
    "kernelspec": {
      "name": "python3",
      "display_name": "Python 3"
    }
  },
  "cells": [
    {
      "cell_type": "markdown",
      "metadata": {
        "id": "view-in-github",
        "colab_type": "text"
      },
      "source": [
        "<a href=\"https://colab.research.google.com/github/Jen-Ocana/Fisica-Computacional-1/blob/master/Actividad2.ipynb\" target=\"_parent\"><img src=\"https://colab.research.google.com/assets/colab-badge.svg\" alt=\"Open In Colab\"/></a>"
      ]
    },
    {
      "cell_type": "markdown",
      "metadata": {
        "id": "zNCFNs28tti8"
      },
      "source": [
        "#***Actividad 2***"
      ]
    },
    {
      "cell_type": "markdown",
      "metadata": {
        "id": "iYlf8MO2ksej"
      },
      "source": [
        "##Ejemplo"
      ]
    },
    {
      "cell_type": "code",
      "metadata": {
        "id": "L0nBek2Yto4z"
      },
      "source": [
        "#La primera celda se incluten las bibliotecas a utilzar\r\n",
        "import numpy as np\r\n",
        "#CTRL+ENTER\r\n",
        "\r\n",
        "# Se utiliza el símbolo # para hacer comentarios.\r\n",
        "# Se define una función de 2 variables para calcular el área.  \r\n",
        "def area(x, y):\r\n",
        "    return x*y\r\n",
        "\r\n",
        "print(\"Proporciona el largo y altura del rectángulo: \", end=\"\")\r\n",
        "l = float(input())\r\n",
        "w = float(input())\r\n",
        "a = area(l, w)\r\n",
        "# Imprime el valor del área en formato libre.\r\n",
        "print(\"\\nArea = \", a)\r\n",
        "# Imprime el valor del área con 2 decimales. \r\n",
        "print(\"\\nArea = {:.2f}\".format(a))"
      ],
      "execution_count": null,
      "outputs": []
    },
    {
      "cell_type": "markdown",
      "metadata": {
        "id": "XH5Mx9Thk_UR"
      },
      "source": [
        "##Elipse y circulo\r\n",
        "Aqui calculamos el area de una elipse o de un circulo, siendo este un caso especial de elipse utilizamos la forma \r\n",
        "$$ Area=\\pi\\cdot radio\\:mayor \\cdot radio\\:menor$$\r\n",
        "donde en el caso del circulo el radio mayor y menor son iguales"
      ]
    },
    {
      "cell_type": "code",
      "metadata": {
        "id": "9dePIERRv5ZO"
      },
      "source": [
        "import numpy as np\r\n",
        "#Este codigo es para calcular area de: un círculo y  una elipse.\r\n",
        "def area(x, y):\r\n",
        "    return x*y*np.pi\r\n",
        "print(\"Este codigo te proporciona el area de una elipse \")\r\n",
        "print(\"incluyendo los circulos, si recordamos un circulo \")\r\n",
        "print(\"el caso de una elipse con los dos ejes del mismo tamaño\",end=\"\")\r\n",
        "print(\"\\n¿Cuales son las longitudes de los radios? Inserta tus respuetas \",end=\"\")\r\n",
        "a= float(input())\r\n",
        "b=float(input())\r\n",
        "c=area(a,b)\r\n",
        "print(\"\\nArea = {:.2f}\".format(c))"
      ],
      "execution_count": null,
      "outputs": []
    },
    {
      "cell_type": "markdown",
      "metadata": {
        "id": "I5KbxcUOzsbp"
      },
      "source": [
        "##Volumen de una esfera\r\n",
        "En esta seccion calculamos el volumen de una esfera con la formula \\\\\r\n",
        "$$Area= \\pi \\cdot radio^3 \\cdot (4/3) $$"
      ]
    },
    {
      "cell_type": "code",
      "metadata": {
        "id": "a3wjNF6-tG9K"
      },
      "source": [
        "import numpy as np\r\n",
        "def volumen(x):\r\n",
        "    return (4/3)*(x**3)*(np.pi)\r\n",
        "print(\"Este codigo proporciona el volumen de una esfera de radio conocido \",end=\"\")\r\n",
        "print(\"\\nIngresar el radio de la esfera \")\r\n",
        "r= float(input())\r\n",
        "v= volumen(r)\r\n",
        "print(\"\\nVolumen = {:.2f}\".format(v))"
      ],
      "execution_count": null,
      "outputs": []
    },
    {
      "cell_type": "markdown",
      "metadata": {
        "id": "AoRM_NM6zPbc"
      },
      "source": [
        "##Volumen de un cilindro circular\r\n",
        "En esta seccion calculamos el area de un cilindro circular de radio \"r\" y longitud \"l\" donde el volumen se calcula como\r\n",
        "$$ Volumen = \\pi \\cdot\\ r^2 \\cdot l $$\r\n"
      ]
    },
    {
      "cell_type": "code",
      "metadata": {
        "id": "H1DOAFBM0d-q"
      },
      "source": [
        "import numpy as np\r\n",
        "def vol(x,y):\r\n",
        "    return (np.pi)*(x**2)*y\r\n",
        "print(\"Este programa calcula el volumen de un cilindro circular de radio y altura conocidos\",end=\"\")\r\n",
        "print(\"\\nInserte por favor el radio de la base circular\")\r\n",
        "r=float(input())\r\n",
        "print(\"Inserte la altura del cilindro \",end=\"\")\r\n",
        "l=float(input())\r\n",
        "v=vol(r,l)\r\n",
        "print(\"\\nEl volumen del cilindro es ={:.2f}\".format(v))"
      ],
      "execution_count": null,
      "outputs": []
    }
  ]
}