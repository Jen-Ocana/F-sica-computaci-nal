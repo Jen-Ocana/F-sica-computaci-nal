{
  "nbformat": 4,
  "nbformat_minor": 0,
  "metadata": {
    "colab": {
      "name": "Actividad2.ipynb",
      "provenance": [],
      "collapsed_sections": [
        "SmZ9CV5NsfHk",
        "HYhRcJRatYpa",
        "MmTF7Zn6tl0n",
        "9Y3AA_MTs-q1",
        "HBwT2y3_CbJA"
      ],
      "authorship_tag": "ABX9TyOdirfMKJYi7YBOwofQjqk5",
      "include_colab_link": true
    },
    "kernelspec": {
      "name": "python3",
      "display_name": "Python 3"
    }
  },
  "cells": [
    {
      "cell_type": "markdown",
      "metadata": {
        "id": "view-in-github",
        "colab_type": "text"
      },
      "source": [
        "<a href=\"https://colab.research.google.com/github/Jen-Ocana/Fisica-Computacional-1/blob/master/Actividad2.ipynb\" target=\"_parent\"><img src=\"https://colab.research.google.com/assets/colab-badge.svg\" alt=\"Open In Colab\"/></a>"
      ]
    },
    {
      "cell_type": "markdown",
      "metadata": {
        "id": "zNCFNs28tti8"
      },
      "source": [
        "#***Actividad 2***"
      ]
    },
    {
      "cell_type": "markdown",
      "metadata": {
        "id": "SmZ9CV5NsfHk"
      },
      "source": [
        "##Ejercicio 1\r\n"
      ]
    },
    {
      "cell_type": "markdown",
      "metadata": {
        "id": "iYlf8MO2ksej"
      },
      "source": [
        "###Ejemplo"
      ]
    },
    {
      "cell_type": "code",
      "metadata": {
        "id": "L0nBek2Yto4z"
      },
      "source": [
        "#La primera celda se incluten las bibliotecas a utilzar\r\n",
        "import numpy as np\r\n",
        "#CTRL+ENTER\r\n",
        "\r\n",
        "# Se utiliza el símbolo # para hacer comentarios.\r\n",
        "# Se define una función de 2 variables para calcular el área.  \r\n",
        "def area(x, y):\r\n",
        "    return x*y\r\n",
        "\r\n",
        "print(\"Proporciona el largo y altura del rectángulo: \", end=\"\")\r\n",
        "l = float(input())\r\n",
        "w = float(input())\r\n",
        "a = area(l, w)\r\n",
        "# Imprime el valor del área en formato libre.\r\n",
        "print(\"\\nArea = \", a)\r\n",
        "# Imprime el valor del área con 2 decimales. \r\n",
        "print(\"\\nArea = {:.2f}\".format(a))"
      ],
      "execution_count": null,
      "outputs": []
    },
    {
      "cell_type": "markdown",
      "metadata": {
        "id": "XH5Mx9Thk_UR"
      },
      "source": [
        "###Elipse y circulo\r\n",
        "Aqui calculamos el area de una elipse o de un circulo, siendo este un caso especial de elipse utilizamos la forma \r\n",
        "$$ Area=\\pi\\cdot radio\\:mayor \\cdot radio\\:menor$$\r\n",
        "donde en el caso del circulo el radio mayor y menor son iguales"
      ]
    },
    {
      "cell_type": "code",
      "metadata": {
        "id": "9dePIERRv5ZO"
      },
      "source": [
        "import numpy as np\r\n",
        "#Este codigo es para calcular area de: un círculo y  una elipse.\r\n",
        "def area(x, y):\r\n",
        "    return x*y*np.pi\r\n",
        "print(\"Este codigo te proporciona el area de una elipse \")\r\n",
        "print(\"incluyendo los circulos, si recordamos un circulo \")\r\n",
        "print(\"el caso de una elipse con los dos ejes del mismo tamaño\",end=\"\")\r\n",
        "print(\"\\n¿Cuales son las longitudes de los radios? Inserta tus respuetas \",end=\"\")\r\n",
        "a= float(input())\r\n",
        "b=float(input())\r\n",
        "c=area(a,b)\r\n",
        "print(\"\\nArea = {:.2f}\".format(c))"
      ],
      "execution_count": null,
      "outputs": []
    },
    {
      "cell_type": "markdown",
      "metadata": {
        "id": "I5KbxcUOzsbp"
      },
      "source": [
        "###Volumen de una esfera\r\n",
        "En esta seccion calculamos el volumen de una esfera con la formula \\\\\r\n",
        "$$Area= \\pi \\cdot radio^3 \\cdot (4/3) $$"
      ]
    },
    {
      "cell_type": "code",
      "metadata": {
        "id": "a3wjNF6-tG9K"
      },
      "source": [
        "import numpy as np\r\n",
        "def volumen(x):\r\n",
        "    return (4/3)*(x**3)*(np.pi)\r\n",
        "print(\"Este codigo proporciona el volumen de una esfera de radio conocido \",end=\"\")\r\n",
        "print(\"\\nIngresar el radio de la esfera \")\r\n",
        "r= float(input())\r\n",
        "v= volumen(r)\r\n",
        "print(\"\\nVolumen = {:.2f}\".format(v))"
      ],
      "execution_count": null,
      "outputs": []
    },
    {
      "cell_type": "markdown",
      "metadata": {
        "id": "AoRM_NM6zPbc"
      },
      "source": [
        "###Volumen de un cilindro circular\r\n",
        "En esta seccion calculamos el area de un cilindro circular de radio \"r\" y longitud \"l\" donde el volumen se calcula como\r\n",
        "$$ Volumen = \\pi \\cdot\\ r^2 \\cdot l $$\r\n"
      ]
    },
    {
      "cell_type": "code",
      "metadata": {
        "id": "H1DOAFBM0d-q"
      },
      "source": [
        "import numpy as np\r\n",
        "def vol(x,y):\r\n",
        "    return (np.pi)*(x**2)*y\r\n",
        "print(\"Este programa calcula el volumen de un cilindro circular de radio y altura conocidos\",end=\"\")\r\n",
        "print(\"\\nInserte por favor el radio de la base circular\")\r\n",
        "r=float(input())\r\n",
        "print(\"Inserte la altura del cilindro \",end=\"\")\r\n",
        "l=float(input())\r\n",
        "v=vol(r,l)\r\n",
        "print(\"\\nEl volumen del cilindro es ={:.2f}\".format(v))"
      ],
      "execution_count": null,
      "outputs": []
    },
    {
      "cell_type": "markdown",
      "metadata": {
        "id": "HYhRcJRatYpa"
      },
      "source": [
        "##Ejercicio 2\r\n"
      ]
    },
    {
      "cell_type": "markdown",
      "metadata": {
        "id": "MmTF7Zn6tl0n"
      },
      "source": [
        "###Raices de una ecuacion cuadratica\r\n",
        "En este codigo se buscan las raices reales de una ecuacion de segundo grado de una sola variable utilizando la formula general y las siguientes consideraciones\r\n",
        "$ x= \\frac{-b \\pm \\sqrt {b^2 - 4 \\cdot a \\cdot c}}{2 \\cdot a}$\r\n",
        "\r\n",
        "Y si el determinante $\\sqrt {b^2 - 4 \\cdot a \\cdot c}$\r\n",
        "es menor que 0 quiere decir que las raices son imaginarias, que sea igual a sero quiere decir que hay una sola raiz, y que sea mayor a 0 que hay una raiz positiva y otra negativa."
      ]
    },
    {
      "cell_type": "code",
      "metadata": {
        "id": "JAVhVJXc9NZs"
      },
      "source": [
        "##Raices de una ecuacion cuadratica \r\n",
        "##Utilizaremos el metodo de newton\r\n",
        "import numpy as np\r\n",
        "import sympy as sp\r\n",
        "print(\"Este programa esta hecho para buscar raices de ecuaciones cuadraticas de \")\r\n",
        "print(\"una variable mediante el metodo de Newton\")\r\n",
        "print(\"Ingrese los coefientes de la ec.cuadratica de una variable\")\r\n",
        "print(\"El coeficiente el termino cuadratico\")\r\n",
        "a=float(input())\r\n",
        "print(\"El coeficiente el termino lineal\")\r\n",
        "b=float(input())\r\n",
        "print(\"El coeficiente el termino independiente\")\r\n",
        "c=float(input())\r\n",
        "#Para proceder exponemos los tres casos posibles\r\n",
        "def g(x,y,z):\r\n",
        "    return (-b+np.sqrt((b**(2))-(4*a*c)))/(a*2)\r\n",
        "        \r\n",
        "def ge(x,y,z):\r\n",
        "    return (-b-np.sqrt((b**(2))-(4*a*c)))/(a*2)\r\n",
        "\r\n",
        "if (b**(2)-(4*a*c))<0:\r\n",
        "    print(\"No manejamos numeros imaginarios\")\r\n",
        "    \r\n",
        "elif (b**(2)-(4*a*c)==0):\r\n",
        "     print(f\"La raiz es {g(a,b,c)}\")\r\n",
        "     \r\n",
        "elif (b**(2)-(4*a*c)>0):\r\n",
        "   print(f\"Las raices son {g(a,b,c)} y {ge(a,b,c)}\")\r\n",
        "   \r\n",
        "else:\r\n",
        "    print(\"Un error inesperado a sucedido\")\r\n",
        "    \r\n",
        "\r\n"
      ],
      "execution_count": null,
      "outputs": []
    },
    {
      "cell_type": "markdown",
      "metadata": {
        "id": "9Y3AA_MTs-q1"
      },
      "source": [
        "##Ejercicio 3\r\n"
      ]
    },
    {
      "cell_type": "markdown",
      "metadata": {
        "id": "HBwT2y3_CbJA"
      },
      "source": [
        "###Raiz cuadrada\r\n",
        "Para conseguir la raiz cuadrada del número proporcionado se utiliza el metodo babilonico en el que se hace una primera aproximacion b de modo que si esta no es la raiz se hace un proceso recursivo en el que \r\n",
        "$ b=(1/2) \\cdot ( \\frac{x}{b} +b)$ que termina convergiendo a la raiz del numero en cuestion. "
      ]
    },
    {
      "cell_type": "code",
      "metadata": {
        "id": "-Z4Mx_2kCs4J",
        "colab": {
          "base_uri": "https://localhost:8080/",
          "height": 545
        },
        "outputId": "13d327d5-97a1-4fd3-fe09-ad7a50eb60f2"
      },
      "source": [
        "#Este codigo sirve para calcular una raiz de un numero dado\r\n",
        "import numpy as np\r\n",
        "print(\"Para calcular la raiz cuadrada de un número por favor inserte el número del que desea calcular la raiz\")\r\n",
        "x=float(input())\r\n",
        "print(\"Ingresar un numero, mientras mas cercanos sea mas rapido se llegara a la raiz \")\r\n",
        "b= float(input())\r\n",
        "#h=float(input())\r\n",
        "i=0\r\n",
        "while i==0:\r\n",
        "    if (((x/b)+0.01)>b>((x/b)-0.01)):\r\n",
        "         print(f\"Encontrado {b}, es la raiz\")\r\n",
        "         i=1\r\n",
        "    elif b==(x/b):\r\n",
        "         print(f\"Encontrado {b}, es la raiz\")\r\n",
        "         i=1\r\n",
        "    elif b>x:\r\n",
        "        print(\"Busque otra aproximacion inicial, menor que el numero en cuestion\")\r\n",
        "        break\r\n",
        "    else:\r\n",
        "           b=(1/2)*((x/b)+b)\r\n",
        "           print(\"paso\",b)\r\n",
        "\r\n",
        "print(\"Comparando con \",np.sqrt(x),\" es la obtenida\",end=\"\")\r\n",
        "           \r\n",
        "    \r\n",
        "            \r\n",
        "     \r\n",
        "\r\n"
      ],
      "execution_count": 2,
      "outputs": [
        {
          "output_type": "stream",
          "text": [
            "Para calcular la raiz cuadrada de un número por favor inserte el número del que desea calcular la raiz\n"
          ],
          "name": "stdout"
        },
        {
          "output_type": "error",
          "ename": "KeyboardInterrupt",
          "evalue": "ignored",
          "traceback": [
            "\u001b[0;31m---------------------------------------------------------------------------\u001b[0m",
            "\u001b[0;31mKeyboardInterrupt\u001b[0m                         Traceback (most recent call last)",
            "\u001b[0;32m/usr/local/lib/python3.6/dist-packages/ipykernel/kernelbase.py\u001b[0m in \u001b[0;36m_input_request\u001b[0;34m(self, prompt, ident, parent, password)\u001b[0m\n\u001b[1;32m    728\u001b[0m             \u001b[0;32mtry\u001b[0m\u001b[0;34m:\u001b[0m\u001b[0;34m\u001b[0m\u001b[0;34m\u001b[0m\u001b[0m\n\u001b[0;32m--> 729\u001b[0;31m                 \u001b[0mident\u001b[0m\u001b[0;34m,\u001b[0m \u001b[0mreply\u001b[0m \u001b[0;34m=\u001b[0m \u001b[0mself\u001b[0m\u001b[0;34m.\u001b[0m\u001b[0msession\u001b[0m\u001b[0;34m.\u001b[0m\u001b[0mrecv\u001b[0m\u001b[0;34m(\u001b[0m\u001b[0mself\u001b[0m\u001b[0;34m.\u001b[0m\u001b[0mstdin_socket\u001b[0m\u001b[0;34m,\u001b[0m \u001b[0;36m0\u001b[0m\u001b[0;34m)\u001b[0m\u001b[0;34m\u001b[0m\u001b[0;34m\u001b[0m\u001b[0m\n\u001b[0m\u001b[1;32m    730\u001b[0m             \u001b[0;32mexcept\u001b[0m \u001b[0mException\u001b[0m\u001b[0;34m:\u001b[0m\u001b[0;34m\u001b[0m\u001b[0;34m\u001b[0m\u001b[0m\n",
            "\u001b[0;32m/usr/local/lib/python3.6/dist-packages/jupyter_client/session.py\u001b[0m in \u001b[0;36mrecv\u001b[0;34m(self, socket, mode, content, copy)\u001b[0m\n\u001b[1;32m    802\u001b[0m         \u001b[0;32mtry\u001b[0m\u001b[0;34m:\u001b[0m\u001b[0;34m\u001b[0m\u001b[0;34m\u001b[0m\u001b[0m\n\u001b[0;32m--> 803\u001b[0;31m             \u001b[0mmsg_list\u001b[0m \u001b[0;34m=\u001b[0m \u001b[0msocket\u001b[0m\u001b[0;34m.\u001b[0m\u001b[0mrecv_multipart\u001b[0m\u001b[0;34m(\u001b[0m\u001b[0mmode\u001b[0m\u001b[0;34m,\u001b[0m \u001b[0mcopy\u001b[0m\u001b[0;34m=\u001b[0m\u001b[0mcopy\u001b[0m\u001b[0;34m)\u001b[0m\u001b[0;34m\u001b[0m\u001b[0;34m\u001b[0m\u001b[0m\n\u001b[0m\u001b[1;32m    804\u001b[0m         \u001b[0;32mexcept\u001b[0m \u001b[0mzmq\u001b[0m\u001b[0;34m.\u001b[0m\u001b[0mZMQError\u001b[0m \u001b[0;32mas\u001b[0m \u001b[0me\u001b[0m\u001b[0;34m:\u001b[0m\u001b[0;34m\u001b[0m\u001b[0;34m\u001b[0m\u001b[0m\n",
            "\u001b[0;32m/usr/local/lib/python3.6/dist-packages/zmq/sugar/socket.py\u001b[0m in \u001b[0;36mrecv_multipart\u001b[0;34m(self, flags, copy, track)\u001b[0m\n\u001b[1;32m    565\u001b[0m         \"\"\"\n\u001b[0;32m--> 566\u001b[0;31m         \u001b[0mparts\u001b[0m \u001b[0;34m=\u001b[0m \u001b[0;34m[\u001b[0m\u001b[0mself\u001b[0m\u001b[0;34m.\u001b[0m\u001b[0mrecv\u001b[0m\u001b[0;34m(\u001b[0m\u001b[0mflags\u001b[0m\u001b[0;34m,\u001b[0m \u001b[0mcopy\u001b[0m\u001b[0;34m=\u001b[0m\u001b[0mcopy\u001b[0m\u001b[0;34m,\u001b[0m \u001b[0mtrack\u001b[0m\u001b[0;34m=\u001b[0m\u001b[0mtrack\u001b[0m\u001b[0;34m)\u001b[0m\u001b[0;34m]\u001b[0m\u001b[0;34m\u001b[0m\u001b[0;34m\u001b[0m\u001b[0m\n\u001b[0m\u001b[1;32m    567\u001b[0m         \u001b[0;31m# have first part already, only loop while more to receive\u001b[0m\u001b[0;34m\u001b[0m\u001b[0;34m\u001b[0m\u001b[0;34m\u001b[0m\u001b[0m\n",
            "\u001b[0;32mzmq/backend/cython/socket.pyx\u001b[0m in \u001b[0;36mzmq.backend.cython.socket.Socket.recv\u001b[0;34m()\u001b[0m\n",
            "\u001b[0;32mzmq/backend/cython/socket.pyx\u001b[0m in \u001b[0;36mzmq.backend.cython.socket.Socket.recv\u001b[0;34m()\u001b[0m\n",
            "\u001b[0;32mzmq/backend/cython/socket.pyx\u001b[0m in \u001b[0;36mzmq.backend.cython.socket._recv_copy\u001b[0;34m()\u001b[0m\n",
            "\u001b[0;32m/usr/local/lib/python3.6/dist-packages/zmq/backend/cython/checkrc.pxd\u001b[0m in \u001b[0;36mzmq.backend.cython.checkrc._check_rc\u001b[0;34m()\u001b[0m\n",
            "\u001b[0;31mKeyboardInterrupt\u001b[0m: ",
            "\nDuring handling of the above exception, another exception occurred:\n",
            "\u001b[0;31mKeyboardInterrupt\u001b[0m                         Traceback (most recent call last)",
            "\u001b[0;32m<ipython-input-2-6f293033797d>\u001b[0m in \u001b[0;36m<module>\u001b[0;34m()\u001b[0m\n\u001b[1;32m      2\u001b[0m \u001b[0;32mimport\u001b[0m \u001b[0mnumpy\u001b[0m \u001b[0;32mas\u001b[0m \u001b[0mnp\u001b[0m\u001b[0;34m\u001b[0m\u001b[0;34m\u001b[0m\u001b[0m\n\u001b[1;32m      3\u001b[0m \u001b[0mprint\u001b[0m\u001b[0;34m(\u001b[0m\u001b[0;34m\"Para calcular la raiz cuadrada de un número por favor inserte el número del que desea calcular la raiz\"\u001b[0m\u001b[0;34m)\u001b[0m\u001b[0;34m\u001b[0m\u001b[0;34m\u001b[0m\u001b[0m\n\u001b[0;32m----> 4\u001b[0;31m \u001b[0mx\u001b[0m\u001b[0;34m=\u001b[0m\u001b[0mfloat\u001b[0m\u001b[0;34m(\u001b[0m\u001b[0minput\u001b[0m\u001b[0;34m(\u001b[0m\u001b[0;34m)\u001b[0m\u001b[0;34m)\u001b[0m\u001b[0;34m\u001b[0m\u001b[0;34m\u001b[0m\u001b[0m\n\u001b[0m\u001b[1;32m      5\u001b[0m \u001b[0mprint\u001b[0m\u001b[0;34m(\u001b[0m\u001b[0;34m\"Ingresar un numero, mientras mas cercanos sea mas rapido se llegara a la raiz \"\u001b[0m\u001b[0;34m)\u001b[0m\u001b[0;34m\u001b[0m\u001b[0;34m\u001b[0m\u001b[0m\n\u001b[1;32m      6\u001b[0m \u001b[0mb\u001b[0m\u001b[0;34m=\u001b[0m \u001b[0mfloat\u001b[0m\u001b[0;34m(\u001b[0m\u001b[0minput\u001b[0m\u001b[0;34m(\u001b[0m\u001b[0;34m)\u001b[0m\u001b[0;34m)\u001b[0m\u001b[0;34m\u001b[0m\u001b[0;34m\u001b[0m\u001b[0m\n",
            "\u001b[0;32m/usr/local/lib/python3.6/dist-packages/ipykernel/kernelbase.py\u001b[0m in \u001b[0;36mraw_input\u001b[0;34m(self, prompt)\u001b[0m\n\u001b[1;32m    702\u001b[0m             \u001b[0mself\u001b[0m\u001b[0;34m.\u001b[0m\u001b[0m_parent_ident\u001b[0m\u001b[0;34m,\u001b[0m\u001b[0;34m\u001b[0m\u001b[0;34m\u001b[0m\u001b[0m\n\u001b[1;32m    703\u001b[0m             \u001b[0mself\u001b[0m\u001b[0;34m.\u001b[0m\u001b[0m_parent_header\u001b[0m\u001b[0;34m,\u001b[0m\u001b[0;34m\u001b[0m\u001b[0;34m\u001b[0m\u001b[0m\n\u001b[0;32m--> 704\u001b[0;31m             \u001b[0mpassword\u001b[0m\u001b[0;34m=\u001b[0m\u001b[0;32mFalse\u001b[0m\u001b[0;34m,\u001b[0m\u001b[0;34m\u001b[0m\u001b[0;34m\u001b[0m\u001b[0m\n\u001b[0m\u001b[1;32m    705\u001b[0m         )\n\u001b[1;32m    706\u001b[0m \u001b[0;34m\u001b[0m\u001b[0m\n",
            "\u001b[0;32m/usr/local/lib/python3.6/dist-packages/ipykernel/kernelbase.py\u001b[0m in \u001b[0;36m_input_request\u001b[0;34m(self, prompt, ident, parent, password)\u001b[0m\n\u001b[1;32m    732\u001b[0m             \u001b[0;32mexcept\u001b[0m \u001b[0mKeyboardInterrupt\u001b[0m\u001b[0;34m:\u001b[0m\u001b[0;34m\u001b[0m\u001b[0;34m\u001b[0m\u001b[0m\n\u001b[1;32m    733\u001b[0m                 \u001b[0;31m# re-raise KeyboardInterrupt, to truncate traceback\u001b[0m\u001b[0;34m\u001b[0m\u001b[0;34m\u001b[0m\u001b[0;34m\u001b[0m\u001b[0m\n\u001b[0;32m--> 734\u001b[0;31m                 \u001b[0;32mraise\u001b[0m \u001b[0mKeyboardInterrupt\u001b[0m\u001b[0;34m\u001b[0m\u001b[0;34m\u001b[0m\u001b[0m\n\u001b[0m\u001b[1;32m    735\u001b[0m             \u001b[0;32melse\u001b[0m\u001b[0;34m:\u001b[0m\u001b[0;34m\u001b[0m\u001b[0;34m\u001b[0m\u001b[0m\n\u001b[1;32m    736\u001b[0m                 \u001b[0;32mbreak\u001b[0m\u001b[0;34m\u001b[0m\u001b[0;34m\u001b[0m\u001b[0m\n",
            "\u001b[0;31mKeyboardInterrupt\u001b[0m: "
          ]
        }
      ]
    }
  ]
}